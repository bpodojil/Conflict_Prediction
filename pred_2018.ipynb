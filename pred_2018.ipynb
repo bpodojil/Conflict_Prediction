{
 "cells": [
  {
   "cell_type": "code",
   "execution_count": 1,
   "metadata": {},
   "outputs": [],
   "source": [
    "#Ignore 'Future Warnings'\n",
    "import warnings\n",
    "warnings.filterwarnings(\"ignore\", category=FutureWarning)"
   ]
  },
  {
   "cell_type": "code",
   "execution_count": 2,
   "metadata": {},
   "outputs": [],
   "source": [
    "import os\n",
    "import pandas as pd\n",
    "import numpy as np\n",
    "import scipy\n",
    "import matplotlib.pyplot as plt\n",
    "import sklearn\n",
    "from imblearn.over_sampling import SMOTE\n",
    "from sklearn.preprocessing import StandardScaler\n",
    "from sklearn.decomposition import PCA\n",
    "from sklearn.tree import DecisionTreeRegressor\n",
    "from sklearn.model_selection import train_test_split\n",
    "from sklearn.model_selection import cross_val_score\n",
    "from sklearn.model_selection import StratifiedKFold\n",
    "from sklearn.metrics import classification_report\n",
    "from sklearn.metrics import confusion_matrix\n",
    "from sklearn.metrics import accuracy_score\n",
    "from sklearn.linear_model import LogisticRegression\n",
    "from sklearn.tree import DecisionTreeClassifier\n",
    "from sklearn.neighbors import KNeighborsClassifier\n",
    "from sklearn.discriminant_analysis import LinearDiscriminantAnalysis\n",
    "from sklearn.naive_bayes import GaussianNB\n",
    "from sklearn.svm import SVC\n",
    "from sklearn.metrics import plot_confusion_matrix\n",
    "from sklearn.ensemble import RandomForestClassifier\n",
    "import xgboost as xgb\n",
    "from sklearn.metrics import recall_score\n",
    "from sklearn.metrics import f1_score"
   ]
  },
  {
   "cell_type": "code",
   "execution_count": 3,
   "metadata": {},
   "outputs": [],
   "source": [
    "#Set Psudeorandom Seed\n",
    "seed = 42"
   ]
  },
  {
   "cell_type": "code",
   "execution_count": 4,
   "metadata": {},
   "outputs": [],
   "source": [
    "model = SVC(random_state = seed, probability=True)"
   ]
  },
  {
   "cell_type": "code",
   "execution_count": 5,
   "metadata": {},
   "outputs": [],
   "source": [
    "dum = pd.read_excel ('1y_offset.xlsx',index_col=0,na_values=['..'])\n",
    "\n",
    "year_dummies = pd.get_dummies(dum.year, prefix='year').iloc[:,1:]\n",
    "region_dummies = pd.get_dummies(dum.region, prefix='region').iloc[:,1:]\n",
    "country_dummies = pd.get_dummies(dum.ccode, prefix='country: ').iloc[:,1:]"
   ]
  },
  {
   "cell_type": "code",
   "execution_count": 6,
   "metadata": {},
   "outputs": [],
   "source": [
    "files = []\n",
    "\n",
    "files.append(('con_1.xlsx','con_1'))\n",
    "files.append(('con_2.xlsx','con_2'))\n",
    "files.append(('con_3.xlsx','con_2'))"
   ]
  },
  {
   "cell_type": "code",
   "execution_count": 7,
   "metadata": {},
   "outputs": [],
   "source": [
    "file2 = 'pred_2018.xlsx'\n",
    "df_pred = pd.read_excel (file2,index_col=0,na_values=['..'])\n",
    "#df_pred = pd.concat([df_pred, year_dummies, region_dummies, country_dummies], axis = 1)\n",
    "\n",
    "array2 = df_pred.values\n",
    "X_pred = array2[:,4:]\n",
    "X_pred = StandardScaler().fit_transform(X_pred)"
   ]
  },
  {
   "cell_type": "code",
   "execution_count": 8,
   "metadata": {},
   "outputs": [],
   "source": [
    "results = df_pred[['ccode']].copy()\n",
    "index = results.index"
   ]
  },
  {
   "cell_type": "code",
   "execution_count": 9,
   "metadata": {},
   "outputs": [
    {
     "name": "stdout",
     "output_type": "stream",
     "text": [
      "[[971  32]\n",
      " [ 57 184]]\n",
      "\n",
      "\n",
      "[[1101   17]\n",
      " [  48   78]]\n",
      "\n",
      "\n",
      "[[963  48]\n",
      " [ 73 160]]\n",
      "\n",
      "\n",
      "saved to results.xlsx\n"
     ]
    }
   ],
   "source": [
    "for file, name in files:\n",
    "    \n",
    "    df = pd.read_excel (file,index_col=0,na_values=['..'])\n",
    "    #df = pd.concat([df, year_dummies, region_dummies, country_dummies])\n",
    "\n",
    "    #Create testing and training sets\n",
    "    array = df.values\n",
    "\n",
    "    #Create X array\n",
    "    X= array[:,4:]\n",
    "\n",
    "    # Standardizing the features\n",
    "    X = StandardScaler().fit_transform(X)\n",
    "\n",
    "    #Create Y array\n",
    "    Y= array[:,3]\n",
    "    Y=Y.astype('int')\n",
    "\n",
    "    #Training/Test Split\n",
    "    X_train, X_validation, Y_train, Y_validation = train_test_split(X,Y,test_size=0.2,random_state=seed)\n",
    "    \n",
    "    #Impliment SMOTE\n",
    "    sm = SMOTE(random_state = seed) \n",
    "    X_train_smote, Y_train_smote = sm.fit_sample(X_train, Y_train)\n",
    "\n",
    "    # Make predictions on validation dataset\n",
    "    name_model = model\n",
    "    name_model.fit(X_train, Y_train)\n",
    "    predictions = name_model.predict(X_validation)\n",
    "    print(confusion_matrix(Y_validation, predictions))\n",
    "    print('')\n",
    "    print('')\n",
    "    pred = name_model.predict_proba(X_pred)\n",
    "\n",
    "    df_pred = pd.DataFrame({'Con_0':pred[:,0],'Con_1': pred[:,1]}, index=index)\n",
    "    results = pd.concat([results, df_pred], axis=1)\n",
    "\n",
    "results.columns = ['Country', 'No State Based', 'State Based', 'No Nonstate', 'Nonstate', 'No One-Sided', 'One-Sided']\n",
    "\n",
    "target = 'results.xlsx'\n",
    "results.to_excel(target)\n",
    "print('saved to '+target )"
   ]
  },
  {
   "cell_type": "code",
   "execution_count": null,
   "metadata": {},
   "outputs": [],
   "source": []
  },
  {
   "cell_type": "code",
   "execution_count": null,
   "metadata": {},
   "outputs": [],
   "source": []
  }
 ],
 "metadata": {
  "kernelspec": {
   "display_name": "Python 3",
   "language": "python",
   "name": "python3"
  },
  "language_info": {
   "codemirror_mode": {
    "name": "ipython",
    "version": 3
   },
   "file_extension": ".py",
   "mimetype": "text/x-python",
   "name": "python",
   "nbconvert_exporter": "python",
   "pygments_lexer": "ipython3",
   "version": "3.7.1"
  }
 },
 "nbformat": 4,
 "nbformat_minor": 4
}
