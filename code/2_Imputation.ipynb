{
 "cells": [
  {
   "cell_type": "markdown",
   "metadata": {},
   "source": [
    "# Import Packages and create/verify dataframe."
   ]
  },
  {
   "cell_type": "code",
   "execution_count": 1,
   "metadata": {},
   "outputs": [],
   "source": [
    "#import necessary packages\n",
    "import pandas as pd\n",
    "from tqdm import tqdm\n",
    "import numpy as np\n",
    "from sklearn.linear_model import LinearRegression\n",
    "from sklearn.tree import DecisionTreeRegressor\n",
    "import matplotlib.pyplot as plt"
   ]
  },
  {
   "cell_type": "code",
   "execution_count": 2,
   "metadata": {},
   "outputs": [
    {
     "name": "stdout",
     "output_type": "stream",
     "text": [
      "file uploaded\n"
     ]
    }
   ],
   "source": [
    "#Create the dataframe\n",
    "file = '../data/impute_ready.xlsx'\n",
    "df = pd.read_excel (file,index_col=0)\n",
    "print('file uploaded')"
   ]
  },
  {
   "cell_type": "code",
   "execution_count": 3,
   "metadata": {
    "scrolled": true
   },
   "outputs": [
    {
     "data": {
      "text/html": [
       "<div>\n",
       "<style scoped>\n",
       "    .dataframe tbody tr th:only-of-type {\n",
       "        vertical-align: middle;\n",
       "    }\n",
       "\n",
       "    .dataframe tbody tr th {\n",
       "        vertical-align: top;\n",
       "    }\n",
       "\n",
       "    .dataframe thead th {\n",
       "        text-align: right;\n",
       "    }\n",
       "</style>\n",
       "<table border=\"1\" class=\"dataframe\">\n",
       "  <thead>\n",
       "    <tr style=\"text-align: right;\">\n",
       "      <th></th>\n",
       "      <th>ccode</th>\n",
       "      <th>year</th>\n",
       "      <th>country</th>\n",
       "      <th>region</th>\n",
       "      <th>con_ev_1</th>\n",
       "      <th>con_ev_2</th>\n",
       "      <th>con_ev_3</th>\n",
       "      <th>total_ev</th>\n",
       "      <th>con_in_1</th>\n",
       "      <th>con_in_2</th>\n",
       "      <th>...</th>\n",
       "      <th>rule_law</th>\n",
       "      <th>con1_next</th>\n",
       "      <th>con2_next</th>\n",
       "      <th>con3_next</th>\n",
       "      <th>con5_next</th>\n",
       "      <th>con10_next</th>\n",
       "      <th>con1_1_next</th>\n",
       "      <th>con1_2_next</th>\n",
       "      <th>con1_3_next</th>\n",
       "      <th>con_last3</th>\n",
       "    </tr>\n",
       "    <tr>\n",
       "      <th>index</th>\n",
       "      <th></th>\n",
       "      <th></th>\n",
       "      <th></th>\n",
       "      <th></th>\n",
       "      <th></th>\n",
       "      <th></th>\n",
       "      <th></th>\n",
       "      <th></th>\n",
       "      <th></th>\n",
       "      <th></th>\n",
       "      <th></th>\n",
       "      <th></th>\n",
       "      <th></th>\n",
       "      <th></th>\n",
       "      <th></th>\n",
       "      <th></th>\n",
       "      <th></th>\n",
       "      <th></th>\n",
       "      <th></th>\n",
       "      <th></th>\n",
       "      <th></th>\n",
       "    </tr>\n",
       "  </thead>\n",
       "  <tbody>\n",
       "    <tr>\n",
       "      <th>ABW1989</th>\n",
       "      <td>ABW</td>\n",
       "      <td>1989</td>\n",
       "      <td>Aruba</td>\n",
       "      <td>Latin America &amp; Caribbean</td>\n",
       "      <td>0</td>\n",
       "      <td>0</td>\n",
       "      <td>0</td>\n",
       "      <td>0</td>\n",
       "      <td>0</td>\n",
       "      <td>0</td>\n",
       "      <td>...</td>\n",
       "      <td>NaN</td>\n",
       "      <td>0.0</td>\n",
       "      <td>0.0</td>\n",
       "      <td>0.0</td>\n",
       "      <td>0.0</td>\n",
       "      <td>0.0</td>\n",
       "      <td>0.0</td>\n",
       "      <td>0.0</td>\n",
       "      <td>0.0</td>\n",
       "      <td>NaN</td>\n",
       "    </tr>\n",
       "    <tr>\n",
       "      <th>ABW1990</th>\n",
       "      <td>ABW</td>\n",
       "      <td>1990</td>\n",
       "      <td>Aruba</td>\n",
       "      <td>Latin America &amp; Caribbean</td>\n",
       "      <td>0</td>\n",
       "      <td>0</td>\n",
       "      <td>0</td>\n",
       "      <td>0</td>\n",
       "      <td>0</td>\n",
       "      <td>0</td>\n",
       "      <td>...</td>\n",
       "      <td>NaN</td>\n",
       "      <td>0.0</td>\n",
       "      <td>0.0</td>\n",
       "      <td>0.0</td>\n",
       "      <td>0.0</td>\n",
       "      <td>0.0</td>\n",
       "      <td>0.0</td>\n",
       "      <td>0.0</td>\n",
       "      <td>0.0</td>\n",
       "      <td>NaN</td>\n",
       "    </tr>\n",
       "    <tr>\n",
       "      <th>ABW1991</th>\n",
       "      <td>ABW</td>\n",
       "      <td>1991</td>\n",
       "      <td>Aruba</td>\n",
       "      <td>Latin America &amp; Caribbean</td>\n",
       "      <td>0</td>\n",
       "      <td>0</td>\n",
       "      <td>0</td>\n",
       "      <td>0</td>\n",
       "      <td>0</td>\n",
       "      <td>0</td>\n",
       "      <td>...</td>\n",
       "      <td>NaN</td>\n",
       "      <td>0.0</td>\n",
       "      <td>0.0</td>\n",
       "      <td>0.0</td>\n",
       "      <td>0.0</td>\n",
       "      <td>0.0</td>\n",
       "      <td>0.0</td>\n",
       "      <td>0.0</td>\n",
       "      <td>0.0</td>\n",
       "      <td>0.0</td>\n",
       "    </tr>\n",
       "    <tr>\n",
       "      <th>ABW1992</th>\n",
       "      <td>ABW</td>\n",
       "      <td>1992</td>\n",
       "      <td>Aruba</td>\n",
       "      <td>Latin America &amp; Caribbean</td>\n",
       "      <td>0</td>\n",
       "      <td>0</td>\n",
       "      <td>0</td>\n",
       "      <td>0</td>\n",
       "      <td>0</td>\n",
       "      <td>0</td>\n",
       "      <td>...</td>\n",
       "      <td>NaN</td>\n",
       "      <td>0.0</td>\n",
       "      <td>0.0</td>\n",
       "      <td>0.0</td>\n",
       "      <td>0.0</td>\n",
       "      <td>0.0</td>\n",
       "      <td>0.0</td>\n",
       "      <td>0.0</td>\n",
       "      <td>0.0</td>\n",
       "      <td>0.0</td>\n",
       "    </tr>\n",
       "    <tr>\n",
       "      <th>ABW1993</th>\n",
       "      <td>ABW</td>\n",
       "      <td>1993</td>\n",
       "      <td>Aruba</td>\n",
       "      <td>Latin America &amp; Caribbean</td>\n",
       "      <td>0</td>\n",
       "      <td>0</td>\n",
       "      <td>0</td>\n",
       "      <td>0</td>\n",
       "      <td>0</td>\n",
       "      <td>0</td>\n",
       "      <td>...</td>\n",
       "      <td>NaN</td>\n",
       "      <td>0.0</td>\n",
       "      <td>0.0</td>\n",
       "      <td>0.0</td>\n",
       "      <td>0.0</td>\n",
       "      <td>0.0</td>\n",
       "      <td>0.0</td>\n",
       "      <td>0.0</td>\n",
       "      <td>0.0</td>\n",
       "      <td>0.0</td>\n",
       "    </tr>\n",
       "  </tbody>\n",
       "</table>\n",
       "<p>5 rows × 98 columns</p>\n",
       "</div>"
      ],
      "text/plain": [
       "        ccode  year country                     region  con_ev_1  con_ev_2  \\\n",
       "index                                                                        \n",
       "ABW1989   ABW  1989   Aruba  Latin America & Caribbean         0         0   \n",
       "ABW1990   ABW  1990   Aruba  Latin America & Caribbean         0         0   \n",
       "ABW1991   ABW  1991   Aruba  Latin America & Caribbean         0         0   \n",
       "ABW1992   ABW  1992   Aruba  Latin America & Caribbean         0         0   \n",
       "ABW1993   ABW  1993   Aruba  Latin America & Caribbean         0         0   \n",
       "\n",
       "         con_ev_3  total_ev  con_in_1  con_in_2  ...  rule_law  con1_next  \\\n",
       "index                                            ...                        \n",
       "ABW1989         0         0         0         0  ...       NaN        0.0   \n",
       "ABW1990         0         0         0         0  ...       NaN        0.0   \n",
       "ABW1991         0         0         0         0  ...       NaN        0.0   \n",
       "ABW1992         0         0         0         0  ...       NaN        0.0   \n",
       "ABW1993         0         0         0         0  ...       NaN        0.0   \n",
       "\n",
       "         con2_next  con3_next  con5_next  con10_next  con1_1_next  \\\n",
       "index                                                               \n",
       "ABW1989        0.0        0.0        0.0         0.0          0.0   \n",
       "ABW1990        0.0        0.0        0.0         0.0          0.0   \n",
       "ABW1991        0.0        0.0        0.0         0.0          0.0   \n",
       "ABW1992        0.0        0.0        0.0         0.0          0.0   \n",
       "ABW1993        0.0        0.0        0.0         0.0          0.0   \n",
       "\n",
       "         con1_2_next  con1_3_next  con_last3  \n",
       "index                                         \n",
       "ABW1989          0.0          0.0        NaN  \n",
       "ABW1990          0.0          0.0        NaN  \n",
       "ABW1991          0.0          0.0        0.0  \n",
       "ABW1992          0.0          0.0        0.0  \n",
       "ABW1993          0.0          0.0        0.0  \n",
       "\n",
       "[5 rows x 98 columns]"
      ]
     },
     "execution_count": 3,
     "metadata": {},
     "output_type": "execute_result"
    }
   ],
   "source": [
    "#print first five entries in DF to verify\n",
    "df.head()"
   ]
  },
  {
   "cell_type": "code",
   "execution_count": 4,
   "metadata": {},
   "outputs": [
    {
     "name": "stdout",
     "output_type": "stream",
     "text": [
      "<class 'pandas.core.frame.DataFrame'>\n",
      "Index: 6363 entries, ABW1989 to ZWE2018\n",
      "Data columns (total 98 columns):\n",
      " #   Column        Non-Null Count  Dtype  \n",
      "---  ------        --------------  -----  \n",
      " 0   ccode         6363 non-null   object \n",
      " 1   year          6363 non-null   int64  \n",
      " 2   country       6363 non-null   object \n",
      " 3   region        6363 non-null   object \n",
      " 4   con_ev_1      6363 non-null   int64  \n",
      " 5   con_ev_2      6363 non-null   int64  \n",
      " 6   con_ev_3      6363 non-null   int64  \n",
      " 7   total_ev      6363 non-null   int64  \n",
      " 8   con_in_1      6363 non-null   int64  \n",
      " 9   con_in_2      6363 non-null   int64  \n",
      " 10  con_in_3      6363 non-null   int64  \n",
      " 11  con_in        6363 non-null   int64  \n",
      " 12  net_gs        4825 non-null   float64\n",
      " 13  imp_gs        5277 non-null   float64\n",
      " 14  gdp_cap       5809 non-null   float64\n",
      " 15  gdp_cap_gr    5769 non-null   float64\n",
      " 16  exp_gs        5277 non-null   float64\n",
      " 17  inf           4885 non-null   float64\n",
      " 18  out_sch_a     2006 non-null   float64\n",
      " 19  out_sch_af    1589 non-null   float64\n",
      " 20  out_sch_am    1582 non-null   float64\n",
      " 21  out_sch_c     3056 non-null   float64\n",
      " 22  out_sch_cf    2191 non-null   float64\n",
      " 23  out_sch_cm    2191 non-null   float64\n",
      " 24  hs_grad_f     934 non-null    float64\n",
      " 25  hs_grad_m     934 non-null    float64\n",
      " 26  hs_grad       937 non-null    float64\n",
      " 27  gov_ed        2790 non-null   float64\n",
      " 28  lit_r_f       780 non-null    float64\n",
      " 29  lit_r_m       781 non-null    float64\n",
      " 30  lit_r         783 non-null    float64\n",
      " 31  acc_tech      3177 non-null   float64\n",
      " 32  acc_ele       4868 non-null   float64\n",
      " 33  acc_ele_r     4843 non-null   float64\n",
      " 34  acc_ele_u     4868 non-null   float64\n",
      " 35  ag_pct        5645 non-null   float64\n",
      " 36  wtr_wth       519 non-null    float64\n",
      " 37  arable_pct    5588 non-null   float64\n",
      " 38  forest_pct    5536 non-null   float64\n",
      " 39  low_land_pct  520 non-null    float64\n",
      " 40  wtr_str       189 non-null    float64\n",
      " 41  min_rent      5605 non-null   float64\n",
      " 42  nat_gas_rent  5332 non-null   float64\n",
      " 43  oil_rent      5339 non-null   float64\n",
      " 44  pop_den       6270 non-null   float64\n",
      " 45  pop_den_low   520 non-null    float64\n",
      " 46  pop_slum      433 non-null    float64\n",
      " 47  pop_rural     6314 non-null   float64\n",
      " 48  pop_urb       6314 non-null   float64\n",
      " 49  death_nonc    724 non-null    float64\n",
      " 50  death_c       724 non-null    float64\n",
      " 51  sev_wast      578 non-null    float64\n",
      " 52  stunt         751 non-null    float64\n",
      " 53  under_n       2944 non-null   float64\n",
      " 54  under_w       770 non-null    float64\n",
      " 55  pop_grow      6339 non-null   float64\n",
      " 56  price_diesel  1812 non-null   float64\n",
      " 57  price_gas     1830 non-null   float64\n",
      " 58  phone_fixed   6066 non-null   float64\n",
      " 59  pop_internet  4969 non-null   float64\n",
      " 60  phone_cell    5965 non-null   float64\n",
      " 61  mig_net       1148 non-null   float64\n",
      " 62  unemp         5159 non-null   float64\n",
      " 63  unemp_m       5159 non-null   float64\n",
      " 64  vul_emp_m     5159 non-null   float64\n",
      " 65  lf_rt_f       5321 non-null   float64\n",
      " 66  lf_rt_m       5321 non-null   float64\n",
      " 67  lf_rt_tot     5321 non-null   float64\n",
      " 68  pop_tot       6343 non-null   float64\n",
      " 69  gini          1395 non-null   float64\n",
      " 70  pov_hc        765 non-null    float64\n",
      " 71  mil_exp       4304 non-null   float64\n",
      " 72  idp_conflict  281 non-null    float64\n",
      " 73  idp_disaster  1069 non-null   float64\n",
      " 74  af_pers       4492 non-null   float64\n",
      " 75  rugged        6153 non-null   float64\n",
      " 76  rugged_popw   6153 non-null   float64\n",
      " 77  rugged_pc     6153 non-null   float64\n",
      " 78  land_area     6123 non-null   float64\n",
      " 79  soil          6123 non-null   float64\n",
      " 80  desert        6153 non-null   float64\n",
      " 81  tropical      6153 non-null   float64\n",
      " 82  near_coast    6153 non-null   float64\n",
      " 83  gemstones     6153 non-null   float64\n",
      " 84  polity2       4767 non-null   float64\n",
      " 85  durable       4829 non-null   float64\n",
      " 86  parcomp       4767 non-null   float64\n",
      " 87  corrupt       1069 non-null   float64\n",
      " 88  rule_law      1069 non-null   float64\n",
      " 89  con1_next     6147 non-null   float64\n",
      " 90  con2_next     5931 non-null   float64\n",
      " 91  con3_next     5715 non-null   float64\n",
      " 92  con5_next     5283 non-null   float64\n",
      " 93  con10_next    4205 non-null   float64\n",
      " 94  con1_1_next   6147 non-null   float64\n",
      " 95  con1_2_next   6147 non-null   float64\n",
      " 96  con1_3_next   6147 non-null   float64\n",
      " 97  con_last3     5982 non-null   float64\n",
      "dtypes: float64(86), int64(9), object(3)\n",
      "memory usage: 4.8+ MB\n"
     ]
    }
   ],
   "source": [
    "#verify object type and null count\n",
    "df.info()"
   ]
  },
  {
   "cell_type": "markdown",
   "metadata": {},
   "source": [
    "# Imputation Process"
   ]
  },
  {
   "attachments": {
    "image.png": {
     "image/png": "[encoded data removed]"
    }
   },
   "cell_type": "markdown",
   "metadata": {},
   "source": [
    "## The chart below demonstrates the general flow chart for this imputation process. \n",
    "\n",
    "![image.png](attachment:image.png)"
   ]
  },
  {
   "cell_type": "markdown",
   "metadata": {},
   "source": [
    "## First I establish lists of countries, regions, and quantitative columns to iterate through."
   ]
  },
  {
   "cell_type": "code",
   "execution_count": 5,
   "metadata": {},
   "outputs": [
    {
     "name": "stdout",
     "output_type": "stream",
     "text": [
      "7\n",
      "\n",
      "['Latin America & Caribbean' 'South Asia' 'Sub-Saharan Africa'\n",
      " 'Europe & Central Asia' 'Middle East & North Africa'\n",
      " 'East Asia & Pacific' 'North America']\n",
      "\n",
      "216\n",
      "\n",
      "['con_ev_1', 'con_ev_2', 'con_ev_3', 'total_ev', 'con_in_1', 'con_in_2', 'con_in_3', 'con_in', 'net_gs', 'imp_gs', 'gdp_cap', 'gdp_cap_gr', 'exp_gs', 'inf', 'out_sch_a', 'out_sch_af', 'out_sch_am', 'out_sch_c', 'out_sch_cf', 'out_sch_cm', 'hs_grad_f', 'hs_grad_m', 'hs_grad', 'gov_ed', 'lit_r_f', 'lit_r_m', 'lit_r', 'acc_tech', 'acc_ele', 'acc_ele_r', 'acc_ele_u', 'ag_pct', 'wtr_wth', 'arable_pct', 'forest_pct', 'low_land_pct', 'wtr_str', 'min_rent', 'nat_gas_rent', 'oil_rent', 'pop_den', 'pop_den_low', 'pop_slum', 'pop_rural', 'pop_urb', 'death_nonc', 'death_c', 'sev_wast', 'stunt', 'under_n', 'under_w', 'pop_grow', 'price_diesel', 'price_gas', 'phone_fixed', 'pop_internet', 'phone_cell', 'mig_net', 'unemp', 'unemp_m', 'vul_emp_m', 'lf_rt_f', 'lf_rt_m', 'lf_rt_tot', 'pop_tot', 'gini', 'pov_hc', 'mil_exp', 'idp_conflict', 'idp_disaster', 'af_pers', 'rugged', 'rugged_popw', 'rugged_pc', 'land_area', 'soil', 'desert', 'tropical', 'near_coast', 'gemstones', 'polity2', 'durable', 'parcomp', 'corrupt', 'rule_law', 'con1_next', 'con2_next', 'con3_next', 'con5_next', 'con10_next', 'con1_1_next', 'con1_2_next', 'con1_3_next', 'con_last3']\n"
     ]
    }
   ],
   "source": [
    "#create list containing all country abbreviations\n",
    "countries = df.ccode.unique()\n",
    "\n",
    "#create list containing all regions\n",
    "regions =df.region.unique()\n",
    "\n",
    "#create a list of all predictor variable columns\n",
    "columns=list(df)\n",
    "\n",
    "#This removes the four qualitative columns\n",
    "unwanted = range(4) \n",
    "for ele in sorted(unwanted, reverse = True):\n",
    "    del columns[ele] \n",
    "\n",
    "#Prints the number of countries, names and number of regions, and names of columns for verification\n",
    "print(len(regions))\n",
    "print()\n",
    "print(regions)\n",
    "print()\n",
    "print(len(countries))\n",
    "print()\n",
    "print(columns)"
   ]
  },
  {
   "cell_type": "markdown",
   "metadata": {},
   "source": [
    "## Initializing the linear regression and decision tree models I use to impute values."
   ]
  },
  {
   "cell_type": "code",
   "execution_count": 6,
   "metadata": {},
   "outputs": [],
   "source": [
    "#initialize linear and decision tree regressions for calling later\n",
    "reg=LinearRegression()\n",
    "dreg = DecisionTreeRegressor()"
   ]
  },
  {
   "cell_type": "markdown",
   "metadata": {},
   "source": [
    "## This section calculates the weighted global average for each column. \n",
    "\n",
    "### I use 60% to reflect the groups previous assumption that missing values are likely negatively correlated with level of development.\n",
    "### The weighted global mean is only used in a few variables for North America. None of these variables are used in the alternative specification so this assumption has no resulting impact on final findings."
   ]
  },
  {
   "cell_type": "code",
   "execution_count": 7,
   "metadata": {},
   "outputs": [
    {
     "name": "stdout",
     "output_type": "stream",
     "text": [
      "con_ev_1 complete\n",
      "con_ev_2 complete\n",
      "con_ev_3 complete\n",
      "total_ev complete\n",
      "con_in_1 complete\n",
      "con_in_2 complete\n",
      "con_in_3 complete\n",
      "con_in complete\n",
      "net_gs complete\n",
      "imp_gs complete\n",
      "gdp_cap complete\n",
      "gdp_cap_gr complete\n",
      "exp_gs complete\n",
      "inf complete\n",
      "out_sch_a complete\n",
      "out_sch_af complete\n",
      "out_sch_am complete\n",
      "out_sch_c complete\n",
      "out_sch_cf complete\n",
      "out_sch_cm complete\n",
      "hs_grad_f complete\n",
      "hs_grad_m complete\n",
      "hs_grad complete\n",
      "gov_ed complete\n",
      "lit_r_f complete\n",
      "lit_r_m complete\n",
      "lit_r complete\n",
      "acc_tech complete\n",
      "acc_ele complete\n",
      "acc_ele_r complete\n",
      "acc_ele_u complete\n",
      "ag_pct complete\n",
      "wtr_wth complete\n",
      "arable_pct complete\n",
      "forest_pct complete\n",
      "low_land_pct complete\n",
      "wtr_str complete\n",
      "min_rent complete\n",
      "nat_gas_rent complete\n",
      "oil_rent complete\n",
      "pop_den complete\n",
      "pop_den_low complete\n",
      "pop_slum complete\n",
      "pop_rural complete\n",
      "pop_urb complete\n",
      "death_nonc complete\n",
      "death_c complete\n",
      "sev_wast complete\n",
      "stunt complete\n",
      "under_n complete\n",
      "under_w complete\n",
      "pop_grow complete\n",
      "price_diesel complete\n",
      "price_gas complete\n",
      "phone_fixed complete\n",
      "pop_internet complete\n",
      "phone_cell complete\n",
      "mig_net complete\n",
      "unemp complete\n",
      "unemp_m complete\n",
      "vul_emp_m complete\n",
      "lf_rt_f complete\n",
      "lf_rt_m complete\n",
      "lf_rt_tot complete\n",
      "pop_tot complete\n",
      "gini complete\n",
      "pov_hc complete\n",
      "mil_exp complete\n",
      "idp_conflict complete\n",
      "idp_disaster complete\n",
      "af_pers complete\n",
      "rugged complete\n",
      "rugged_popw complete\n",
      "rugged_pc complete\n",
      "land_area complete\n",
      "soil complete\n",
      "desert complete\n",
      "tropical complete\n",
      "near_coast complete\n",
      "gemstones complete\n",
      "polity2 complete\n",
      "durable complete\n",
      "parcomp complete\n",
      "corrupt complete\n",
      "rule_law complete\n",
      "con1_next complete\n",
      "con2_next complete\n",
      "con3_next complete\n",
      "con5_next complete\n",
      "con10_next complete\n",
      "con1_1_next complete\n",
      "con1_2_next complete\n",
      "con1_3_next complete\n",
      "con_last3 complete\n"
     ]
    }
   ],
   "source": [
    "#calculate the global average value and weights it to 60% based on the assumption that missing data is correlated with the level of country development.\n",
    "for column in columns:\n",
    "    df[column+'_global_qd']= df[[column]].mean(axis=1)*0.6\n",
    "    print(column+' complete')"
   ]
  },
  {
   "cell_type": "markdown",
   "metadata": {},
   "source": [
    "## This section predicts yearly values for each variable at the regional level"
   ]
  },
  {
   "cell_type": "code",
   "execution_count": 8,
   "metadata": {},
   "outputs": [
    {
     "name": "stdout",
     "output_type": "stream",
     "text": [
      "working on Latin America & Caribbean\n",
      "working on South Asia\n",
      "working on Sub-Saharan Africa\n",
      "working on Europe & Central Asia\n",
      "working on Middle East & North Africa\n",
      "working on East Asia & Pacific\n",
      "working on North America\n"
     ]
    }
   ],
   "source": [
    "#impute the predicted values at the region level\n",
    "for region in regions:\n",
    "    df_sub=df[df.region == region]\n",
    "    print('working on '+region)\n",
    "    for column in columns:\n",
    "        df_col=df_sub.loc[:,{'region','year',column}]\n",
    "        count_na=sum(pd.isnull(df_col[column]))\n",
    "        count_value=sum(pd.notnull(df_col[column]))\n",
    "        if count_value>0:\n",
    "            df_reg=df_col.dropna()\n",
    "            reg.fit(df_reg[['year']],df_reg[[column]])\n",
    "            r = reg.predict(df[['year']])\n",
    "            dreg.fit(df_reg[['year']],df_reg[[column]])\n",
    "            d = dreg.predict(df[['year']])\n",
    "            df['rlr_qd'] = r\n",
    "            df['rdt_qd'] = d\n",
    "            df[column+'_rpred_qd'] = df[['rdt_qd','rlr_qd']].mean(axis=1)"
   ]
  },
  {
   "cell_type": "markdown",
   "metadata": {},
   "source": [
    "## This section predicts yearly values for each variable at the country level.\n",
    "\n",
    "### It also subsititues the imputed country, region, or global values for missing values in the dataframe."
   ]
  },
  {
   "cell_type": "code",
   "execution_count": 9,
   "metadata": {
    "scrolled": false
   },
   "outputs": [
    {
     "name": "stderr",
     "output_type": "stream",
     "text": [
      "100%|██████████████████████████████████████████████████████████████████████████████| 216/216 [1:37:15<00:00, 27.02s/it]\n"
     ]
    }
   ],
   "source": [
    "#impute the values at the country level\n",
    "for country in tqdm(countries):\n",
    "    df_sub=df[df.ccode == country]\n",
    "    #print('working on '+country)\n",
    "    for column in columns:\n",
    "        df_col=df_sub.loc[:,{'ccode','year',column}]\n",
    "        count_na=sum(pd.isnull(df_col[column]))\n",
    "        count_value=sum(pd.notnull(df_col[column]))\n",
    "        \n",
    "        #If some values at the country level are available, impute based on those values.\n",
    "        if count_value>0:\n",
    "            df_reg=df_col.dropna()\n",
    "            reg.fit(df_reg[['year']],df_reg[[column]])\n",
    "            r = reg.predict(df[['year']])\n",
    "            dreg.fit(df_reg[['year']],df_reg[[column]])\n",
    "            d = dreg.predict(df[['year']])\n",
    "            df['lr_qd'] = r\n",
    "            df['dt_qd'] = d\n",
    "            df['pred_qd'] = df[['dt_qd','lr_qd']].mean(axis=1)\n",
    "            df[[column]]=df.apply(lambda row: row['pred_qd'] if np.isnan(row[column]) else row[column], axis=1)\n",
    "        \n",
    "        \n",
    "        else:\n",
    "            #If no values are available at the country level we take the regional imputed values.\n",
    "            if sum(pd.notnull(df[column+'_rpred_qd']))>0:\n",
    "                df[[column]]=df.apply(lambda row: row[column+'_rpred_qd'] if np.isnan(row[column]) else row[column], axis=1)\n",
    "            \n",
    "            #Finally, if regional values are not available, then we take the scaled global mean\n",
    "            else:\n",
    "                df[[column]]=df.apply(lambda row: row[column+'_global_qd'] if np.isnan(row[column]) else row[column], axis=1)"
   ]
  },
  {
   "cell_type": "code",
   "execution_count": 10,
   "metadata": {},
   "outputs": [
    {
     "name": "stdout",
     "output_type": "stream",
     "text": [
      "extra columns dropped\n"
     ]
    }
   ],
   "source": [
    "#remove all columns created for calculations. To do so, I ended the name all columns eventually to be removed with \"qd\"\n",
    "df.columns.str.endswith('qd')\n",
    "df=df.loc[:,~df.columns.str.endswith('qd')]\n",
    "print('extra columns dropped')"
   ]
  },
  {
   "cell_type": "markdown",
   "metadata": {},
   "source": [
    "# Calculates the summary stats for the imputed data. \n",
    "### Three variables result in measurements that do not make sense (the minimum is a negative number when no negative value is possible)... Underweight, Cell Phone Access, Internet Access. \n",
    "### None of these variables are used in either the base nore alternative specifications."
   ]
  },
  {
   "cell_type": "code",
   "execution_count": 11,
   "metadata": {},
   "outputs": [
    {
     "name": "stdout",
     "output_type": "stream",
     "text": [
      "saved to ../data/sum_stats_post.xlsx\n"
     ]
    }
   ],
   "source": [
    "sum_stats_post = df.describe()\n",
    "\n",
    "target = '../data/sum_stats_post.xlsx'\n",
    "sum_stats_post.to_excel(target)\n",
    "print('saved to '+target )"
   ]
  },
  {
   "cell_type": "code",
   "execution_count": 12,
   "metadata": {},
   "outputs": [
    {
     "name": "stdout",
     "output_type": "stream",
     "text": [
      "saved to ../data/imputed_data.xlsx\n"
     ]
    }
   ],
   "source": [
    "#save to excel file\n",
    "target = '../data/imputed_data.xlsx'\n",
    "df.to_excel(target)\n",
    "print('saved to '+target )"
   ]
  },
  {
   "cell_type": "code",
   "execution_count": null,
   "metadata": {},
   "outputs": [],
   "source": []
  }
 ],
 "metadata": {
  "kernelspec": {
   "display_name": "Python 3",
   "language": "python",
   "name": "python3"
  },
  "language_info": {
   "codemirror_mode": {
    "name": "ipython",
    "version": 3
   },
   "file_extension": ".py",
   "mimetype": "text/x-python",
   "name": "python",
   "nbconvert_exporter": "python",
   "pygments_lexer": "ipython3",
   "version": "3.7.1"
  }
 },
 "nbformat": 4,
 "nbformat_minor": 2
}
