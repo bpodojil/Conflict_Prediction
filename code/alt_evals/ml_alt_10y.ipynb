{
 "cells": [
  {
   "cell_type": "code",
   "execution_count": 1,
   "metadata": {},
   "outputs": [
    {
     "name": "stderr",
     "output_type": "stream",
     "text": [
      "C:\\Users\\Brandon\\Anaconda3\\lib\\site-packages\\sklearn\\utils\\deprecation.py:144: FutureWarning: The sklearn.neighbors.base module is  deprecated in version 0.22 and will be removed in version 0.24. The corresponding classes / functions should instead be imported from sklearn.neighbors. Anything that cannot be imported from sklearn.neighbors is now part of the private API.\n",
      "  warnings.warn(message, FutureWarning)\n",
      "C:\\Users\\Brandon\\Anaconda3\\lib\\site-packages\\sklearn\\utils\\deprecation.py:144: FutureWarning: The sklearn.ensemble.bagging module is  deprecated in version 0.22 and will be removed in version 0.24. The corresponding classes / functions should instead be imported from sklearn.ensemble. Anything that cannot be imported from sklearn.ensemble is now part of the private API.\n",
      "  warnings.warn(message, FutureWarning)\n",
      "C:\\Users\\Brandon\\Anaconda3\\lib\\site-packages\\sklearn\\utils\\deprecation.py:144: FutureWarning: The sklearn.ensemble.base module is  deprecated in version 0.22 and will be removed in version 0.24. The corresponding classes / functions should instead be imported from sklearn.ensemble. Anything that cannot be imported from sklearn.ensemble is now part of the private API.\n",
      "  warnings.warn(message, FutureWarning)\n",
      "C:\\Users\\Brandon\\Anaconda3\\lib\\site-packages\\sklearn\\utils\\deprecation.py:144: FutureWarning: The sklearn.ensemble.forest module is  deprecated in version 0.22 and will be removed in version 0.24. The corresponding classes / functions should instead be imported from sklearn.ensemble. Anything that cannot be imported from sklearn.ensemble is now part of the private API.\n",
      "  warnings.warn(message, FutureWarning)\n",
      "C:\\Users\\Brandon\\Anaconda3\\lib\\site-packages\\sklearn\\utils\\deprecation.py:144: FutureWarning: The sklearn.utils.testing module is  deprecated in version 0.22 and will be removed in version 0.24. The corresponding classes / functions should instead be imported from sklearn.utils. Anything that cannot be imported from sklearn.utils is now part of the private API.\n",
      "  warnings.warn(message, FutureWarning)\n",
      "C:\\Users\\Brandon\\Anaconda3\\lib\\site-packages\\sklearn\\utils\\deprecation.py:144: FutureWarning: The sklearn.metrics.classification module is  deprecated in version 0.22 and will be removed in version 0.24. The corresponding classes / functions should instead be imported from sklearn.metrics. Anything that cannot be imported from sklearn.metrics is now part of the private API.\n",
      "  warnings.warn(message, FutureWarning)\n"
     ]
    }
   ],
   "source": [
    "import os\n",
    "import pandas as pd\n",
    "import numpy as np\n",
    "import scipy\n",
    "import matplotlib.pyplot as plt\n",
    "import sklearn\n",
    "from imblearn.over_sampling import SMOTE\n",
    "from sklearn.preprocessing import StandardScaler\n",
    "from sklearn.decomposition import PCA\n",
    "from sklearn.tree import DecisionTreeRegressor\n",
    "from sklearn.model_selection import train_test_split\n",
    "from sklearn.model_selection import cross_val_score\n",
    "from sklearn.model_selection import StratifiedKFold\n",
    "from sklearn.metrics import classification_report\n",
    "from sklearn.metrics import confusion_matrix\n",
    "from sklearn.metrics import accuracy_score\n",
    "from sklearn.linear_model import LogisticRegression\n",
    "from sklearn.tree import DecisionTreeClassifier\n",
    "from sklearn.neighbors import KNeighborsClassifier\n",
    "from sklearn.discriminant_analysis import LinearDiscriminantAnalysis\n",
    "from sklearn.naive_bayes import GaussianNB\n",
    "from sklearn.svm import SVC\n",
    "from sklearn.metrics import plot_confusion_matrix\n",
    "from sklearn.ensemble import RandomForestClassifier\n",
    "import xgboost as xgb\n",
    "from sklearn.metrics import recall_score\n",
    "from sklearn.metrics import f1_score"
   ]
  },
  {
   "cell_type": "code",
   "execution_count": 2,
   "metadata": {},
   "outputs": [],
   "source": [
    "#Set Psudeorandom Seed\n",
    "seed = 42"
   ]
  },
  {
   "cell_type": "code",
   "execution_count": 3,
   "metadata": {},
   "outputs": [
    {
     "name": "stdout",
     "output_type": "stream",
     "text": [
      "file uploaded\n"
     ]
    }
   ],
   "source": [
    "#Uploading the first dataset\n",
    "file = 'C:/Users/Brandon/Documents/thesis/data/10a_offset.xlsx'\n",
    "df = pd.read_excel (file,index_col=0,na_values=['..'])\n",
    "print('file uploaded')"
   ]
  },
  {
   "cell_type": "code",
   "execution_count": 4,
   "metadata": {},
   "outputs": [
    {
     "data": {
      "text/plain": [
       "(4268, 45)"
      ]
     },
     "execution_count": 4,
     "metadata": {},
     "output_type": "execute_result"
    }
   ],
   "source": [
    "df.shape"
   ]
  },
  {
   "cell_type": "code",
   "execution_count": 5,
   "metadata": {},
   "outputs": [
    {
     "name": "stdout",
     "output_type": "stream",
     "text": [
      "Train/Test Split Complete\n"
     ]
    }
   ],
   "source": [
    "#Create testing and training sets\n",
    "array = df.values\n",
    "\n",
    "#Create X array\n",
    "X= array[:,4:45]\n",
    "\n",
    "# Standardizing the features\n",
    "X = StandardScaler().fit_transform(X)\n",
    "\n",
    "#Create Y array\n",
    "Y= array[:,3]\n",
    "Y=Y.astype('int')\n",
    "\n",
    "#Training/Test Split\n",
    "X_train, X_validation, Y_train, Y_validation = train_test_split(X,Y,test_size=0.2,random_state=1 )\n",
    "print('Train/Test Split Complete')"
   ]
  },
  {
   "cell_type": "code",
   "execution_count": null,
   "metadata": {},
   "outputs": [],
   "source": [
    "recall = []\n",
    "f1 = []"
   ]
  },
  {
   "cell_type": "code",
   "execution_count": 6,
   "metadata": {},
   "outputs": [
    {
     "name": "stdout",
     "output_type": "stream",
     "text": [
      "oversampling complete\n"
     ]
    },
    {
     "name": "stderr",
     "output_type": "stream",
     "text": [
      "C:\\Users\\Brandon\\Anaconda3\\lib\\site-packages\\sklearn\\utils\\deprecation.py:87: FutureWarning: Function safe_indexing is deprecated; safe_indexing is deprecated in version 0.22 and will be removed in version 0.24.\n",
      "  warnings.warn(msg, category=FutureWarning)\n"
     ]
    }
   ],
   "source": [
    "#Impliment SMOTE\n",
    "sm = SMOTE(random_state = 2) \n",
    "X_train_smote, Y_train_smote = sm.fit_sample(X_train, Y_train)\n",
    "\n",
    "print('oversampling complete')"
   ]
  },
  {
   "cell_type": "code",
   "execution_count": 8,
   "metadata": {},
   "outputs": [
    {
     "name": "stdout",
     "output_type": "stream",
     "text": [
      "0.8583138173302107\n",
      "[[575  90]\n",
      " [ 31 158]]\n",
      "              precision    recall  f1-score   support\n",
      "\n",
      "           0       0.95      0.86      0.90       665\n",
      "           1       0.64      0.84      0.72       189\n",
      "\n",
      "    accuracy                           0.86       854\n",
      "   macro avg       0.79      0.85      0.81       854\n",
      "weighted avg       0.88      0.86      0.86       854\n",
      "\n"
     ]
    }
   ],
   "source": [
    "# Make predictions on validation dataset\n",
    "model = LogisticRegression(solver='liblinear',multi_class='ovr')\n",
    "model.fit(X_train_smote, Y_train_smote)\n",
    "predictions = model.predict(X_validation)\n",
    "\n",
    "# Evaluate predictions\n",
    "print(accuracy_score(Y_validation, predictions))\n",
    "print(confusion_matrix(Y_validation, predictions))\n",
    "print(classification_report(Y_validation, predictions))\n",
    "recall.append(recall_score(Y_validation, predictions))\n",
    "f1.append(f1_score(Y_validation, predictions))"
   ]
  },
  {
   "cell_type": "code",
   "execution_count": 9,
   "metadata": {},
   "outputs": [
    {
     "name": "stdout",
     "output_type": "stream",
     "text": [
      "0.870023419203747\n",
      "[[620  45]\n",
      " [ 66 123]]\n",
      "              precision    recall  f1-score   support\n",
      "\n",
      "           0       0.90      0.93      0.92       665\n",
      "           1       0.73      0.65      0.69       189\n",
      "\n",
      "    accuracy                           0.87       854\n",
      "   macro avg       0.82      0.79      0.80       854\n",
      "weighted avg       0.87      0.87      0.87       854\n",
      "\n"
     ]
    }
   ],
   "source": [
    "# Make predictions on validation dataset\n",
    "model = LinearDiscriminantAnalysis()\n",
    "model.fit(X_train, Y_train)\n",
    "predictions = model.predict(X_validation)\n",
    "\n",
    "# Evaluate predictions\n",
    "print(accuracy_score(Y_validation, predictions))\n",
    "print(confusion_matrix(Y_validation, predictions))\n",
    "print(classification_report(Y_validation, predictions))\n",
    "recall.append(recall_score(Y_validation, predictions))\n",
    "f1.append(f1_score(Y_validation, predictions))"
   ]
  },
  {
   "cell_type": "code",
   "execution_count": 10,
   "metadata": {},
   "outputs": [
    {
     "name": "stdout",
     "output_type": "stream",
     "text": [
      "0.9063231850117096\n",
      "[[632  33]\n",
      " [ 47 142]]\n",
      "              precision    recall  f1-score   support\n",
      "\n",
      "           0       0.93      0.95      0.94       665\n",
      "           1       0.81      0.75      0.78       189\n",
      "\n",
      "    accuracy                           0.91       854\n",
      "   macro avg       0.87      0.85      0.86       854\n",
      "weighted avg       0.90      0.91      0.91       854\n",
      "\n"
     ]
    }
   ],
   "source": [
    "# Make predictions on validation dataset\n",
    "model = KNeighborsClassifier()\n",
    "model.fit(X_train, Y_train)\n",
    "predictions = model.predict(X_validation)\n",
    "\n",
    "# Evaluate predictions\n",
    "print(accuracy_score(Y_validation, predictions))\n",
    "print(confusion_matrix(Y_validation, predictions))\n",
    "print(classification_report(Y_validation, predictions))\n",
    "recall.append(recall_score(Y_validation, predictions))\n",
    "f1.append(f1_score(Y_validation, predictions))"
   ]
  },
  {
   "cell_type": "code",
   "execution_count": 11,
   "metadata": {},
   "outputs": [
    {
     "name": "stdout",
     "output_type": "stream",
     "text": [
      "0.870023419203747\n",
      "[[607  58]\n",
      " [ 53 136]]\n",
      "              precision    recall  f1-score   support\n",
      "\n",
      "           0       0.92      0.91      0.92       665\n",
      "           1       0.70      0.72      0.71       189\n",
      "\n",
      "    accuracy                           0.87       854\n",
      "   macro avg       0.81      0.82      0.81       854\n",
      "weighted avg       0.87      0.87      0.87       854\n",
      "\n"
     ]
    }
   ],
   "source": [
    "# Make predictions on validation dataset\n",
    "model = DecisionTreeClassifier()\n",
    "model.fit(X_train, Y_train)\n",
    "predictions = model.predict(X_validation)\n",
    "\n",
    "# Evaluate predictions\n",
    "print(accuracy_score(Y_validation, predictions))\n",
    "print(confusion_matrix(Y_validation, predictions))\n",
    "print(classification_report(Y_validation, predictions))\n",
    "recall.append(recall_score(Y_validation, predictions))\n",
    "f1.append(f1_score(Y_validation, predictions))"
   ]
  },
  {
   "cell_type": "code",
   "execution_count": 12,
   "metadata": {},
   "outputs": [
    {
     "name": "stdout",
     "output_type": "stream",
     "text": [
      "0.870023419203747\n",
      "[[648  17]\n",
      " [ 94  95]]\n",
      "              precision    recall  f1-score   support\n",
      "\n",
      "           0       0.87      0.97      0.92       665\n",
      "           1       0.85      0.50      0.63       189\n",
      "\n",
      "    accuracy                           0.87       854\n",
      "   macro avg       0.86      0.74      0.78       854\n",
      "weighted avg       0.87      0.87      0.86       854\n",
      "\n"
     ]
    }
   ],
   "source": [
    "# Make predictions on validation dataset\n",
    "model = RandomForestClassifier(n_estimators=500, max_depth=2, random_state=seed)\n",
    "model.fit(X_train, Y_train)\n",
    "predictions = model.predict(X_validation)\n",
    "\n",
    "# Evaluate predictions\n",
    "print(accuracy_score(Y_validation, predictions))\n",
    "print(confusion_matrix(Y_validation, predictions))\n",
    "print(classification_report(Y_validation, predictions))\n",
    "recall.append(recall_score(Y_validation, predictions))\n",
    "f1.append(f1_score(Y_validation, predictions))"
   ]
  },
  {
   "cell_type": "code",
   "execution_count": 13,
   "metadata": {},
   "outputs": [
    {
     "name": "stdout",
     "output_type": "stream",
     "text": [
      "0.8875878220140515\n",
      "[[625  40]\n",
      " [ 56 133]]\n",
      "              precision    recall  f1-score   support\n",
      "\n",
      "           0       0.92      0.94      0.93       665\n",
      "           1       0.77      0.70      0.73       189\n",
      "\n",
      "    accuracy                           0.89       854\n",
      "   macro avg       0.84      0.82      0.83       854\n",
      "weighted avg       0.88      0.89      0.89       854\n",
      "\n"
     ]
    }
   ],
   "source": [
    "# Make predictions on validation dataset\n",
    "model = xgb.XGBRFClassifier(random_state=seed)\n",
    "model.fit(X_train, Y_train)\n",
    "predictions = model.predict(X_validation)\n",
    "\n",
    "# Evaluate predictions\n",
    "print(accuracy_score(Y_validation, predictions))\n",
    "print(confusion_matrix(Y_validation, predictions))\n",
    "print(classification_report(Y_validation, predictions))\n",
    "recall.append(recall_score(Y_validation, predictions))\n",
    "f1.append(f1_score(Y_validation, predictions))"
   ]
  },
  {
   "cell_type": "code",
   "execution_count": 14,
   "metadata": {},
   "outputs": [
    {
     "name": "stdout",
     "output_type": "stream",
     "text": [
      "0.7693208430913349\n",
      "[[498 167]\n",
      " [ 30 159]]\n",
      "              precision    recall  f1-score   support\n",
      "\n",
      "           0       0.94      0.75      0.83       665\n",
      "           1       0.49      0.84      0.62       189\n",
      "\n",
      "    accuracy                           0.77       854\n",
      "   macro avg       0.72      0.80      0.73       854\n",
      "weighted avg       0.84      0.77      0.79       854\n",
      "\n"
     ]
    }
   ],
   "source": [
    "# Make predictions on validation dataset\n",
    "model = GaussianNB()\n",
    "model.fit(X_train, Y_train)\n",
    "predictions = model.predict(X_validation)\n",
    "\n",
    "# Evaluate predictions\n",
    "print(accuracy_score(Y_validation, predictions))\n",
    "print(confusion_matrix(Y_validation, predictions))\n",
    "print(classification_report(Y_validation, predictions))\n",
    "recall.append(recall_score(Y_validation, predictions))\n",
    "f1.append(f1_score(Y_validation, predictions))"
   ]
  },
  {
   "cell_type": "code",
   "execution_count": 15,
   "metadata": {},
   "outputs": [
    {
     "name": "stdout",
     "output_type": "stream",
     "text": [
      "0.9016393442622951\n",
      "[[637  28]\n",
      " [ 56 133]]\n",
      "              precision    recall  f1-score   support\n",
      "\n",
      "           0       0.92      0.96      0.94       665\n",
      "           1       0.83      0.70      0.76       189\n",
      "\n",
      "    accuracy                           0.90       854\n",
      "   macro avg       0.87      0.83      0.85       854\n",
      "weighted avg       0.90      0.90      0.90       854\n",
      "\n"
     ]
    }
   ],
   "source": [
    "# Make predictions on validation dataset\n",
    "model = SVC(gamma='auto')\n",
    "model.fit(X_train, Y_train)\n",
    "predictions = model.predict(X_validation)\n",
    "\n",
    "# Evaluate predictions\n",
    "print(accuracy_score(Y_validation, predictions))\n",
    "print(confusion_matrix(Y_validation, predictions))\n",
    "print(classification_report(Y_validation, predictions))\n",
    "recall.append(recall_score(Y_validation, predictions))\n",
    "f1.append(f1_score(Y_validation, predictions))"
   ]
  },
  {
   "cell_type": "code",
   "execution_count": 16,
   "metadata": {},
   "outputs": [
    {
     "data": {
      "image/png": "[encoded data removed]",
      "text/plain": [
       "<Figure size 432x288 with 1 Axes>"
      ]
     },
     "metadata": {
      "needs_background": "light"
     },
     "output_type": "display_data"
    }
   ],
   "source": [
    "pca = PCA().fit(X_train_smote)\n",
    "plt.plot(np.cumsum(pca.explained_variance_ratio_))\n",
    "plt.xlabel('number of components')\n",
    "plt.ylabel('cumulative explained variance');"
   ]
  },
  {
   "cell_type": "code",
   "execution_count": 17,
   "metadata": {},
   "outputs": [],
   "source": [
    "pca = PCA(.8)\n",
    "principalComponents = pca.fit_transform(X_train_smote)"
   ]
  },
  {
   "cell_type": "code",
   "execution_count": 18,
   "metadata": {},
   "outputs": [
    {
     "data": {
      "text/plain": [
       "19"
      ]
     },
     "execution_count": 18,
     "metadata": {},
     "output_type": "execute_result"
    }
   ],
   "source": [
    "pca.n_components_"
   ]
  },
  {
   "cell_type": "code",
   "execution_count": 19,
   "metadata": {},
   "outputs": [
    {
     "data": {
      "text/plain": [
       "array([0.14720723, 0.08903386, 0.07555005, 0.06002366, 0.04637075,\n",
       "       0.04338816, 0.04044797, 0.03428257, 0.03353125, 0.03053441,\n",
       "       0.02673069, 0.0260908 , 0.02513647, 0.02435325, 0.02319413,\n",
       "       0.02202756, 0.0200992 , 0.01856166, 0.01748412])"
      ]
     },
     "execution_count": 19,
     "metadata": {},
     "output_type": "execute_result"
    }
   ],
   "source": [
    "pca.explained_variance_ratio_"
   ]
  },
  {
   "cell_type": "code",
   "execution_count": 20,
   "metadata": {},
   "outputs": [
    {
     "data": {
      "text/plain": [
       "array([0.14720723, 0.23624109, 0.31179114, 0.3718148 , 0.41818554,\n",
       "       0.4615737 , 0.50202167, 0.53630423, 0.56983548, 0.6003699 ,\n",
       "       0.62710059, 0.65319138, 0.67832786, 0.7026811 , 0.72587523,\n",
       "       0.74790279, 0.768002  , 0.78656366, 0.80404777])"
      ]
     },
     "execution_count": 20,
     "metadata": {},
     "output_type": "execute_result"
    }
   ],
   "source": [
    "np.cumsum(pca.explained_variance_ratio_)"
   ]
  },
  {
   "cell_type": "code",
   "execution_count": 21,
   "metadata": {},
   "outputs": [],
   "source": [
    "X_train_pca = pca.transform(X_train_smote)\n",
    "X_validation_pca = pca.transform(X_validation)"
   ]
  },
  {
   "cell_type": "code",
   "execution_count": 22,
   "metadata": {},
   "outputs": [
    {
     "name": "stdout",
     "output_type": "stream",
     "text": [
      "0.8407494145199064\n",
      "[[567  98]\n",
      " [ 38 151]]\n",
      "              precision    recall  f1-score   support\n",
      "\n",
      "           0       0.94      0.85      0.89       665\n",
      "           1       0.61      0.80      0.69       189\n",
      "\n",
      "    accuracy                           0.84       854\n",
      "   macro avg       0.77      0.83      0.79       854\n",
      "weighted avg       0.86      0.84      0.85       854\n",
      "\n"
     ]
    }
   ],
   "source": [
    "# Make predictions on validation dataset\n",
    "model = LogisticRegression(solver='liblinear',multi_class='ovr')\n",
    "model.fit(X_train_pca, Y_train_smote)\n",
    "predictions = model.predict(X_validation_pca)\n",
    "\n",
    "# Evaluate predictions\n",
    "print(accuracy_score(Y_validation, predictions))\n",
    "print(confusion_matrix(Y_validation, predictions))\n",
    "print(classification_report(Y_validation, predictions))\n",
    "recall.append(recall_score(Y_validation, predictions))\n",
    "f1.append(f1_score(Y_validation, predictions))"
   ]
  },
  {
   "cell_type": "code",
   "execution_count": 23,
   "metadata": {},
   "outputs": [
    {
     "name": "stdout",
     "output_type": "stream",
     "text": [
      "0.8243559718969555\n",
      "[[552 113]\n",
      " [ 37 152]]\n",
      "              precision    recall  f1-score   support\n",
      "\n",
      "           0       0.94      0.83      0.88       665\n",
      "           1       0.57      0.80      0.67       189\n",
      "\n",
      "    accuracy                           0.82       854\n",
      "   macro avg       0.76      0.82      0.77       854\n",
      "weighted avg       0.86      0.82      0.83       854\n",
      "\n"
     ]
    }
   ],
   "source": [
    "# Make predictions on validation dataset\n",
    "model = LinearDiscriminantAnalysis()\n",
    "model.fit(X_train_pca, Y_train_smote)\n",
    "predictions = model.predict(X_validation_pca)\n",
    "\n",
    "# Evaluate predictions\n",
    "print(accuracy_score(Y_validation, predictions))\n",
    "print(confusion_matrix(Y_validation, predictions))\n",
    "print(classification_report(Y_validation, predictions))\n",
    "recall.append(recall_score(Y_validation, predictions))\n",
    "f1.append(f1_score(Y_validation, predictions))"
   ]
  },
  {
   "cell_type": "code",
   "execution_count": 24,
   "metadata": {},
   "outputs": [
    {
     "name": "stdout",
     "output_type": "stream",
     "text": [
      "0.8782201405152225\n",
      "[[587  78]\n",
      " [ 26 163]]\n",
      "              precision    recall  f1-score   support\n",
      "\n",
      "           0       0.96      0.88      0.92       665\n",
      "           1       0.68      0.86      0.76       189\n",
      "\n",
      "    accuracy                           0.88       854\n",
      "   macro avg       0.82      0.87      0.84       854\n",
      "weighted avg       0.90      0.88      0.88       854\n",
      "\n"
     ]
    }
   ],
   "source": [
    "# Make predictions on validation dataset\n",
    "model = KNeighborsClassifier()\n",
    "model.fit(X_train_pca, Y_train_smote)\n",
    "predictions = model.predict(X_validation_pca)\n",
    "\n",
    "# Evaluate predictions\n",
    "print(accuracy_score(Y_validation, predictions))\n",
    "print(confusion_matrix(Y_validation, predictions))\n",
    "print(classification_report(Y_validation, predictions))\n",
    "recall.append(recall_score(Y_validation, predictions))\n",
    "f1.append(f1_score(Y_validation, predictions))"
   ]
  },
  {
   "cell_type": "code",
   "execution_count": 25,
   "metadata": {},
   "outputs": [
    {
     "name": "stdout",
     "output_type": "stream",
     "text": [
      "0.8372365339578455\n",
      "[[576  89]\n",
      " [ 50 139]]\n",
      "              precision    recall  f1-score   support\n",
      "\n",
      "           0       0.92      0.87      0.89       665\n",
      "           1       0.61      0.74      0.67       189\n",
      "\n",
      "    accuracy                           0.84       854\n",
      "   macro avg       0.76      0.80      0.78       854\n",
      "weighted avg       0.85      0.84      0.84       854\n",
      "\n"
     ]
    }
   ],
   "source": [
    "# Make predictions on validation dataset\n",
    "model = DecisionTreeClassifier()\n",
    "model.fit(X_train_pca, Y_train_smote)\n",
    "predictions = model.predict(X_validation_pca)\n",
    "\n",
    "# Evaluate predictions\n",
    "print(accuracy_score(Y_validation, predictions))\n",
    "print(confusion_matrix(Y_validation, predictions))\n",
    "print(classification_report(Y_validation, predictions))\n",
    "recall.append(recall_score(Y_validation, predictions))\n",
    "f1.append(f1_score(Y_validation, predictions))"
   ]
  },
  {
   "cell_type": "code",
   "execution_count": 26,
   "metadata": {},
   "outputs": [
    {
     "name": "stdout",
     "output_type": "stream",
     "text": [
      "0.7447306791569087\n",
      "[[466 199]\n",
      " [ 19 170]]\n",
      "              precision    recall  f1-score   support\n",
      "\n",
      "           0       0.96      0.70      0.81       665\n",
      "           1       0.46      0.90      0.61       189\n",
      "\n",
      "    accuracy                           0.74       854\n",
      "   macro avg       0.71      0.80      0.71       854\n",
      "weighted avg       0.85      0.74      0.77       854\n",
      "\n"
     ]
    }
   ],
   "source": [
    "# Make predictions on validation dataset\n",
    "model = RandomForestClassifier(n_estimators=500, max_depth=2, random_state=seed)\n",
    "model.fit(X_train_pca, Y_train_smote)\n",
    "predictions = model.predict(X_validation_pca)\n",
    "\n",
    "# Evaluate predictions\n",
    "print(accuracy_score(Y_validation, predictions))\n",
    "print(confusion_matrix(Y_validation, predictions))\n",
    "print(classification_report(Y_validation, predictions))\n",
    "recall.append(recall_score(Y_validation, predictions))\n",
    "f1.append(f1_score(Y_validation, predictions))"
   ]
  },
  {
   "cell_type": "code",
   "execution_count": 27,
   "metadata": {},
   "outputs": [
    {
     "name": "stdout",
     "output_type": "stream",
     "text": [
      "0.7599531615925058\n",
      "[[479 186]\n",
      " [ 19 170]]\n",
      "              precision    recall  f1-score   support\n",
      "\n",
      "           0       0.96      0.72      0.82       665\n",
      "           1       0.48      0.90      0.62       189\n",
      "\n",
      "    accuracy                           0.76       854\n",
      "   macro avg       0.72      0.81      0.72       854\n",
      "weighted avg       0.85      0.76      0.78       854\n",
      "\n"
     ]
    }
   ],
   "source": [
    "# Make predictions on validation dataset\n",
    "model = xgb.XGBRFClassifier(random_state=seed)\n",
    "model.fit(X_train_pca, Y_train_smote)\n",
    "predictions = model.predict(X_validation_pca)\n",
    "\n",
    "# Evaluate predictions\n",
    "print(accuracy_score(Y_validation, predictions))\n",
    "print(confusion_matrix(Y_validation, predictions))\n",
    "print(classification_report(Y_validation, predictions))\n",
    "recall.append(recall_score(Y_validation, predictions))\n",
    "f1.append(f1_score(Y_validation, predictions))"
   ]
  },
  {
   "cell_type": "code",
   "execution_count": 28,
   "metadata": {},
   "outputs": [
    {
     "name": "stdout",
     "output_type": "stream",
     "text": [
      "0.7927400468384075\n",
      "[[521 144]\n",
      " [ 33 156]]\n",
      "              precision    recall  f1-score   support\n",
      "\n",
      "           0       0.94      0.78      0.85       665\n",
      "           1       0.52      0.83      0.64       189\n",
      "\n",
      "    accuracy                           0.79       854\n",
      "   macro avg       0.73      0.80      0.75       854\n",
      "weighted avg       0.85      0.79      0.81       854\n",
      "\n"
     ]
    }
   ],
   "source": [
    "# Make predictions on validation dataset\n",
    "model = GaussianNB()\n",
    "model.fit(X_train_pca, Y_train_smote)\n",
    "predictions = model.predict(X_validation_pca)\n",
    "\n",
    "# Evaluate predictions\n",
    "print(accuracy_score(Y_validation, predictions))\n",
    "print(confusion_matrix(Y_validation, predictions))\n",
    "print(classification_report(Y_validation, predictions))\n",
    "recall.append(recall_score(Y_validation, predictions))\n",
    "f1.append(f1_score(Y_validation, predictions))"
   ]
  },
  {
   "cell_type": "code",
   "execution_count": 29,
   "metadata": {},
   "outputs": [
    {
     "name": "stdout",
     "output_type": "stream",
     "text": [
      "0.8887587822014051\n",
      "[[598  67]\n",
      " [ 28 161]]\n",
      "              precision    recall  f1-score   support\n",
      "\n",
      "           0       0.96      0.90      0.93       665\n",
      "           1       0.71      0.85      0.77       189\n",
      "\n",
      "    accuracy                           0.89       854\n",
      "   macro avg       0.83      0.88      0.85       854\n",
      "weighted avg       0.90      0.89      0.89       854\n",
      "\n"
     ]
    }
   ],
   "source": [
    "# Make predictions on validation dataset\n",
    "model = SVC(gamma='auto')\n",
    "model.fit(X_train_pca, Y_train_smote)\n",
    "predictions = model.predict(X_validation_pca)\n",
    "\n",
    "# Evaluate predictions\n",
    "print(accuracy_score(Y_validation, predictions))\n",
    "print(confusion_matrix(Y_validation, predictions))\n",
    "print(classification_report(Y_validation, predictions))\n",
    "recall.append(recall_score(Y_validation, predictions))\n",
    "f1.append(f1_score(Y_validation, predictions))"
   ]
  },
  {
   "cell_type": "code",
   "execution_count": 30,
   "metadata": {},
   "outputs": [
    {
     "name": "stdout",
     "output_type": "stream",
     "text": [
      "[0.8359788359788359, 0.6507936507936508, 0.7513227513227513, 0.7195767195767195, 0.5026455026455027, 0.7037037037037037, 0.8412698412698413, 0.7037037037037037, 0.798941798941799, 0.8042328042328042, 0.8624338624338624, 0.7354497354497355, 0.8994708994708994, 0.8994708994708994, 0.8253968253968254, 0.8518518518518519]\n",
      "[0.7231121281464531, 0.6890756302521008, 0.7802197802197802, 0.7101827676240208, 0.6312292358803987, 0.734806629834254, 0.6174757281553398, 0.76, 0.6894977168949771, 0.6696035242290749, 0.7581395348837209, 0.6666666666666667, 0.6093189964157707, 0.6238532110091743, 0.6380368098159509, 0.7721822541966428]\n"
     ]
    }
   ],
   "source": [
    "print(recall)\n",
    "print(f1)"
   ]
  },
  {
   "cell_type": "code",
   "execution_count": null,
   "metadata": {},
   "outputs": [],
   "source": []
  }
 ],
 "metadata": {
  "kernelspec": {
   "display_name": "Python 3",
   "language": "python",
   "name": "python3"
  },
  "language_info": {
   "codemirror_mode": {
    "name": "ipython",
    "version": 3
   },
   "file_extension": ".py",
   "mimetype": "text/x-python",
   "name": "python",
   "nbconvert_exporter": "python",
   "pygments_lexer": "ipython3",
   "version": "3.7.1"
  }
 },
 "nbformat": 4,
 "nbformat_minor": 2
}
