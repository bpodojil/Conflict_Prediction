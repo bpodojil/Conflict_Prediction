{
 "cells": [
  {
   "cell_type": "code",
   "execution_count": 1,
   "metadata": {},
   "outputs": [],
   "source": [
    "#Ignore 'Future Warnings'\n",
    "import warnings\n",
    "warnings.filterwarnings(\"ignore\", category=FutureWarning)"
   ]
  },
  {
   "cell_type": "markdown",
   "metadata": {},
   "source": [
    "# Set Base for Algorithms"
   ]
  },
  {
   "cell_type": "code",
   "execution_count": 2,
   "metadata": {},
   "outputs": [
    {
     "name": "stderr",
     "output_type": "stream",
     "text": [
      "Using TensorFlow backend.\n"
     ]
    }
   ],
   "source": [
    "#Import Necessary Packages\n",
    "from tqdm import tqdm\n",
    "import pandas as pd\n",
    "import numpy as np\n",
    "import scipy\n",
    "import matplotlib.pyplot as plt\n",
    "import sklearn\n",
    "from imblearn.over_sampling import SMOTE\n",
    "from sklearn.preprocessing import StandardScaler\n",
    "from sklearn.decomposition import PCA\n",
    "from sklearn.tree import DecisionTreeRegressor\n",
    "from sklearn.model_selection import train_test_split\n",
    "from sklearn.model_selection import cross_val_score\n",
    "from sklearn.model_selection import StratifiedKFold\n",
    "from sklearn.metrics import classification_report\n",
    "from sklearn.metrics import confusion_matrix\n",
    "from sklearn.metrics import accuracy_score\n",
    "from sklearn.linear_model import LogisticRegression\n",
    "from sklearn.tree import DecisionTreeClassifier\n",
    "from sklearn.neighbors import KNeighborsClassifier\n",
    "from sklearn.discriminant_analysis import LinearDiscriminantAnalysis\n",
    "from sklearn.svm import SVC\n",
    "from sklearn.metrics import plot_confusion_matrix\n",
    "from sklearn.ensemble import RandomForestClassifier\n",
    "from xgboost import XGBClassifier as xgb\n",
    "from sklearn.metrics import recall_score\n",
    "from sklearn.metrics import f1_score\n",
    "from sklearn.model_selection import StratifiedKFold"
   ]
  },
  {
   "cell_type": "code",
   "execution_count": 3,
   "metadata": {},
   "outputs": [],
   "source": [
    "#Set Psudeorandom Seed\n",
    "seed = 42"
   ]
  },
  {
   "cell_type": "code",
   "execution_count": 4,
   "metadata": {},
   "outputs": [],
   "source": [
    "splits = 10\n",
    "kf = StratifiedKFold(n_splits=splits, random_state=seed, shuffle=True)"
   ]
  },
  {
   "cell_type": "code",
   "execution_count": 5,
   "metadata": {},
   "outputs": [],
   "source": [
    "pca_target = .8"
   ]
  },
  {
   "cell_type": "code",
   "execution_count": 6,
   "metadata": {},
   "outputs": [],
   "source": [
    "#Models to be used\n",
    "models = []\n",
    "models.append(('LR', LogisticRegression(solver='liblinear',multi_class='ovr')))\n",
    "models.append(('LDA', LinearDiscriminantAnalysis()))\n",
    "models.append(('KNN', KNeighborsClassifier()))\n",
    "models.append(('DTREE', DecisionTreeClassifier()))\n",
    "models.append(('RTREE', RandomForestClassifier(n_estimators=500, max_depth=2, random_state=seed)))\n",
    "models.append(('XTREE', xgb(random_state=seed)))\n",
    "models.append(('SVM', SVC(random_state=seed)))\n",
    "\n",
    "methods = []\n",
    "for name, model in models:\n",
    "    methods.append(name)"
   ]
  },
  {
   "cell_type": "markdown",
   "metadata": {},
   "source": [
    "# Naive Assessments"
   ]
  },
  {
   "cell_type": "code",
   "execution_count": 7,
   "metadata": {},
   "outputs": [],
   "source": [
    "df = pd.read_excel ('../data/1y_offset.xlsx',index_col=0,na_values=['..'])"
   ]
  },
  {
   "cell_type": "code",
   "execution_count": 8,
   "metadata": {},
   "outputs": [],
   "source": [
    "df_naive=df.loc[:,{'con1_next','total_ev'}]\n",
    "df_naive['simple'] = 0\n",
    "df_naive['con_in'] = [1 if x > 0 else 0 for x in df['total_ev']]"
   ]
  },
  {
   "cell_type": "code",
   "execution_count": 9,
   "metadata": {},
   "outputs": [],
   "source": [
    "def true_pos_s(s):\n",
    "    if (s['con1_next']==1) and (s['simple']==1):\n",
    "        return 1\n",
    "    else:\n",
    "        return 0\n",
    "\n",
    "def true_neg_s(s):\n",
    "    if (s['con1_next']==0) and (s['simple']==0):\n",
    "        return 1\n",
    "    else:\n",
    "        return 0\n",
    "\n",
    "def fal_pos_s(s):\n",
    "    if (s['con1_next']==0) and (s['simple']==1):\n",
    "        return 1\n",
    "    else:\n",
    "        return 0\n",
    "    \n",
    "def fal_neg_s(s):\n",
    "    if (s['con1_next']==1) and (s['simple']==0):\n",
    "        return 1\n",
    "    else:\n",
    "        return 0\n",
    "    \n",
    "df_naive['s_tp'] = df_naive.apply(true_pos_s, axis=1)\n",
    "df_naive['s_tn'] = df_naive.apply(true_neg_s, axis=1)\n",
    "df_naive['s_fp'] = df_naive.apply(fal_pos_s, axis=1)\n",
    "df_naive['s_fn'] = df_naive.apply(fal_neg_s, axis=1)\n",
    "\n",
    "def true_pos_l(s):\n",
    "    if (s['con1_next']==1) and (s['con_in']==1):\n",
    "        return 1\n",
    "    else:\n",
    "        return 0\n",
    "\n",
    "def true_neg_l(s):\n",
    "    if (s['con1_next']==0) and (s['con_in']==0):\n",
    "        return 1\n",
    "    else:\n",
    "        return 0\n",
    "\n",
    "def fal_pos_l(s):\n",
    "    if (s['con1_next']==0) and (s['con_in']==1):\n",
    "        return 1\n",
    "    else:\n",
    "        return 0\n",
    "    \n",
    "def fal_neg_l(s):\n",
    "    if (s['con1_next']==1) and (s['con_in']==0):\n",
    "        return 1\n",
    "    else:\n",
    "        return 0\n",
    "    \n",
    "df_naive['l_tp'] = df_naive.apply(true_pos_l, axis=1)\n",
    "df_naive['l_tn'] = df_naive.apply(true_neg_l, axis=1)\n",
    "df_naive['l_fp'] = df_naive.apply(fal_pos_l, axis=1)\n",
    "df_naive['l_fn'] = df_naive.apply(fal_neg_l, axis=1)\n",
    "\n",
    "tot_obs=len(df_naive.index)\n",
    "\n",
    "tot_s_fp=sum(df_naive['s_fp'])\n",
    "tot_s_tp=sum(df_naive['s_tp'])\n",
    "tot_s_fn=sum(df_naive['s_fn'])\n",
    "tot_s_tn=sum(df_naive['s_tn'])\n",
    "\n",
    "tot_l_fp=sum(df_naive['l_fp'])\n",
    "tot_l_tp=sum(df_naive['l_tp'])\n",
    "tot_l_fn=sum(df_naive['l_fn'])\n",
    "tot_l_tn=sum(df_naive['l_tn'])"
   ]
  },
  {
   "cell_type": "code",
   "execution_count": 10,
   "metadata": {},
   "outputs": [
    {
     "name": "stdout",
     "output_type": "stream",
     "text": [
      "259\n"
     ]
    }
   ],
   "source": [
    "print(tot_l_fp)"
   ]
  },
  {
   "cell_type": "code",
   "execution_count": 11,
   "metadata": {},
   "outputs": [
    {
     "name": "stdout",
     "output_type": "stream",
     "text": [
      "257\n"
     ]
    }
   ],
   "source": [
    "print(tot_l_fn)"
   ]
  },
  {
   "cell_type": "markdown",
   "metadata": {},
   "source": [
    "## Functions for determining performance\n",
    "### Accuracy = TruePositives + TrueNegatives / Total Obsersvations\n",
    "### Precision = TruePositives / (TruePositives + FalsePositives)\n",
    "### Recall = TruePositives / (TruePositives + FalseNegatives)\n",
    "### F-Measure = (2 * Precision * Recall) / (Precision + Recall)"
   ]
  },
  {
   "cell_type": "code",
   "execution_count": 12,
   "metadata": {},
   "outputs": [
    {
     "name": "stdout",
     "output_type": "stream",
     "text": [
      "recall score is 0.83\n",
      "accuracy score is 0.92\n",
      "precision score is 0.83\n",
      "f1 score is 0.83\n"
     ]
    }
   ],
   "source": [
    "accuracy_l = (tot_l_tp + tot_l_tn)/tot_obs\n",
    "precision_l = tot_l_tp/(tot_l_tp+tot_l_fp)\n",
    "recall_l = tot_l_tp/(tot_l_tp+tot_l_fn)\n",
    "f1_l=(2*precision_l*recall_l)/(precision_l+recall_l)\n",
    "\n",
    "print('recall score is '+str(round(recall_l,2)))\n",
    "print('accuracy score is '+str(round(accuracy_l,2)))\n",
    "print('precision score is '+str(round(precision_l,2)))\n",
    "print('f1 score is '+str(round(f1_l,2)))"
   ]
  },
  {
   "cell_type": "markdown",
   "metadata": {},
   "source": [
    "# Determining the accuracy of the simple classification.\n",
    "### Note that since there are no true positives in this case, precision and recall are zero and f1 is undefined."
   ]
  },
  {
   "cell_type": "code",
   "execution_count": 13,
   "metadata": {},
   "outputs": [
    {
     "name": "stdout",
     "output_type": "stream",
     "text": [
      "recall score is 0.0\n",
      "accuracy score is 0.71\n",
      "precision score is 0.0\n"
     ]
    }
   ],
   "source": [
    "accuracy_s = (tot_s_tp + tot_l_tn)/tot_obs\n",
    "precision_s = tot_s_tp/(tot_l_tp+tot_s_fp)\n",
    "recall_s = tot_s_tp/(tot_l_tp+tot_s_fn)\n",
    "#f1_s=(2*precision_s*recall_s)/(precision_s+recall_s)\n",
    "\n",
    "print('recall score is '+str(round(recall_s,2)))\n",
    "print('accuracy score is '+str(round(accuracy_s,2)))\n",
    "print('precision score is '+str(round(precision_s,2)))\n",
    "#print('f1 score is '+str(round(f1_l,2)))"
   ]
  },
  {
   "cell_type": "markdown",
   "metadata": {},
   "source": [
    "# Assessment of Base Specification"
   ]
  },
  {
   "cell_type": "code",
   "execution_count": 14,
   "metadata": {},
   "outputs": [],
   "source": [
    "# Load dataset\n",
    "files = []\n",
    "\n",
    "files.append(('One Year Base','../data/1y_offset.xlsx'))\n",
    "files.append(('Two Year Base','../data/2y_offset.xlsx'))\n",
    "files.append(('Three Year Base','../data/3y_offset.xlsx'))\n",
    "files.append(('Five Year Base','../data/5y_offset.xlsx'))\n",
    "files.append(('Ten Year Base','../data/10y_offset.xlsx'))"
   ]
  },
  {
   "cell_type": "markdown",
   "metadata": {},
   "source": [
    "## Base Specification"
   ]
  },
  {
   "cell_type": "code",
   "execution_count": 15,
   "metadata": {},
   "outputs": [],
   "source": [
    "df_b_a = pd.DataFrame(methods, columns = ['Algorithm'])\n",
    "df_b_r = pd.DataFrame(methods, columns = ['Algorithm'])\n",
    "df_b_f = pd.DataFrame(methods, columns = ['Algorithm'])"
   ]
  },
  {
   "cell_type": "code",
   "execution_count": 16,
   "metadata": {},
   "outputs": [
    {
     "name": "stderr",
     "output_type": "stream",
     "text": [
      "100%|████████████████████████████████████████████████████████████████████████████████████| 5/5 [06:04<00:00, 72.99s/it]\n"
     ]
    }
   ],
   "source": [
    "for name, file in tqdm(files):\n",
    "    #print('Fitting for '+name)\n",
    "    df = pd.read_excel (file,index_col=0,na_values=['..'])\n",
    "    \n",
    "    algo_a_mean = []\n",
    "    algo_a_std = []\n",
    "    algo_r_mean = []\n",
    "    algo_r_std = []\n",
    "    algo_f_mean = []\n",
    "    algo_f_std = []\n",
    "\n",
    "   \n",
    "    #Create testing and training sets\n",
    "    array = df.values\n",
    "\n",
    "    #Create X array\n",
    "    X= array[:,4:]\n",
    "\n",
    "    # Standardizing the features\n",
    "    X = StandardScaler().fit_transform(X)\n",
    "\n",
    "    #Create Y array\n",
    "    Y= array[:,3]\n",
    "    Y=Y.astype('int')\n",
    "   \n",
    "    for algo, model in models:   \n",
    "        accuracy = np.array([])\n",
    "        recall = np.array([])\n",
    "        f1 = np.array([])\n",
    "        for fold, (train_index, test_index) in enumerate(kf.split(X, Y), 1):\n",
    "            X_train = X[train_index]\n",
    "            Y_train = Y[train_index]  \n",
    "            X_test = X[test_index]\n",
    "            Y_test = Y[test_index]  \n",
    "            \n",
    "            #train/test split\n",
    "            sm = SMOTE()\n",
    "            X_train_oversampled, Y_train_oversampled = sm.fit_sample(X_train, Y_train)\n",
    "           \n",
    "            #fit model\n",
    "            model = model\n",
    "            model.fit(X_train_oversampled, Y_train_oversampled)  \n",
    "            Y_pred = model.predict(X_test)\n",
    "            \n",
    "            #generate reports\n",
    "            acc = accuracy_score(Y_test, Y_pred)\n",
    "            rec = recall_score(Y_test, Y_pred)\n",
    "            f=  f1_score(Y_test, Y_pred)\n",
    "            accuracy = np.append(accuracy, acc)\n",
    "            recall = np.append(recall, rec)\n",
    "            f1 = np.append(f1, f)\n",
    "        a_mean = accuracy.mean().tolist()\n",
    "        a_std = accuracy.std().tolist()\n",
    "        r_mean = recall.mean().tolist()\n",
    "        r_std = recall.std().tolist()\n",
    "        f_mean = f1.mean().tolist()\n",
    "        f_std = f1.std().tolist()\n",
    "        algo_a_mean.append(a_mean)\n",
    "        algo_a_std.append(a_std)\n",
    "        algo_r_mean.append(r_mean)\n",
    "        algo_r_std.append(r_std)\n",
    "        algo_f_mean.append(f_mean)\n",
    "        algo_f_std.append(f_std)\n",
    "    df_b_a[name+' mean'] = algo_a_mean\n",
    "    df_b_a[name+' std'] = algo_a_std\n",
    "    df_b_r[name+' mean'] = algo_r_mean\n",
    "    df_b_r[name+' std'] = algo_r_std\n",
    "    df_b_f[name+' mean'] = algo_f_mean\n",
    "    df_b_f[name+' std'] = algo_f_std"
   ]
  },
  {
   "cell_type": "markdown",
   "metadata": {},
   "source": [
    "## Base Specification w/ PCA"
   ]
  },
  {
   "cell_type": "code",
   "execution_count": 17,
   "metadata": {},
   "outputs": [],
   "source": [
    "df_bp_a = pd.DataFrame(methods, columns = ['Algorithm'])\n",
    "df_bp_r = pd.DataFrame(methods, columns = ['Algorithm'])\n",
    "df_bp_f = pd.DataFrame(methods, columns = ['Algorithm'])"
   ]
  },
  {
   "cell_type": "code",
   "execution_count": 18,
   "metadata": {},
   "outputs": [
    {
     "name": "stderr",
     "output_type": "stream",
     "text": [
      "100%|████████████████████████████████████████████████████████████████████████████████████| 5/5 [04:55<00:00, 59.10s/it]\n"
     ]
    }
   ],
   "source": [
    "for name, file in tqdm(files):\n",
    "    #print('Fitting for '+name)\n",
    "    df = pd.read_excel (file,index_col=0,na_values=['..'])\n",
    "\n",
    "    algo_a_mean = []\n",
    "    algo_a_std = []\n",
    "    algo_r_mean = []\n",
    "    algo_r_std = []\n",
    "    algo_f_mean = []\n",
    "    algo_f_std = []\n",
    "\n",
    "   \n",
    "    #Create testing and training sets\n",
    "    array = df.values\n",
    "\n",
    "    #Create X array\n",
    "    X= array[:,4:]\n",
    "\n",
    "    # Standardizing the features\n",
    "    X = StandardScaler().fit_transform(X)\n",
    "\n",
    "    #Create Y array\n",
    "    Y= array[:,3]\n",
    "    Y=Y.astype('int')\n",
    "\n",
    "    pca = PCA(pca_target)\n",
    "    principalComponents = pca.fit_transform(X)\n",
    "    \n",
    "    X = pca.fit_transform(X)\n",
    "     \n",
    "    for algo, model in models:   \n",
    "        accuracy = np.array([])\n",
    "        recall = np.array([])\n",
    "        f1 = np.array([])\n",
    "        for fold, (train_index, test_index) in enumerate(kf.split(X, Y), 1):\n",
    "            X_train = X[train_index]\n",
    "            Y_train = Y[train_index]  \n",
    "            X_test = X[test_index]\n",
    "            Y_test = Y[test_index]  \n",
    "            \n",
    "            #train/test split\n",
    "            sm = SMOTE()\n",
    "            X_train_oversampled, Y_train_oversampled = sm.fit_sample(X_train, Y_train)\n",
    "           \n",
    "            #fit model\n",
    "            model = model\n",
    "            model.fit(X_train_oversampled, Y_train_oversampled)  \n",
    "            Y_pred = model.predict(X_test)\n",
    "            \n",
    "            #generate reports\n",
    "            acc = accuracy_score(Y_test, Y_pred)\n",
    "            rec = recall_score(Y_test, Y_pred)\n",
    "            f=  f1_score(Y_test, Y_pred)\n",
    "            accuracy = np.append(accuracy, acc)\n",
    "            recall = np.append(recall, rec)\n",
    "            f1 = np.append(f1, f)\n",
    "        a_mean = accuracy.mean().tolist()\n",
    "        a_std = accuracy.std().tolist()\n",
    "        r_mean = recall.mean().tolist()\n",
    "        r_std = recall.std().tolist()\n",
    "        f_mean = f1.mean().tolist()\n",
    "        f_std = f1.std().tolist()\n",
    "        algo_a_mean.append(a_mean)\n",
    "        algo_a_std.append(a_std)\n",
    "        algo_r_mean.append(r_mean)\n",
    "        algo_r_std.append(r_std)\n",
    "        algo_f_mean.append(f_mean)\n",
    "        algo_f_std.append(f_std)\n",
    "    df_bp_a[name+' mean'] = algo_a_mean\n",
    "    df_bp_a[name+' std'] = algo_a_std\n",
    "    df_bp_r[name+' mean'] = algo_r_mean\n",
    "    df_bp_r[name+' std'] = algo_r_std\n",
    "    df_bp_f[name+' mean'] = algo_f_mean\n",
    "    df_bp_f[name+' std'] = algo_f_std"
   ]
  },
  {
   "cell_type": "markdown",
   "metadata": {},
   "source": [
    "## Base Specification w/ Y/R/C dummies"
   ]
  },
  {
   "cell_type": "code",
   "execution_count": 19,
   "metadata": {},
   "outputs": [],
   "source": [
    "df_bd_a = pd.DataFrame(methods, columns = ['Algorithm'])\n",
    "df_bd_r = pd.DataFrame(methods, columns = ['Algorithm'])\n",
    "df_bd_f = pd.DataFrame(methods, columns = ['Algorithm'])"
   ]
  },
  {
   "cell_type": "code",
   "execution_count": 20,
   "metadata": {},
   "outputs": [
    {
     "name": "stderr",
     "output_type": "stream",
     "text": [
      "100%|███████████████████████████████████████████████████████████████████████████████████| 5/5 [21:05<00:00, 253.12s/it]\n"
     ]
    }
   ],
   "source": [
    "for name, file in tqdm(files):\n",
    "    #print('Fitting for '+name)\n",
    "    df = pd.read_excel (file,index_col=0,na_values=['..'])\n",
    "    \n",
    "    #Creation of Year/Region/Country Dummies\n",
    "    year_dummies = pd.get_dummies(df.year, prefix='year').iloc[:,1:]\n",
    "    region_dummies = pd.get_dummies(df.region, prefix='region').iloc[:,1:]\n",
    "    country_dummies = pd.get_dummies(df.ccode, prefix='country: ').iloc[:,1:]\n",
    "    \n",
    "    df = pd.concat([df, year_dummies, region_dummies, country_dummies], axis = 1)\n",
    "    \n",
    "    algo_a_mean = []\n",
    "    algo_a_std = []\n",
    "    algo_r_mean = []\n",
    "    algo_r_std = []\n",
    "    algo_f_mean = []\n",
    "    algo_f_std = []\n",
    "\n",
    "   \n",
    "    #Create testing and training sets\n",
    "    array = df.values\n",
    "\n",
    "    #Create X array\n",
    "    X= array[:,4:]\n",
    "\n",
    "    # Standardizing the features\n",
    "    X = StandardScaler().fit_transform(X)\n",
    "\n",
    "    #Create Y array\n",
    "    Y= array[:,3]\n",
    "    Y=Y.astype('int')\n",
    "       \n",
    "    for algo, model in models:   \n",
    "        accuracy = np.array([])\n",
    "        recall = np.array([])\n",
    "        f1 = np.array([])\n",
    "        for fold, (train_index, test_index) in enumerate(kf.split(X, Y), 1):\n",
    "            X_train = X[train_index]\n",
    "            Y_train = Y[train_index]  \n",
    "            X_test = X[test_index]\n",
    "            Y_test = Y[test_index]  \n",
    "            \n",
    "            #train/test split\n",
    "            sm = SMOTE()\n",
    "            X_train_oversampled, Y_train_oversampled = sm.fit_sample(X_train, Y_train)\n",
    "           \n",
    "            #fit model\n",
    "            model = model\n",
    "            model.fit(X_train_oversampled, Y_train_oversampled)  \n",
    "            Y_pred = model.predict(X_test)\n",
    "            \n",
    "            #generate reports\n",
    "            acc = accuracy_score(Y_test, Y_pred)\n",
    "            rec = recall_score(Y_test, Y_pred)\n",
    "            f=  f1_score(Y_test, Y_pred)\n",
    "            accuracy = np.append(accuracy, acc)\n",
    "            recall = np.append(recall, rec)\n",
    "            f1 = np.append(f1, f)\n",
    "        a_mean = accuracy.mean().tolist()\n",
    "        a_std = accuracy.std().tolist()\n",
    "        r_mean = recall.mean().tolist()\n",
    "        r_std = recall.std().tolist()\n",
    "        f_mean = f1.mean().tolist()\n",
    "        f_std = f1.std().tolist()\n",
    "        algo_a_mean.append(a_mean)\n",
    "        algo_a_std.append(a_std)\n",
    "        algo_r_mean.append(r_mean)\n",
    "        algo_r_std.append(r_std)\n",
    "        algo_f_mean.append(f_mean)\n",
    "        algo_f_std.append(f_std)\n",
    "    df_bd_a[name+' mean'] = algo_a_mean\n",
    "    df_bd_a[name+' std'] = algo_a_std\n",
    "    df_bd_r[name+' mean'] = algo_r_mean\n",
    "    df_bd_r[name+' std'] = algo_r_std\n",
    "    df_bd_f[name+' mean'] = algo_f_mean\n",
    "    df_bd_f[name+' std'] = algo_f_std"
   ]
  },
  {
   "cell_type": "markdown",
   "metadata": {},
   "source": [
    "## Base Specification w/ PCA and Y/R/C dummies"
   ]
  },
  {
   "cell_type": "code",
   "execution_count": 21,
   "metadata": {},
   "outputs": [],
   "source": [
    "df_bpd_a = pd.DataFrame(methods, columns = ['Algorithm'])\n",
    "df_bpd_r = pd.DataFrame(methods, columns = ['Algorithm'])\n",
    "df_bpd_f = pd.DataFrame(methods, columns = ['Algorithm'])"
   ]
  },
  {
   "cell_type": "code",
   "execution_count": 22,
   "metadata": {},
   "outputs": [
    {
     "name": "stderr",
     "output_type": "stream",
     "text": [
      "100%|███████████████████████████████████████████████████████████████████████████████████| 5/5 [21:41<00:00, 260.34s/it]\n"
     ]
    }
   ],
   "source": [
    "for name, file in tqdm(files):\n",
    "    #print('Fitting for '+name)\n",
    "    df = pd.read_excel (file,index_col=0,na_values=['..'])\n",
    "    \n",
    "    #Creation of Year/Region/Country Dummies\n",
    "    year_dummies = pd.get_dummies(df.year, prefix='year').iloc[:,1:]\n",
    "    region_dummies = pd.get_dummies(df.region, prefix='region').iloc[:,1:]\n",
    "    country_dummies = pd.get_dummies(df.ccode, prefix='country: ').iloc[:,1:]\n",
    "    \n",
    "    df = pd.concat([df, year_dummies, region_dummies, country_dummies], axis = 1)\n",
    "    \n",
    "    algo_a_mean = []\n",
    "    algo_a_std = []\n",
    "    algo_r_mean = []\n",
    "    algo_r_std = []\n",
    "    algo_f_mean = []\n",
    "    algo_f_std = []\n",
    "\n",
    "   \n",
    "    #Create testing and training sets\n",
    "    array = df.values\n",
    "\n",
    "    #Create X array\n",
    "    X= array[:,4:]\n",
    "\n",
    "    # Standardizing the features\n",
    "    X = StandardScaler().fit_transform(X)\n",
    "\n",
    "    #Create Y array\n",
    "    Y= array[:,3]\n",
    "    Y=Y.astype('int')\n",
    "\n",
    "    pca = PCA(pca_target)\n",
    "    principalComponents = pca.fit_transform(X)\n",
    "    \n",
    "    X = pca.fit_transform(X)\n",
    "        \n",
    "    for algo, model in models:   \n",
    "        accuracy = np.array([])\n",
    "        recall = np.array([])\n",
    "        f1 = np.array([])\n",
    "        for fold, (train_index, test_index) in enumerate(kf.split(X, Y), 1):\n",
    "            X_train = X[train_index]\n",
    "            Y_train = Y[train_index]  \n",
    "            X_test = X[test_index]\n",
    "            Y_test = Y[test_index]  \n",
    "            \n",
    "            #train/test split\n",
    "            sm = SMOTE()\n",
    "            X_train_oversampled, Y_train_oversampled = sm.fit_sample(X_train, Y_train)\n",
    "           \n",
    "            #fit model\n",
    "            model = model\n",
    "            model.fit(X_train_oversampled, Y_train_oversampled)  \n",
    "            Y_pred = model.predict(X_test)\n",
    "            \n",
    "            #generate reports\n",
    "            acc = accuracy_score(Y_test, Y_pred)\n",
    "            rec = recall_score(Y_test, Y_pred)\n",
    "            f=  f1_score(Y_test, Y_pred)\n",
    "            accuracy = np.append(accuracy, acc)\n",
    "            recall = np.append(recall, rec)\n",
    "            f1 = np.append(f1, f)\n",
    "        a_mean = accuracy.mean().tolist()\n",
    "        a_std = accuracy.std().tolist()\n",
    "        r_mean = recall.mean().tolist()\n",
    "        r_std = recall.std().tolist()\n",
    "        f_mean = f1.mean().tolist()\n",
    "        f_std = f1.std().tolist()\n",
    "        algo_a_mean.append(a_mean)\n",
    "        algo_a_std.append(a_std)\n",
    "        algo_r_mean.append(r_mean)\n",
    "        algo_r_std.append(r_std)\n",
    "        algo_f_mean.append(f_mean)\n",
    "        algo_f_std.append(f_std)\n",
    "    df_bpd_a[name+' mean'] = algo_a_mean\n",
    "    df_bpd_a[name+' std'] = algo_a_std\n",
    "    df_bpd_r[name+' mean'] = algo_r_mean\n",
    "    df_bpd_r[name+' std'] = algo_r_std\n",
    "    df_bpd_f[name+' mean'] = algo_f_mean\n",
    "    df_bpd_f[name+' std'] = algo_f_std"
   ]
  },
  {
   "cell_type": "markdown",
   "metadata": {},
   "source": [
    "# Assessment of Alternative Specification"
   ]
  },
  {
   "cell_type": "code",
   "execution_count": 23,
   "metadata": {},
   "outputs": [],
   "source": [
    "# Load dataset\n",
    "files = []\n",
    "\n",
    "files.append(('One Year Alt','../data/1a_offset.xlsx'))\n",
    "files.append(('Two Year Alt','../data/2a_offset.xlsx'))\n",
    "files.append(('Three Year Alt','../data/3a_offset.xlsx'))\n",
    "files.append(('Five Year Alt','../data/5a_offset.xlsx'))\n",
    "files.append(('Ten Year Alt','../data/10a_offset.xlsx'))"
   ]
  },
  {
   "cell_type": "markdown",
   "metadata": {},
   "source": [
    "## Alternative Specification"
   ]
  },
  {
   "cell_type": "code",
   "execution_count": 24,
   "metadata": {},
   "outputs": [],
   "source": [
    "df_a_a = pd.DataFrame(methods, columns = ['Algorithm'])\n",
    "df_a_r = pd.DataFrame(methods, columns = ['Algorithm'])\n",
    "df_a_f = pd.DataFrame(methods, columns = ['Algorithm'])"
   ]
  },
  {
   "cell_type": "code",
   "execution_count": 25,
   "metadata": {},
   "outputs": [
    {
     "name": "stderr",
     "output_type": "stream",
     "text": [
      "100%|████████████████████████████████████████████████████████████████████████████████████| 5/5 [06:33<00:00, 78.67s/it]\n"
     ]
    }
   ],
   "source": [
    "for name, file in tqdm(files):\n",
    "    #print('Fitting for '+name)\n",
    "    df = pd.read_excel (file,index_col=0,na_values=['..'])\n",
    " \n",
    "    algo_a_mean = []\n",
    "    algo_a_std = []\n",
    "    algo_r_mean = []\n",
    "    algo_r_std = []\n",
    "    algo_f_mean = []\n",
    "    algo_f_std = []\n",
    "\n",
    "   \n",
    "    #Create testing and training sets\n",
    "    array = df.values\n",
    "\n",
    "    #Create X array\n",
    "    X= array[:,4:]\n",
    "\n",
    "    # Standardizing the features\n",
    "    X = StandardScaler().fit_transform(X)\n",
    "\n",
    "    #Create Y array\n",
    "    Y= array[:,3]\n",
    "    Y=Y.astype('int')\n",
    "        \n",
    "    for algo, model in models:   \n",
    "        accuracy = np.array([])\n",
    "        recall = np.array([])\n",
    "        f1 = np.array([])\n",
    "        for fold, (train_index, test_index) in enumerate(kf.split(X, Y), 1):\n",
    "            X_train = X[train_index]\n",
    "            Y_train = Y[train_index]  \n",
    "            X_test = X[test_index]\n",
    "            Y_test = Y[test_index]  \n",
    "            \n",
    "            #train/test split\n",
    "            sm = SMOTE()\n",
    "            X_train_oversampled, Y_train_oversampled = sm.fit_sample(X_train, Y_train)\n",
    "           \n",
    "            #fit model\n",
    "            model = model\n",
    "            model.fit(X_train_oversampled, Y_train_oversampled)  \n",
    "            Y_pred = model.predict(X_test)\n",
    "            \n",
    "            #generate reports\n",
    "            acc = accuracy_score(Y_test, Y_pred)\n",
    "            rec = recall_score(Y_test, Y_pred)\n",
    "            f=  f1_score(Y_test, Y_pred)\n",
    "            accuracy = np.append(accuracy, acc)\n",
    "            recall = np.append(recall, rec)\n",
    "            f1 = np.append(f1, f)\n",
    "        a_mean = accuracy.mean().tolist()\n",
    "        a_std = accuracy.std().tolist()\n",
    "        r_mean = recall.mean().tolist()\n",
    "        r_std = recall.std().tolist()\n",
    "        f_mean = f1.mean().tolist()\n",
    "        f_std = f1.std().tolist()\n",
    "        algo_a_mean.append(a_mean)\n",
    "        algo_a_std.append(a_std)\n",
    "        algo_r_mean.append(r_mean)\n",
    "        algo_r_std.append(r_std)\n",
    "        algo_f_mean.append(f_mean)\n",
    "        algo_f_std.append(f_std)\n",
    "    df_a_a[name+' mean'] = algo_a_mean\n",
    "    df_a_a[name+' std'] = algo_a_std\n",
    "    df_a_r[name+' mean'] = algo_r_mean\n",
    "    df_a_r[name+' std'] = algo_r_std\n",
    "    df_a_f[name+' mean'] = algo_f_mean\n",
    "    df_a_f[name+' std'] = algo_f_std"
   ]
  },
  {
   "cell_type": "markdown",
   "metadata": {},
   "source": [
    "## Alternative Specification w/ PCA"
   ]
  },
  {
   "cell_type": "code",
   "execution_count": 26,
   "metadata": {},
   "outputs": [],
   "source": [
    "df_ap_a = pd.DataFrame(methods, columns = ['Algorithm'])\n",
    "df_ap_r = pd.DataFrame(methods, columns = ['Algorithm'])\n",
    "df_ap_f = pd.DataFrame(methods, columns = ['Algorithm'])"
   ]
  },
  {
   "cell_type": "code",
   "execution_count": 27,
   "metadata": {},
   "outputs": [
    {
     "name": "stderr",
     "output_type": "stream",
     "text": [
      "100%|████████████████████████████████████████████████████████████████████████████████████| 5/5 [05:06<00:00, 61.36s/it]\n"
     ]
    }
   ],
   "source": [
    "for name, file in tqdm(files):\n",
    "    #print('Fitting for '+name)\n",
    "    df = pd.read_excel (file,index_col=0,na_values=['..'])\n",
    "\n",
    "    algo_a_mean = []\n",
    "    algo_a_std = []\n",
    "    algo_r_mean = []\n",
    "    algo_r_std = []\n",
    "    algo_f_mean = []\n",
    "    algo_f_std = []\n",
    "\n",
    "   \n",
    "    #Create testing and training sets\n",
    "    array = df.values\n",
    "\n",
    "    #Create X array\n",
    "    X= array[:,4:]\n",
    "\n",
    "    # Standardizing the features\n",
    "    X = StandardScaler().fit_transform(X)\n",
    "\n",
    "    #Create Y array\n",
    "    Y= array[:,3]\n",
    "    Y=Y.astype('int')\n",
    "\n",
    "    pca = PCA(pca_target)\n",
    "    principalComponents = pca.fit_transform(X)\n",
    "    \n",
    "    X = pca.fit_transform(X)\n",
    "        \n",
    "    for algo, model in models:   \n",
    "        accuracy = np.array([])\n",
    "        recall = np.array([])\n",
    "        f1 = np.array([])\n",
    "        for fold, (train_index, test_index) in enumerate(kf.split(X, Y), 1):\n",
    "            X_train = X[train_index]\n",
    "            Y_train = Y[train_index]  \n",
    "            X_test = X[test_index]\n",
    "            Y_test = Y[test_index]  \n",
    "            \n",
    "            #train/test split\n",
    "            sm = SMOTE()\n",
    "            X_train_oversampled, Y_train_oversampled = sm.fit_sample(X_train, Y_train)\n",
    "           \n",
    "            #fit model\n",
    "            model = model\n",
    "            model.fit(X_train_oversampled, Y_train_oversampled)  \n",
    "            Y_pred = model.predict(X_test)\n",
    "            \n",
    "            #generate reports\n",
    "            acc = accuracy_score(Y_test, Y_pred)\n",
    "            rec = recall_score(Y_test, Y_pred)\n",
    "            f=  f1_score(Y_test, Y_pred)\n",
    "            accuracy = np.append(accuracy, acc)\n",
    "            recall = np.append(recall, rec)\n",
    "            f1 = np.append(f1, f)\n",
    "        a_mean = accuracy.mean().tolist()\n",
    "        a_std = accuracy.std().tolist()\n",
    "        r_mean = recall.mean().tolist()\n",
    "        r_std = recall.std().tolist()\n",
    "        f_mean = f1.mean().tolist()\n",
    "        f_std = f1.std().tolist()\n",
    "        algo_a_mean.append(a_mean)\n",
    "        algo_a_std.append(a_std)\n",
    "        algo_r_mean.append(r_mean)\n",
    "        algo_r_std.append(r_std)\n",
    "        algo_f_mean.append(f_mean)\n",
    "        algo_f_std.append(f_std)\n",
    "    df_ap_a[name+' mean'] = algo_a_mean\n",
    "    df_ap_a[name+' std'] = algo_a_std\n",
    "    df_ap_r[name+' mean'] = algo_r_mean\n",
    "    df_ap_r[name+' std'] = algo_r_std\n",
    "    df_ap_f[name+' mean'] = algo_f_mean\n",
    "    df_ap_f[name+' std'] = algo_f_std"
   ]
  },
  {
   "cell_type": "markdown",
   "metadata": {},
   "source": [
    "## Alternative Specification w/ Y/R/C dummies"
   ]
  },
  {
   "cell_type": "code",
   "execution_count": 28,
   "metadata": {},
   "outputs": [],
   "source": [
    "df_ad_a = pd.DataFrame(methods, columns = ['Algorithm'])\n",
    "df_ad_r = pd.DataFrame(methods, columns = ['Algorithm'])\n",
    "df_ad_f = pd.DataFrame(methods, columns = ['Algorithm'])"
   ]
  },
  {
   "cell_type": "code",
   "execution_count": 29,
   "metadata": {},
   "outputs": [
    {
     "name": "stderr",
     "output_type": "stream",
     "text": [
      "100%|███████████████████████████████████████████████████████████████████████████████████| 5/5 [20:15<00:00, 243.07s/it]\n"
     ]
    }
   ],
   "source": [
    "for name, file in tqdm(files):\n",
    "    #print('Fitting for '+name)\n",
    "    df = pd.read_excel (file,index_col=0,na_values=['..'])\n",
    "    \n",
    "    #Creation of Year/Region/Country Dummies\n",
    "    year_dummies = pd.get_dummies(df.year, prefix='year').iloc[:,1:]\n",
    "    region_dummies = pd.get_dummies(df.region, prefix='region').iloc[:,1:]\n",
    "    country_dummies = pd.get_dummies(df.ccode, prefix='country: ').iloc[:,1:]\n",
    "    \n",
    "    df = pd.concat([df, year_dummies, region_dummies, country_dummies], axis = 1)\n",
    "    \n",
    "    algo_a_mean = []\n",
    "    algo_a_std = []\n",
    "    algo_r_mean = []\n",
    "    algo_r_std = []\n",
    "    algo_f_mean = []\n",
    "    algo_f_std = []\n",
    "\n",
    "   \n",
    "    #Create testing and training sets\n",
    "    array = df.values\n",
    "\n",
    "    #Create X array\n",
    "    X= array[:,4:]\n",
    "\n",
    "    # Standardizing the features\n",
    "    X = StandardScaler().fit_transform(X)\n",
    "\n",
    "    #Create Y array\n",
    "    Y= array[:,3]\n",
    "    Y=Y.astype('int')\n",
    "    \n",
    "    for algo, model in models:   \n",
    "        accuracy = np.array([])\n",
    "        recall = np.array([])\n",
    "        f1 = np.array([])\n",
    "        for fold, (train_index, test_index) in enumerate(kf.split(X, Y), 1):\n",
    "            X_train = X[train_index]\n",
    "            Y_train = Y[train_index]  \n",
    "            X_test = X[test_index]\n",
    "            Y_test = Y[test_index]  \n",
    "            \n",
    "            #train/test split\n",
    "            sm = SMOTE()\n",
    "            X_train_oversampled, Y_train_oversampled = sm.fit_sample(X_train, Y_train)\n",
    "           \n",
    "            #fit model\n",
    "            model = model\n",
    "            model.fit(X_train_oversampled, Y_train_oversampled)  \n",
    "            Y_pred = model.predict(X_test)\n",
    "            \n",
    "            #generate reports\n",
    "            acc = accuracy_score(Y_test, Y_pred)\n",
    "            rec = recall_score(Y_test, Y_pred)\n",
    "            f=  f1_score(Y_test, Y_pred)\n",
    "            accuracy = np.append(accuracy, acc)\n",
    "            recall = np.append(recall, rec)\n",
    "            f1 = np.append(f1, f)\n",
    "        a_mean = accuracy.mean().tolist()\n",
    "        a_std = accuracy.std().tolist()\n",
    "        r_mean = recall.mean().tolist()\n",
    "        r_std = recall.std().tolist()\n",
    "        f_mean = f1.mean().tolist()\n",
    "        f_std = f1.std().tolist()\n",
    "        algo_a_mean.append(a_mean)\n",
    "        algo_a_std.append(a_std)\n",
    "        algo_r_mean.append(r_mean)\n",
    "        algo_r_std.append(r_std)\n",
    "        algo_f_mean.append(f_mean)\n",
    "        algo_f_std.append(f_std)\n",
    "    df_ad_a[name+' mean'] = algo_a_mean\n",
    "    df_ad_a[name+' std'] = algo_a_std\n",
    "    df_ad_r[name+' mean'] = algo_r_mean\n",
    "    df_ad_r[name+' std'] = algo_r_std\n",
    "    df_ad_f[name+' mean'] = algo_f_mean\n",
    "    df_ad_f[name+' std'] = algo_f_std"
   ]
  },
  {
   "cell_type": "markdown",
   "metadata": {},
   "source": [
    "## Alternative Specification w/ Y/R/C dummies and PCA"
   ]
  },
  {
   "cell_type": "code",
   "execution_count": 30,
   "metadata": {},
   "outputs": [],
   "source": [
    "df_apd_a = pd.DataFrame(methods, columns = ['Algorithm'])\n",
    "df_apd_r = pd.DataFrame(methods, columns = ['Algorithm'])\n",
    "df_apd_f = pd.DataFrame(methods, columns = ['Algorithm'])"
   ]
  },
  {
   "cell_type": "code",
   "execution_count": 31,
   "metadata": {},
   "outputs": [
    {
     "name": "stderr",
     "output_type": "stream",
     "text": [
      "100%|███████████████████████████████████████████████████████████████████████████████████| 5/5 [20:49<00:00, 249.94s/it]\n"
     ]
    }
   ],
   "source": [
    "for name, file in tqdm(files):\n",
    "    #print('Fitting for '+name)\n",
    "    df = pd.read_excel (file,index_col=0,na_values=['..'])\n",
    "    \n",
    "    #Creation of Year/Region/Country Dummies\n",
    "    year_dummies = pd.get_dummies(df.year, prefix='year').iloc[:,1:]\n",
    "    region_dummies = pd.get_dummies(df.region, prefix='region').iloc[:,1:]\n",
    "    country_dummies = pd.get_dummies(df.ccode, prefix='country: ').iloc[:,1:]\n",
    "    \n",
    "    df = pd.concat([df, year_dummies, region_dummies, country_dummies], axis = 1)\n",
    "    \n",
    "    algo_a_mean = []\n",
    "    algo_a_std = []\n",
    "    algo_r_mean = []\n",
    "    algo_r_std = []\n",
    "    algo_f_mean = []\n",
    "    algo_f_std = []\n",
    "\n",
    "   \n",
    "    #Create testing and training sets\n",
    "    array = df.values\n",
    "\n",
    "    #Create X array\n",
    "    X= array[:,4:]\n",
    "\n",
    "    # Standardizing the features\n",
    "    X = StandardScaler().fit_transform(X)\n",
    "\n",
    "    #Create Y array\n",
    "    Y= array[:,3]\n",
    "    Y=Y.astype('int')\n",
    "\n",
    "    pca = PCA(pca_target)\n",
    "    principalComponents = pca.fit_transform(X)\n",
    "    \n",
    "    X = pca.fit_transform(X)\n",
    "        \n",
    "    for algo, model in models:   \n",
    "        accuracy = np.array([])\n",
    "        recall = np.array([])\n",
    "        f1 = np.array([])\n",
    "        for fold, (train_index, test_index) in enumerate(kf.split(X, Y), 1):\n",
    "            X_train = X[train_index]\n",
    "            Y_train = Y[train_index]  \n",
    "            X_test = X[test_index]\n",
    "            Y_test = Y[test_index]  \n",
    "            \n",
    "            #train/test split\n",
    "            sm = SMOTE()\n",
    "            X_train_oversampled, Y_train_oversampled = sm.fit_sample(X_train, Y_train)\n",
    "           \n",
    "            #fit model\n",
    "            model = model\n",
    "            model.fit(X_train_oversampled, Y_train_oversampled)  \n",
    "            Y_pred = model.predict(X_test)\n",
    "            \n",
    "            #generate reports\n",
    "            acc = accuracy_score(Y_test, Y_pred)\n",
    "            rec = recall_score(Y_test, Y_pred)\n",
    "            f=  f1_score(Y_test, Y_pred)\n",
    "            accuracy = np.append(accuracy, acc)\n",
    "            recall = np.append(recall, rec)\n",
    "            f1 = np.append(f1, f)\n",
    "        a_mean = accuracy.mean().tolist()\n",
    "        a_std = accuracy.std().tolist()\n",
    "        r_mean = recall.mean().tolist()\n",
    "        r_std = recall.std().tolist()\n",
    "        f_mean = f1.mean().tolist()\n",
    "        f_std = f1.std().tolist()\n",
    "        algo_a_mean.append(a_mean)\n",
    "        algo_a_std.append(a_std)\n",
    "        algo_r_mean.append(r_mean)\n",
    "        algo_r_std.append(r_std)\n",
    "        algo_f_mean.append(f_mean)\n",
    "        algo_f_std.append(f_std)\n",
    "    df_apd_a[name+' mean'] = algo_a_mean\n",
    "    df_apd_a[name+' std'] = algo_a_std\n",
    "    df_apd_r[name+' mean'] = algo_r_mean\n",
    "    df_apd_r[name+' std'] = algo_r_std\n",
    "    df_apd_f[name+' mean'] = algo_f_mean\n",
    "    df_apd_f[name+' std'] = algo_f_std"
   ]
  },
  {
   "cell_type": "markdown",
   "metadata": {},
   "source": [
    "# Assessment of Conflict Type on Alternative Specification"
   ]
  },
  {
   "cell_type": "code",
   "execution_count": 32,
   "metadata": {},
   "outputs": [],
   "source": [
    "files = []\n",
    "\n",
    "files.append(('State Based','../data/con_1.xlsx'))\n",
    "files.append(('Non State','../data/con_2.xlsx'))\n",
    "files.append(('One Sided','../data/con_3.xlsx'))"
   ]
  },
  {
   "cell_type": "markdown",
   "metadata": {},
   "source": [
    "## Con Type Specification"
   ]
  },
  {
   "cell_type": "code",
   "execution_count": 33,
   "metadata": {},
   "outputs": [],
   "source": [
    "df_c_a = pd.DataFrame(methods, columns = ['Algorithm'])\n",
    "df_c_r = pd.DataFrame(methods, columns = ['Algorithm'])\n",
    "df_c_f = pd.DataFrame(methods, columns = ['Algorithm'])"
   ]
  },
  {
   "cell_type": "code",
   "execution_count": 34,
   "metadata": {},
   "outputs": [
    {
     "name": "stderr",
     "output_type": "stream",
     "text": [
      "100%|████████████████████████████████████████████████████████████████████████████████████| 3/3 [04:45<00:00, 95.11s/it]\n"
     ]
    }
   ],
   "source": [
    "for name, file in tqdm(files):\n",
    "    #print('Fitting for '+name)\n",
    "    df = pd.read_excel (file,index_col=0,na_values=['..'])\n",
    "    \n",
    "    algo_a_mean = []\n",
    "    algo_a_std = []\n",
    "    algo_r_mean = []\n",
    "    algo_r_std = []\n",
    "    algo_f_mean = []\n",
    "    algo_f_std = []\n",
    "\n",
    "   \n",
    "    #Create testing and training sets\n",
    "    array = df.values\n",
    "\n",
    "    #Create X array\n",
    "    X= array[:,4:]\n",
    "\n",
    "    # Standardizing the features\n",
    "    X = StandardScaler().fit_transform(X)\n",
    "\n",
    "    #Create Y array\n",
    "    Y= array[:,3]\n",
    "    Y=Y.astype('int')\n",
    "      \n",
    "    for algo, model in models:   \n",
    "        accuracy = np.array([])\n",
    "        recall = np.array([])\n",
    "        f1 = np.array([])\n",
    "        for fold, (train_index, test_index) in enumerate(kf.split(X, Y), 1):\n",
    "            X_train = X[train_index]\n",
    "            Y_train = Y[train_index]  \n",
    "            X_test = X[test_index]\n",
    "            Y_test = Y[test_index]  \n",
    "            \n",
    "            #train/test split\n",
    "            sm = SMOTE()\n",
    "            X_train_oversampled, Y_train_oversampled = sm.fit_sample(X_train, Y_train)\n",
    "           \n",
    "            #fit model\n",
    "            model = model\n",
    "            model.fit(X_train_oversampled, Y_train_oversampled)  \n",
    "            Y_pred = model.predict(X_test)\n",
    "            \n",
    "            #generate reports\n",
    "            acc = accuracy_score(Y_test, Y_pred)\n",
    "            rec = recall_score(Y_test, Y_pred)\n",
    "            f=  f1_score(Y_test, Y_pred)\n",
    "            accuracy = np.append(accuracy, acc)\n",
    "            recall = np.append(recall, rec)\n",
    "            f1 = np.append(f1, f)\n",
    "        a_mean = accuracy.mean().tolist()\n",
    "        a_std = accuracy.std().tolist()\n",
    "        r_mean = recall.mean().tolist()\n",
    "        r_std = recall.std().tolist()\n",
    "        f_mean = f1.mean().tolist()\n",
    "        f_std = f1.std().tolist()\n",
    "        algo_a_mean.append(a_mean)\n",
    "        algo_a_std.append(a_std)\n",
    "        algo_r_mean.append(r_mean)\n",
    "        algo_r_std.append(r_std)\n",
    "        algo_f_mean.append(f_mean)\n",
    "        algo_f_std.append(f_std)\n",
    "    df_c_a[name+' mean'] = algo_a_mean\n",
    "    df_c_a[name+' std'] = algo_a_std\n",
    "    df_c_r[name+' mean'] = algo_r_mean\n",
    "    df_c_r[name+' std'] = algo_r_std\n",
    "    df_c_f[name+' mean'] = algo_f_mean\n",
    "    df_c_f[name+' std'] = algo_f_std"
   ]
  },
  {
   "cell_type": "markdown",
   "metadata": {},
   "source": [
    "## Con Type Specification w/  PCA"
   ]
  },
  {
   "cell_type": "code",
   "execution_count": 35,
   "metadata": {},
   "outputs": [],
   "source": [
    "df_cp_a = pd.DataFrame(methods, columns = ['Algorithm'])\n",
    "df_cp_r = pd.DataFrame(methods, columns = ['Algorithm'])\n",
    "df_cp_f = pd.DataFrame(methods, columns = ['Algorithm'])"
   ]
  },
  {
   "cell_type": "code",
   "execution_count": 36,
   "metadata": {},
   "outputs": [
    {
     "name": "stderr",
     "output_type": "stream",
     "text": [
      "100%|████████████████████████████████████████████████████████████████████████████████████| 3/3 [03:42<00:00, 74.01s/it]\n"
     ]
    }
   ],
   "source": [
    "for name, file in tqdm(files):\n",
    "    #print('Fitting for '+name)\n",
    "    df = pd.read_excel (file,index_col=0,na_values=['..'])\n",
    "\n",
    "    algo_a_mean = []\n",
    "    algo_a_std = []\n",
    "    algo_r_mean = []\n",
    "    algo_r_std = []\n",
    "    algo_f_mean = []\n",
    "    algo_f_std = []\n",
    "\n",
    "   \n",
    "    #Create testing and training sets\n",
    "    array = df.values\n",
    "\n",
    "    #Create X array\n",
    "    X= array[:,4:]\n",
    "\n",
    "    # Standardizing the features\n",
    "    X = StandardScaler().fit_transform(X)\n",
    "\n",
    "    #Create Y array\n",
    "    Y= array[:,3]\n",
    "    Y=Y.astype('int')\n",
    "\n",
    "    pca = PCA(pca_target)\n",
    "    principalComponents = pca.fit_transform(X)\n",
    "    \n",
    "    X = pca.fit_transform(X)\n",
    "        \n",
    "    for algo, model in models:   \n",
    "        accuracy = np.array([])\n",
    "        recall = np.array([])\n",
    "        f1 = np.array([])\n",
    "        for fold, (train_index, test_index) in enumerate(kf.split(X, Y), 1):\n",
    "            X_train = X[train_index]\n",
    "            Y_train = Y[train_index]  \n",
    "            X_test = X[test_index]\n",
    "            Y_test = Y[test_index]  \n",
    "            \n",
    "            #train/test split\n",
    "            sm = SMOTE()\n",
    "            X_train_oversampled, Y_train_oversampled = sm.fit_sample(X_train, Y_train)\n",
    "           \n",
    "            #fit model\n",
    "            model = model\n",
    "            model.fit(X_train_oversampled, Y_train_oversampled)  \n",
    "            Y_pred = model.predict(X_test)\n",
    "            \n",
    "            #generate reports\n",
    "            acc = accuracy_score(Y_test, Y_pred)\n",
    "            rec = recall_score(Y_test, Y_pred)\n",
    "            f=  f1_score(Y_test, Y_pred)\n",
    "            accuracy = np.append(accuracy, acc)\n",
    "            recall = np.append(recall, rec)\n",
    "            f1 = np.append(f1, f)\n",
    "        a_mean = accuracy.mean().tolist()\n",
    "        a_std = accuracy.std().tolist()\n",
    "        r_mean = recall.mean().tolist()\n",
    "        r_std = recall.std().tolist()\n",
    "        f_mean = f1.mean().tolist()\n",
    "        f_std = f1.std().tolist()\n",
    "        algo_a_mean.append(a_mean)\n",
    "        algo_a_std.append(a_std)\n",
    "        algo_r_mean.append(r_mean)\n",
    "        algo_r_std.append(r_std)\n",
    "        algo_f_mean.append(f_mean)\n",
    "        algo_f_std.append(f_std)\n",
    "    df_cp_a[name+' mean'] = algo_a_mean\n",
    "    df_cp_a[name+' std'] = algo_a_std\n",
    "    df_cp_r[name+' mean'] = algo_r_mean\n",
    "    df_cp_r[name+' std'] = algo_r_std\n",
    "    df_cp_f[name+' mean'] = algo_f_mean\n",
    "    df_cp_f[name+' std'] = algo_f_std"
   ]
  },
  {
   "cell_type": "markdown",
   "metadata": {},
   "source": [
    "## Con Type Specification w/ Y/R/C"
   ]
  },
  {
   "cell_type": "code",
   "execution_count": 37,
   "metadata": {},
   "outputs": [],
   "source": [
    "df_cd_a = pd.DataFrame(methods, columns = ['Algorithm'])\n",
    "df_cd_r = pd.DataFrame(methods, columns = ['Algorithm'])\n",
    "df_cd_f = pd.DataFrame(methods, columns = ['Algorithm'])"
   ]
  },
  {
   "cell_type": "code",
   "execution_count": 38,
   "metadata": {},
   "outputs": [
    {
     "name": "stderr",
     "output_type": "stream",
     "text": [
      "100%|███████████████████████████████████████████████████████████████████████████████████| 3/3 [14:32<00:00, 290.91s/it]\n"
     ]
    }
   ],
   "source": [
    "for name, file in tqdm(files):\n",
    "    #print('Fitting for '+name)\n",
    "    df = pd.read_excel (file,index_col=0,na_values=['..'])\n",
    "    \n",
    "    #Creation of Year/Region/Country Dummies\n",
    "    year_dummies = pd.get_dummies(df.year, prefix='year').iloc[:,1:]\n",
    "    region_dummies = pd.get_dummies(df.region, prefix='region').iloc[:,1:]\n",
    "    country_dummies = pd.get_dummies(df.ccode, prefix='country: ').iloc[:,1:]\n",
    "    \n",
    "    df = pd.concat([df, year_dummies, region_dummies, country_dummies], axis = 1)\n",
    "    \n",
    "    algo_a_mean = []\n",
    "    algo_a_std = []\n",
    "    algo_r_mean = []\n",
    "    algo_r_std = []\n",
    "    algo_f_mean = []\n",
    "    algo_f_std = []\n",
    "\n",
    "   \n",
    "    #Create testing and training sets\n",
    "    array = df.values\n",
    "\n",
    "    #Create X array\n",
    "    X= array[:,4:]\n",
    "\n",
    "    # Standardizing the features\n",
    "    X = StandardScaler().fit_transform(X)\n",
    "\n",
    "    #Create Y array\n",
    "    Y= array[:,3]\n",
    "    Y=Y.astype('int')\n",
    "        \n",
    "    for algo, model in models:   \n",
    "        accuracy = np.array([])\n",
    "        recall = np.array([])\n",
    "        f1 = np.array([])\n",
    "        for fold, (train_index, test_index) in enumerate(kf.split(X, Y), 1):\n",
    "            X_train = X[train_index]\n",
    "            Y_train = Y[train_index]  \n",
    "            X_test = X[test_index]\n",
    "            Y_test = Y[test_index]  \n",
    "            \n",
    "            #train/test split\n",
    "            sm = SMOTE()\n",
    "            X_train_oversampled, Y_train_oversampled = sm.fit_sample(X_train, Y_train)\n",
    "           \n",
    "            #fit model\n",
    "            model = model\n",
    "            model.fit(X_train_oversampled, Y_train_oversampled)  \n",
    "            Y_pred = model.predict(X_test)\n",
    "            \n",
    "            #generate reports\n",
    "            acc = accuracy_score(Y_test, Y_pred)\n",
    "            rec = recall_score(Y_test, Y_pred)\n",
    "            f=  f1_score(Y_test, Y_pred)\n",
    "            accuracy = np.append(accuracy, acc)\n",
    "            recall = np.append(recall, rec)\n",
    "            f1 = np.append(f1, f)\n",
    "        a_mean = accuracy.mean().tolist()\n",
    "        a_std = accuracy.std().tolist()\n",
    "        r_mean = recall.mean().tolist()\n",
    "        r_std = recall.std().tolist()\n",
    "        f_mean = f1.mean().tolist()\n",
    "        f_std = f1.std().tolist()\n",
    "        algo_a_mean.append(a_mean)\n",
    "        algo_a_std.append(a_std)\n",
    "        algo_r_mean.append(r_mean)\n",
    "        algo_r_std.append(r_std)\n",
    "        algo_f_mean.append(f_mean)\n",
    "        algo_f_std.append(f_std)\n",
    "    df_cd_a[name+' mean'] = algo_a_mean\n",
    "    df_cd_a[name+' std'] = algo_a_std\n",
    "    df_cd_r[name+' mean'] = algo_r_mean\n",
    "    df_cd_r[name+' std'] = algo_r_std\n",
    "    df_cd_f[name+' mean'] = algo_f_mean\n",
    "    df_cd_f[name+' std'] = algo_f_std"
   ]
  },
  {
   "cell_type": "markdown",
   "metadata": {},
   "source": [
    "## Con Type Specification w/ Y/R/C dummies and PCA"
   ]
  },
  {
   "cell_type": "code",
   "execution_count": 39,
   "metadata": {},
   "outputs": [],
   "source": [
    "df_cpd_a = pd.DataFrame(methods, columns = ['Algorithm'])\n",
    "df_cpd_r = pd.DataFrame(methods, columns = ['Algorithm'])\n",
    "df_cpd_f = pd.DataFrame(methods, columns = ['Algorithm'])"
   ]
  },
  {
   "cell_type": "code",
   "execution_count": 40,
   "metadata": {},
   "outputs": [
    {
     "name": "stderr",
     "output_type": "stream",
     "text": [
      "100%|███████████████████████████████████████████████████████████████████████████████████| 3/3 [15:05<00:00, 301.95s/it]\n"
     ]
    }
   ],
   "source": [
    "for name, file in tqdm(files):\n",
    "    #print('Fitting for '+name)\n",
    "    df = pd.read_excel (file,index_col=0,na_values=['..'])\n",
    "    \n",
    "    #Creation of Year/Region/Country Dummies\n",
    "    year_dummies = pd.get_dummies(df.year, prefix='year').iloc[:,1:]\n",
    "    region_dummies = pd.get_dummies(df.region, prefix='region').iloc[:,1:]\n",
    "    country_dummies = pd.get_dummies(df.ccode, prefix='country: ').iloc[:,1:]\n",
    "    \n",
    "    df = pd.concat([df, year_dummies, region_dummies, country_dummies], axis = 1)\n",
    "    \n",
    "    algo_a_mean = []\n",
    "    algo_a_std = []\n",
    "    algo_r_mean = []\n",
    "    algo_r_std = []\n",
    "    algo_f_mean = []\n",
    "    algo_f_std = []\n",
    "\n",
    "   \n",
    "    #Create testing and training sets\n",
    "    array = df.values\n",
    "\n",
    "    #Create X array\n",
    "    X= array[:,4:]\n",
    "\n",
    "    # Standardizing the features\n",
    "    X = StandardScaler().fit_transform(X)\n",
    "\n",
    "    #Create Y array\n",
    "    Y= array[:,3]\n",
    "    Y=Y.astype('int')\n",
    "\n",
    "    pca = PCA(pca_target)\n",
    "    principalComponents = pca.fit_transform(X)\n",
    "    \n",
    "    X = pca.fit_transform(X)\n",
    "        \n",
    "    for algo, model in models:   \n",
    "        accuracy = np.array([])\n",
    "        recall = np.array([])\n",
    "        f1 = np.array([])\n",
    "        for fold, (train_index, test_index) in enumerate(kf.split(X, Y), 1):\n",
    "            X_train = X[train_index]\n",
    "            Y_train = Y[train_index]  \n",
    "            X_test = X[test_index]\n",
    "            Y_test = Y[test_index]  \n",
    "            \n",
    "            #train/test split\n",
    "            sm = SMOTE()\n",
    "            X_train_oversampled, Y_train_oversampled = sm.fit_sample(X_train, Y_train)\n",
    "           \n",
    "            #fit model\n",
    "            model = model\n",
    "            model.fit(X_train_oversampled, Y_train_oversampled)  \n",
    "            Y_pred = model.predict(X_test)\n",
    "            \n",
    "            #generate reports\n",
    "            acc = accuracy_score(Y_test, Y_pred)\n",
    "            rec = recall_score(Y_test, Y_pred)\n",
    "            f=  f1_score(Y_test, Y_pred)\n",
    "            accuracy = np.append(accuracy, acc)\n",
    "            recall = np.append(recall, rec)\n",
    "            f1 = np.append(f1, f)\n",
    "        a_mean = accuracy.mean().tolist()\n",
    "        a_std = accuracy.std().tolist()\n",
    "        r_mean = recall.mean().tolist()\n",
    "        r_std = recall.std().tolist()\n",
    "        f_mean = f1.mean().tolist()\n",
    "        f_std = f1.std().tolist()\n",
    "        algo_a_mean.append(a_mean)\n",
    "        algo_a_std.append(a_std)\n",
    "        algo_r_mean.append(r_mean)\n",
    "        algo_r_std.append(r_std)\n",
    "        algo_f_mean.append(f_mean)\n",
    "        algo_f_std.append(f_std)\n",
    "    df_cpd_a[name+' mean'] = algo_a_mean\n",
    "    df_cpd_a[name+' std'] = algo_a_std\n",
    "    df_cpd_r[name+' mean'] = algo_r_mean\n",
    "    df_cpd_r[name+' std'] = algo_r_std\n",
    "    df_cpd_f[name+' mean'] = algo_f_mean\n",
    "    df_cpd_f[name+' std'] = algo_f_std"
   ]
  },
  {
   "cell_type": "code",
   "execution_count": 41,
   "metadata": {},
   "outputs": [],
   "source": [
    "#save to excel file\n",
    "\n",
    "df_b_a.to_excel('../data/b_acv.xlsx')\n",
    "df_b_r.to_excel('../data/b_rcv.xlsx')\n",
    "df_b_f.to_excel('../data/b_fcv.xlsx')\n",
    "\n",
    "df_a_a.to_excel('../data/a_acv.xlsx')\n",
    "df_a_r.to_excel('../data/a_rcv.xlsx')\n",
    "df_a_f.to_excel('../data/a_fcv.xlsx')\n",
    "\n",
    "df_c_a.to_excel('../data/c_acv.xlsx')\n",
    "df_c_r.to_excel('../data/c_rcv.xlsx')\n",
    "df_c_f.to_excel('../data/c_fcv.xlsx')\n",
    "\n",
    "df_bp_a.to_excel('../data/bp_acv.xlsx')\n",
    "df_bp_r.to_excel('../data/bp_rcv.xlsx')\n",
    "df_bp_f.to_excel('../data/bp_fcv.xlsx')\n",
    "\n",
    "df_ap_a.to_excel('../data/ap_acv.xlsx')\n",
    "df_ap_r.to_excel('../data/ap_rcv.xlsx')\n",
    "df_ap_f.to_excel('../data/ap_fcv.xlsx')\n",
    "\n",
    "df_cp_a.to_excel('../data/cp_acv.xlsx')\n",
    "df_cp_r.to_excel('../data/cp_rcv.xlsx')\n",
    "df_cp_f.to_excel('../data/cp_fcv.xlsx')\n",
    "\n",
    "df_bd_a.to_excel('../data/bd_acv.xlsx')\n",
    "df_bd_r.to_excel('../data/bd_rcv.xlsx')\n",
    "df_bd_f.to_excel('../data/bd_fcv.xlsx')\n",
    "\n",
    "df_ad_a.to_excel('../data/ad_acv.xlsx')\n",
    "df_ad_r.to_excel('../data/ad_rcv.xlsx')\n",
    "df_ad_f.to_excel('../data/ad_fcv.xlsx')\n",
    "\n",
    "df_cd_a.to_excel('../data/cd_acv.xlsx')\n",
    "df_cd_r.to_excel('../data/cd_rcv.xlsx')\n",
    "df_cd_f.to_excel('../data/cd_fcv.xlsx')\n",
    "\n",
    "df_bpd_a.to_excel('../data/bpd_acv.xlsx')\n",
    "df_bpd_r.to_excel('../data/bpd_rcv.xlsx')\n",
    "df_bpd_f.to_excel('../data/bpd_fcv.xlsx')\n",
    "\n",
    "df_apd_a.to_excel('../data/apd_acv.xlsx')\n",
    "df_apd_r.to_excel('../data/apd_rcv.xlsx')\n",
    "df_apd_f.to_excel('../data/apd_fcv.xlsx')\n",
    "\n",
    "df_cpd_a.to_excel('../data/cpd_acv.xlsx')\n",
    "df_cpd_r.to_excel('../data/cpd_rcv.xlsx')\n",
    "df_cpd_f.to_excel('../data/cpd_fcv.xlsx')"
   ]
  },
  {
   "cell_type": "code",
   "execution_count": null,
   "metadata": {},
   "outputs": [],
   "source": []
  }
 ],
 "metadata": {
  "kernelspec": {
   "display_name": "Python 3",
   "language": "python",
   "name": "python3"
  },
  "language_info": {
   "codemirror_mode": {
    "name": "ipython",
    "version": 3
   },
   "file_extension": ".py",
   "mimetype": "text/x-python",
   "name": "python",
   "nbconvert_exporter": "python",
   "pygments_lexer": "ipython3",
   "version": "3.7.1"
  }
 },
 "nbformat": 4,
 "nbformat_minor": 4
}
