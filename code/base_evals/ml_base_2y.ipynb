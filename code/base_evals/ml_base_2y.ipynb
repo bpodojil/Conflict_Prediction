{
 "cells": [
  {
   "cell_type": "code",
   "execution_count": 1,
   "metadata": {},
   "outputs": [
    {
     "name": "stderr",
     "output_type": "stream",
     "text": [
      "C:\\Users\\Brandon\\Anaconda3\\lib\\site-packages\\sklearn\\utils\\deprecation.py:144: FutureWarning: The sklearn.neighbors.base module is  deprecated in version 0.22 and will be removed in version 0.24. The corresponding classes / functions should instead be imported from sklearn.neighbors. Anything that cannot be imported from sklearn.neighbors is now part of the private API.\n",
      "  warnings.warn(message, FutureWarning)\n",
      "C:\\Users\\Brandon\\Anaconda3\\lib\\site-packages\\sklearn\\utils\\deprecation.py:144: FutureWarning: The sklearn.ensemble.bagging module is  deprecated in version 0.22 and will be removed in version 0.24. The corresponding classes / functions should instead be imported from sklearn.ensemble. Anything that cannot be imported from sklearn.ensemble is now part of the private API.\n",
      "  warnings.warn(message, FutureWarning)\n",
      "C:\\Users\\Brandon\\Anaconda3\\lib\\site-packages\\sklearn\\utils\\deprecation.py:144: FutureWarning: The sklearn.ensemble.base module is  deprecated in version 0.22 and will be removed in version 0.24. The corresponding classes / functions should instead be imported from sklearn.ensemble. Anything that cannot be imported from sklearn.ensemble is now part of the private API.\n",
      "  warnings.warn(message, FutureWarning)\n",
      "C:\\Users\\Brandon\\Anaconda3\\lib\\site-packages\\sklearn\\utils\\deprecation.py:144: FutureWarning: The sklearn.ensemble.forest module is  deprecated in version 0.22 and will be removed in version 0.24. The corresponding classes / functions should instead be imported from sklearn.ensemble. Anything that cannot be imported from sklearn.ensemble is now part of the private API.\n",
      "  warnings.warn(message, FutureWarning)\n",
      "C:\\Users\\Brandon\\Anaconda3\\lib\\site-packages\\sklearn\\utils\\deprecation.py:144: FutureWarning: The sklearn.utils.testing module is  deprecated in version 0.22 and will be removed in version 0.24. The corresponding classes / functions should instead be imported from sklearn.utils. Anything that cannot be imported from sklearn.utils is now part of the private API.\n",
      "  warnings.warn(message, FutureWarning)\n",
      "C:\\Users\\Brandon\\Anaconda3\\lib\\site-packages\\sklearn\\utils\\deprecation.py:144: FutureWarning: The sklearn.metrics.classification module is  deprecated in version 0.22 and will be removed in version 0.24. The corresponding classes / functions should instead be imported from sklearn.metrics. Anything that cannot be imported from sklearn.metrics is now part of the private API.\n",
      "  warnings.warn(message, FutureWarning)\n"
     ]
    }
   ],
   "source": [
    "import os\n",
    "import pandas as pd\n",
    "import numpy as np\n",
    "import scipy\n",
    "import matplotlib.pyplot as plt\n",
    "import sklearn\n",
    "from imblearn.over_sampling import SMOTE\n",
    "from sklearn.preprocessing import StandardScaler\n",
    "from sklearn.decomposition import PCA\n",
    "from sklearn.tree import DecisionTreeRegressor\n",
    "from sklearn.model_selection import train_test_split\n",
    "from sklearn.model_selection import cross_val_score\n",
    "from sklearn.model_selection import StratifiedKFold\n",
    "from sklearn.metrics import classification_report\n",
    "from sklearn.metrics import confusion_matrix\n",
    "from sklearn.metrics import accuracy_score\n",
    "from sklearn.linear_model import LogisticRegression\n",
    "from sklearn.tree import DecisionTreeClassifier\n",
    "from sklearn.neighbors import KNeighborsClassifier\n",
    "from sklearn.discriminant_analysis import LinearDiscriminantAnalysis\n",
    "from sklearn.naive_bayes import GaussianNB\n",
    "from sklearn.svm import SVC\n",
    "from sklearn.metrics import plot_confusion_matrix\n",
    "from sklearn.ensemble import RandomForestClassifier\n",
    "import xgboost as xgb"
   ]
  },
  {
   "cell_type": "code",
   "execution_count": 2,
   "metadata": {},
   "outputs": [],
   "source": [
    "#Set Psudeorandom Seed\n",
    "seed = 42"
   ]
  },
  {
   "cell_type": "code",
   "execution_count": 3,
   "metadata": {},
   "outputs": [
    {
     "name": "stdout",
     "output_type": "stream",
     "text": [
      "file uploaded\n"
     ]
    }
   ],
   "source": [
    "#Uploading the first dataset\n",
    "file = 'C:/Users/Brandon/Documents/thesis/data/2y_offset.xlsx'\n",
    "df = pd.read_excel (file,index_col=0,na_values=['..'])\n",
    "print('file uploaded')"
   ]
  },
  {
   "cell_type": "code",
   "execution_count": 4,
   "metadata": {},
   "outputs": [
    {
     "name": "stdout",
     "output_type": "stream",
     "text": [
      "Train/Test Split Complete\n"
     ]
    }
   ],
   "source": [
    "#Create testing and training sets\n",
    "array = df.values\n",
    "\n",
    "#Create X array\n",
    "X= array[:,4:37]\n",
    "\n",
    "# Standardizing the features\n",
    "X = StandardScaler().fit_transform(X)\n",
    "\n",
    "#Create Y array\n",
    "Y= array[:,3]\n",
    "Y=Y.astype('int')\n",
    "\n",
    "#Training/Test Split\n",
    "X_train, X_validation, Y_train, Y_validation = train_test_split(X,Y,test_size=0.2,random_state=1 )\n",
    "print('Train/Test Split Complete')"
   ]
  },
  {
   "cell_type": "code",
   "execution_count": 5,
   "metadata": {},
   "outputs": [
    {
     "name": "stdout",
     "output_type": "stream",
     "text": [
      "oversampling complete\n"
     ]
    },
    {
     "name": "stderr",
     "output_type": "stream",
     "text": [
      "C:\\Users\\Brandon\\Anaconda3\\lib\\site-packages\\sklearn\\utils\\deprecation.py:87: FutureWarning: Function safe_indexing is deprecated; safe_indexing is deprecated in version 0.22 and will be removed in version 0.24.\n",
      "  warnings.warn(msg, category=FutureWarning)\n"
     ]
    }
   ],
   "source": [
    "#Impliment SMOTE\n",
    "sm = SMOTE(random_state = 2) \n",
    "X_train_smote, Y_train_smote = sm.fit_sample(X_train, Y_train)\n",
    "\n",
    "print('oversampling complete')"
   ]
  },
  {
   "cell_type": "code",
   "execution_count": 81,
   "metadata": {},
   "outputs": [
    {
     "name": "stdout",
     "output_type": "stream",
     "text": [
      "LR: 0.895195 (0.009073)\n",
      "LDA: 0.875201 (0.009225)\n",
      "KNN: 0.926195 (0.009013)\n",
      "CART: 0.920290 (0.007959)\n",
      "RTREE: 0.922034 (0.005929)\n",
      "XTREE: 0.929683 (0.006927)\n",
      "NB: 0.845809 (0.012246)\n",
      "SVM: 0.914520 (0.009232)\n"
     ]
    }
   ],
   "source": [
    "models = []\n",
    "models.append(('LR', LogisticRegression(solver='liblinear',multi_class='ovr')))\n",
    "models.append(('LDA', LinearDiscriminantAnalysis()))\n",
    "models.append(('KNN', KNeighborsClassifier()))\n",
    "models.append(('CART', DecisionTreeClassifier()))\n",
    "models.append(('RTREE', RandomForestClassifier(max_depth=3, random_state=seed)))\n",
    "models.append(('XTREE', xgb.XGBRFClassifier(random_state=seed)))\n",
    "models.append(('NB', GaussianNB()))\n",
    "models.append(('SVM', SVC(gamma='auto')))\n",
    "\n",
    "results = []\n",
    "names = []\n",
    "for name, model in models:\n",
    "    kfold=StratifiedKFold(n_splits=10, random_state=seed, shuffle=True)\n",
    "    cv_results=cross_val_score(model,X_train_smote, Y_train_smote, cv=kfold, scoring='accuracy')\n",
    "    results.append(cv_results)\n",
    "    names.append(name)\n",
    "    print('%s: %f (%f)' % (name, cv_results.mean(), cv_results.std()))"
   ]
  },
  {
   "cell_type": "code",
   "execution_count": 6,
   "metadata": {},
   "outputs": [
    {
     "name": "stdout",
     "output_type": "stream",
     "text": [
      "0.8776019983347211\n",
      "[[806  86]\n",
      " [ 61 248]]\n",
      "              precision    recall  f1-score   support\n",
      "\n",
      "           0       0.93      0.90      0.92       892\n",
      "           1       0.74      0.80      0.77       309\n",
      "\n",
      "    accuracy                           0.88      1201\n",
      "   macro avg       0.84      0.85      0.84      1201\n",
      "weighted avg       0.88      0.88      0.88      1201\n",
      "\n"
     ]
    }
   ],
   "source": [
    "# Make predictions on validation dataset\n",
    "model = LogisticRegression(solver='liblinear',multi_class='ovr')\n",
    "model.fit(X_train_smote, Y_train_smote)\n",
    "predictions = model.predict(X_validation)\n",
    "\n",
    "# Evaluate predictions\n",
    "print(accuracy_score(Y_validation, predictions))\n",
    "print(confusion_matrix(Y_validation, predictions))\n",
    "print(classification_report(Y_validation, predictions))"
   ]
  },
  {
   "cell_type": "code",
   "execution_count": 7,
   "metadata": {},
   "outputs": [
    {
     "name": "stdout",
     "output_type": "stream",
     "text": [
      "0.8784346378018318\n",
      "[[831  61]\n",
      " [ 85 224]]\n",
      "              precision    recall  f1-score   support\n",
      "\n",
      "           0       0.91      0.93      0.92       892\n",
      "           1       0.79      0.72      0.75       309\n",
      "\n",
      "    accuracy                           0.88      1201\n",
      "   macro avg       0.85      0.83      0.84      1201\n",
      "weighted avg       0.88      0.88      0.88      1201\n",
      "\n"
     ]
    }
   ],
   "source": [
    "# Make predictions on validation dataset\n",
    "model = LinearDiscriminantAnalysis()\n",
    "model.fit(X_train, Y_train)\n",
    "predictions = model.predict(X_validation)\n",
    "\n",
    "# Evaluate predictions\n",
    "print(accuracy_score(Y_validation, predictions))\n",
    "print(confusion_matrix(Y_validation, predictions))\n",
    "print(classification_report(Y_validation, predictions))"
   ]
  },
  {
   "cell_type": "code",
   "execution_count": 8,
   "metadata": {},
   "outputs": [
    {
     "name": "stdout",
     "output_type": "stream",
     "text": [
      "0.8967527060782681\n",
      "[[840  52]\n",
      " [ 72 237]]\n",
      "              precision    recall  f1-score   support\n",
      "\n",
      "           0       0.92      0.94      0.93       892\n",
      "           1       0.82      0.77      0.79       309\n",
      "\n",
      "    accuracy                           0.90      1201\n",
      "   macro avg       0.87      0.85      0.86      1201\n",
      "weighted avg       0.90      0.90      0.90      1201\n",
      "\n"
     ]
    }
   ],
   "source": [
    "# Make predictions on validation dataset\n",
    "model = KNeighborsClassifier()\n",
    "model.fit(X_train, Y_train)\n",
    "predictions = model.predict(X_validation)\n",
    "\n",
    "# Evaluate predictions\n",
    "print(accuracy_score(Y_validation, predictions))\n",
    "print(confusion_matrix(Y_validation, predictions))\n",
    "print(classification_report(Y_validation, predictions))"
   ]
  },
  {
   "cell_type": "code",
   "execution_count": 9,
   "metadata": {},
   "outputs": [
    {
     "name": "stdout",
     "output_type": "stream",
     "text": [
      "0.9017485428809325\n",
      "[[835  57]\n",
      " [ 61 248]]\n",
      "              precision    recall  f1-score   support\n",
      "\n",
      "           0       0.93      0.94      0.93       892\n",
      "           1       0.81      0.80      0.81       309\n",
      "\n",
      "    accuracy                           0.90      1201\n",
      "   macro avg       0.87      0.87      0.87      1201\n",
      "weighted avg       0.90      0.90      0.90      1201\n",
      "\n"
     ]
    }
   ],
   "source": [
    "# Make predictions on validation dataset\n",
    "model = DecisionTreeClassifier()\n",
    "model.fit(X_train, Y_train)\n",
    "predictions = model.predict(X_validation)\n",
    "\n",
    "# Evaluate predictions\n",
    "print(accuracy_score(Y_validation, predictions))\n",
    "print(confusion_matrix(Y_validation, predictions))\n",
    "print(classification_report(Y_validation, predictions))"
   ]
  },
  {
   "cell_type": "code",
   "execution_count": 10,
   "metadata": {},
   "outputs": [
    {
     "name": "stdout",
     "output_type": "stream",
     "text": [
      "0.8942547876769359\n",
      "[[849  43]\n",
      " [ 84 225]]\n",
      "              precision    recall  f1-score   support\n",
      "\n",
      "           0       0.91      0.95      0.93       892\n",
      "           1       0.84      0.73      0.78       309\n",
      "\n",
      "    accuracy                           0.89      1201\n",
      "   macro avg       0.87      0.84      0.86      1201\n",
      "weighted avg       0.89      0.89      0.89      1201\n",
      "\n"
     ]
    }
   ],
   "source": [
    "# Make predictions on validation dataset\n",
    "model = RandomForestClassifier(max_depth=3, random_state=seed)\n",
    "model.fit(X_train, Y_train)\n",
    "predictions = model.predict(X_validation)\n",
    "\n",
    "# Evaluate predictions\n",
    "print(accuracy_score(Y_validation, predictions))\n",
    "print(confusion_matrix(Y_validation, predictions))\n",
    "print(classification_report(Y_validation, predictions))"
   ]
  },
  {
   "cell_type": "code",
   "execution_count": 11,
   "metadata": {},
   "outputs": [
    {
     "name": "stdout",
     "output_type": "stream",
     "text": [
      "0.8959200666111574\n",
      "[[835  57]\n",
      " [ 68 241]]\n",
      "              precision    recall  f1-score   support\n",
      "\n",
      "           0       0.92      0.94      0.93       892\n",
      "           1       0.81      0.78      0.79       309\n",
      "\n",
      "    accuracy                           0.90      1201\n",
      "   macro avg       0.87      0.86      0.86      1201\n",
      "weighted avg       0.89      0.90      0.90      1201\n",
      "\n"
     ]
    }
   ],
   "source": [
    "# Make predictions on validation dataset\n",
    "model = xgb.XGBRFClassifier(random_state=seed)\n",
    "model.fit(X_train, Y_train)\n",
    "predictions = model.predict(X_validation)\n",
    "\n",
    "# Evaluate predictions\n",
    "print(accuracy_score(Y_validation, predictions))\n",
    "print(confusion_matrix(Y_validation, predictions))\n",
    "print(classification_report(Y_validation, predictions))"
   ]
  },
  {
   "cell_type": "code",
   "execution_count": 12,
   "metadata": {},
   "outputs": [
    {
     "name": "stdout",
     "output_type": "stream",
     "text": [
      "0.8609492089925063\n",
      "[[800  92]\n",
      " [ 75 234]]\n",
      "              precision    recall  f1-score   support\n",
      "\n",
      "           0       0.91      0.90      0.91       892\n",
      "           1       0.72      0.76      0.74       309\n",
      "\n",
      "    accuracy                           0.86      1201\n",
      "   macro avg       0.82      0.83      0.82      1201\n",
      "weighted avg       0.86      0.86      0.86      1201\n",
      "\n"
     ]
    }
   ],
   "source": [
    "# Make predictions on validation dataset\n",
    "model = GaussianNB()\n",
    "model.fit(X_train, Y_train)\n",
    "predictions = model.predict(X_validation)\n",
    "\n",
    "# Evaluate predictions\n",
    "print(accuracy_score(Y_validation, predictions))\n",
    "print(confusion_matrix(Y_validation, predictions))\n",
    "print(classification_report(Y_validation, predictions))"
   ]
  },
  {
   "cell_type": "code",
   "execution_count": 13,
   "metadata": {},
   "outputs": [
    {
     "name": "stdout",
     "output_type": "stream",
     "text": [
      "0.8867610324729392\n",
      "[[838  54]\n",
      " [ 82 227]]\n",
      "              precision    recall  f1-score   support\n",
      "\n",
      "           0       0.91      0.94      0.92       892\n",
      "           1       0.81      0.73      0.77       309\n",
      "\n",
      "    accuracy                           0.89      1201\n",
      "   macro avg       0.86      0.84      0.85      1201\n",
      "weighted avg       0.88      0.89      0.88      1201\n",
      "\n"
     ]
    }
   ],
   "source": [
    "# Make predictions on validation dataset\n",
    "model = SVC(gamma='auto')\n",
    "model.fit(X_train, Y_train)\n",
    "predictions = model.predict(X_validation)\n",
    "\n",
    "# Evaluate predictions\n",
    "print(accuracy_score(Y_validation, predictions))\n",
    "print(confusion_matrix(Y_validation, predictions))\n",
    "print(classification_report(Y_validation, predictions))"
   ]
  },
  {
   "cell_type": "code",
   "execution_count": 14,
   "metadata": {},
   "outputs": [
    {
     "data": {
      "image/png": "[encoded data removed]",
      "text/plain": [
       "<Figure size 432x288 with 1 Axes>"
      ]
     },
     "metadata": {
      "needs_background": "light"
     },
     "output_type": "display_data"
    }
   ],
   "source": [
    "pca = PCA().fit(X_train_smote)\n",
    "plt.plot(np.cumsum(pca.explained_variance_ratio_))\n",
    "plt.xlabel('number of components')\n",
    "plt.ylabel('cumulative explained variance');"
   ]
  },
  {
   "cell_type": "code",
   "execution_count": 15,
   "metadata": {},
   "outputs": [],
   "source": [
    "pca = PCA(.8)\n",
    "principalComponents = pca.fit_transform(X_train_smote)"
   ]
  },
  {
   "cell_type": "code",
   "execution_count": 16,
   "metadata": {},
   "outputs": [
    {
     "data": {
      "text/plain": [
       "16"
      ]
     },
     "execution_count": 16,
     "metadata": {},
     "output_type": "execute_result"
    }
   ],
   "source": [
    "pca.n_components_"
   ]
  },
  {
   "cell_type": "code",
   "execution_count": 17,
   "metadata": {},
   "outputs": [
    {
     "data": {
      "text/plain": [
       "array([0.14221931, 0.09075906, 0.07501456, 0.06070311, 0.05480371,\n",
       "       0.05251506, 0.0449458 , 0.04136463, 0.03844093, 0.03687053,\n",
       "       0.03118877, 0.03052316, 0.02749541, 0.0263527 , 0.02407817,\n",
       "       0.02370383])"
      ]
     },
     "execution_count": 17,
     "metadata": {},
     "output_type": "execute_result"
    }
   ],
   "source": [
    "pca.explained_variance_ratio_"
   ]
  },
  {
   "cell_type": "code",
   "execution_count": 18,
   "metadata": {},
   "outputs": [
    {
     "data": {
      "text/plain": [
       "array([0.14221931, 0.23297838, 0.30799294, 0.36869605, 0.42349976,\n",
       "       0.47601482, 0.52096062, 0.56232525, 0.60076618, 0.63763671,\n",
       "       0.66882548, 0.69934865, 0.72684405, 0.75319676, 0.77727492,\n",
       "       0.80097875])"
      ]
     },
     "execution_count": 18,
     "metadata": {},
     "output_type": "execute_result"
    }
   ],
   "source": [
    "np.cumsum(pca.explained_variance_ratio_)"
   ]
  },
  {
   "cell_type": "code",
   "execution_count": 19,
   "metadata": {},
   "outputs": [],
   "source": [
    "X_train_pca = pca.transform(X_train_smote)\n",
    "X_validation_pca = pca.transform(X_validation)"
   ]
  },
  {
   "cell_type": "code",
   "execution_count": 67,
   "metadata": {},
   "outputs": [
    {
     "name": "stdout",
     "output_type": "stream",
     "text": [
      "LR: 0.886607 (0.005491)\n",
      "LDA: 0.853191 (0.010659)\n",
      "KNN: 0.921094 (0.006418)\n",
      "CART: 0.898417 (0.008111)\n",
      "RTREE: 0.830780 (0.013363)\n",
      "XTREE: 0.815082 (0.008375)\n",
      "NB: 0.711080 (0.021394)\n",
      "SVM: 0.915325 (0.009851)\n"
     ]
    }
   ],
   "source": [
    "models = []\n",
    "models.append(('LR', LogisticRegression(solver='liblinear',multi_class='ovr')))\n",
    "models.append(('LDA', LinearDiscriminantAnalysis()))\n",
    "models.append(('KNN', KNeighborsClassifier()))\n",
    "models.append(('CART', DecisionTreeClassifier()))\n",
    "models.append(('RTREE', RandomForestClassifier(max_depth=3, random_state=seed)))\n",
    "models.append(('XTREE', xgb.XGBRFClassifier(random_state=seed)))\n",
    "models.append(('NB', GaussianNB()))\n",
    "models.append(('SVM', SVC(gamma='auto')))\n",
    "\n",
    "results = []\n",
    "names = []\n",
    "for name, model in models:\n",
    "    kfold=StratifiedKFold(n_splits=10, random_state=seed, shuffle=True)\n",
    "    cv_results=cross_val_score(model,X_train_pca, Y_train_smote, cv=kfold, scoring='accuracy')\n",
    "    results.append(cv_results)\n",
    "    names.append(name)\n",
    "    print('%s: %f (%f)' % (name, cv_results.mean(), cv_results.std()))"
   ]
  },
  {
   "cell_type": "code",
   "execution_count": 20,
   "metadata": {},
   "outputs": [
    {
     "name": "stdout",
     "output_type": "stream",
     "text": [
      "0.8742714404662781\n",
      "[[802  90]\n",
      " [ 61 248]]\n",
      "              precision    recall  f1-score   support\n",
      "\n",
      "           0       0.93      0.90      0.91       892\n",
      "           1       0.73      0.80      0.77       309\n",
      "\n",
      "    accuracy                           0.87      1201\n",
      "   macro avg       0.83      0.85      0.84      1201\n",
      "weighted avg       0.88      0.87      0.88      1201\n",
      "\n"
     ]
    }
   ],
   "source": [
    "# Make predictions on validation dataset\n",
    "model = LogisticRegression(solver='liblinear',multi_class='ovr')\n",
    "model.fit(X_train_pca, Y_train_smote)\n",
    "predictions = model.predict(X_validation_pca)\n",
    "\n",
    "# Evaluate predictions\n",
    "print(accuracy_score(Y_validation, predictions))\n",
    "print(confusion_matrix(Y_validation, predictions))\n",
    "print(classification_report(Y_validation, predictions))"
   ]
  },
  {
   "cell_type": "code",
   "execution_count": 21,
   "metadata": {},
   "outputs": [
    {
     "name": "stdout",
     "output_type": "stream",
     "text": [
      "0.8601165695253955\n",
      "[[777 115]\n",
      " [ 53 256]]\n",
      "              precision    recall  f1-score   support\n",
      "\n",
      "           0       0.94      0.87      0.90       892\n",
      "           1       0.69      0.83      0.75       309\n",
      "\n",
      "    accuracy                           0.86      1201\n",
      "   macro avg       0.81      0.85      0.83      1201\n",
      "weighted avg       0.87      0.86      0.86      1201\n",
      "\n"
     ]
    }
   ],
   "source": [
    "# Make predictions on validation dataset\n",
    "model = LinearDiscriminantAnalysis()\n",
    "model.fit(X_train_pca, Y_train_smote)\n",
    "predictions = model.predict(X_validation_pca)\n",
    "\n",
    "# Evaluate predictions\n",
    "print(accuracy_score(Y_validation, predictions))\n",
    "print(confusion_matrix(Y_validation, predictions))\n",
    "print(classification_report(Y_validation, predictions))"
   ]
  },
  {
   "cell_type": "code",
   "execution_count": 22,
   "metadata": {},
   "outputs": [
    {
     "name": "stdout",
     "output_type": "stream",
     "text": [
      "0.8792672772689425\n",
      "[[794  98]\n",
      " [ 47 262]]\n",
      "              precision    recall  f1-score   support\n",
      "\n",
      "           0       0.94      0.89      0.92       892\n",
      "           1       0.73      0.85      0.78       309\n",
      "\n",
      "    accuracy                           0.88      1201\n",
      "   macro avg       0.84      0.87      0.85      1201\n",
      "weighted avg       0.89      0.88      0.88      1201\n",
      "\n"
     ]
    }
   ],
   "source": [
    "# Make predictions on validation dataset\n",
    "model = KNeighborsClassifier()\n",
    "model.fit(X_train_pca, Y_train_smote)\n",
    "predictions = model.predict(X_validation_pca)\n",
    "\n",
    "# Evaluate predictions\n",
    "print(accuracy_score(Y_validation, predictions))\n",
    "print(confusion_matrix(Y_validation, predictions))\n",
    "print(classification_report(Y_validation, predictions))"
   ]
  },
  {
   "cell_type": "code",
   "execution_count": 23,
   "metadata": {},
   "outputs": [
    {
     "name": "stdout",
     "output_type": "stream",
     "text": [
      "0.8576186511240633\n",
      "[[795  97]\n",
      " [ 74 235]]\n",
      "              precision    recall  f1-score   support\n",
      "\n",
      "           0       0.91      0.89      0.90       892\n",
      "           1       0.71      0.76      0.73       309\n",
      "\n",
      "    accuracy                           0.86      1201\n",
      "   macro avg       0.81      0.83      0.82      1201\n",
      "weighted avg       0.86      0.86      0.86      1201\n",
      "\n"
     ]
    }
   ],
   "source": [
    "# Make predictions on validation dataset\n",
    "model = DecisionTreeClassifier()\n",
    "model.fit(X_train_pca, Y_train_smote)\n",
    "predictions = model.predict(X_validation_pca)\n",
    "\n",
    "# Evaluate predictions\n",
    "print(accuracy_score(Y_validation, predictions))\n",
    "print(confusion_matrix(Y_validation, predictions))\n",
    "print(classification_report(Y_validation, predictions))"
   ]
  },
  {
   "cell_type": "code",
   "execution_count": 24,
   "metadata": {},
   "outputs": [
    {
     "name": "stdout",
     "output_type": "stream",
     "text": [
      "0.7826810990840966\n",
      "[[665 227]\n",
      " [ 34 275]]\n",
      "              precision    recall  f1-score   support\n",
      "\n",
      "           0       0.95      0.75      0.84       892\n",
      "           1       0.55      0.89      0.68       309\n",
      "\n",
      "    accuracy                           0.78      1201\n",
      "   macro avg       0.75      0.82      0.76      1201\n",
      "weighted avg       0.85      0.78      0.80      1201\n",
      "\n"
     ]
    }
   ],
   "source": [
    "# Make predictions on validation dataset\n",
    "model = RandomForestClassifier(max_depth=3, random_state=seed)\n",
    "model.fit(X_train_pca, Y_train_smote)\n",
    "predictions = model.predict(X_validation_pca)\n",
    "\n",
    "# Evaluate predictions\n",
    "print(accuracy_score(Y_validation, predictions))\n",
    "print(confusion_matrix(Y_validation, predictions))\n",
    "print(classification_report(Y_validation, predictions))"
   ]
  },
  {
   "cell_type": "code",
   "execution_count": 25,
   "metadata": {},
   "outputs": [
    {
     "name": "stdout",
     "output_type": "stream",
     "text": [
      "0.7676935886761033\n",
      "[[645 247]\n",
      " [ 32 277]]\n",
      "              precision    recall  f1-score   support\n",
      "\n",
      "           0       0.95      0.72      0.82       892\n",
      "           1       0.53      0.90      0.67       309\n",
      "\n",
      "    accuracy                           0.77      1201\n",
      "   macro avg       0.74      0.81      0.74      1201\n",
      "weighted avg       0.84      0.77      0.78      1201\n",
      "\n"
     ]
    }
   ],
   "source": [
    "# Make predictions on validation dataset\n",
    "model = xgb.XGBRFClassifier(random_state=seed)\n",
    "model.fit(X_train_pca, Y_train_smote)\n",
    "predictions = model.predict(X_validation_pca)\n",
    "\n",
    "# Evaluate predictions\n",
    "print(accuracy_score(Y_validation, predictions))\n",
    "print(confusion_matrix(Y_validation, predictions))\n",
    "print(classification_report(Y_validation, predictions))"
   ]
  },
  {
   "cell_type": "code",
   "execution_count": 26,
   "metadata": {},
   "outputs": [
    {
     "name": "stdout",
     "output_type": "stream",
     "text": [
      "0.8001665278934221\n",
      "[[745 147]\n",
      " [ 93 216]]\n",
      "              precision    recall  f1-score   support\n",
      "\n",
      "           0       0.89      0.84      0.86       892\n",
      "           1       0.60      0.70      0.64       309\n",
      "\n",
      "    accuracy                           0.80      1201\n",
      "   macro avg       0.74      0.77      0.75      1201\n",
      "weighted avg       0.81      0.80      0.81      1201\n",
      "\n"
     ]
    }
   ],
   "source": [
    "# Make predictions on validation dataset\n",
    "model = GaussianNB()\n",
    "model.fit(X_train_pca, Y_train_smote)\n",
    "predictions = model.predict(X_validation_pca)\n",
    "\n",
    "# Evaluate predictions\n",
    "print(accuracy_score(Y_validation, predictions))\n",
    "print(confusion_matrix(Y_validation, predictions))\n",
    "print(classification_report(Y_validation, predictions))"
   ]
  },
  {
   "cell_type": "code",
   "execution_count": 27,
   "metadata": {},
   "outputs": [
    {
     "name": "stdout",
     "output_type": "stream",
     "text": [
      "0.8825978351373855\n",
      "[[803  89]\n",
      " [ 52 257]]\n",
      "              precision    recall  f1-score   support\n",
      "\n",
      "           0       0.94      0.90      0.92       892\n",
      "           1       0.74      0.83      0.78       309\n",
      "\n",
      "    accuracy                           0.88      1201\n",
      "   macro avg       0.84      0.87      0.85      1201\n",
      "weighted avg       0.89      0.88      0.88      1201\n",
      "\n"
     ]
    }
   ],
   "source": [
    "# Make predictions on validation dataset\n",
    "model = SVC(gamma='auto')\n",
    "model.fit(X_train_pca, Y_train_smote)\n",
    "predictions = model.predict(X_validation_pca)\n",
    "\n",
    "# Evaluate predictions\n",
    "print(accuracy_score(Y_validation, predictions))\n",
    "print(confusion_matrix(Y_validation, predictions))\n",
    "print(classification_report(Y_validation, predictions))"
   ]
  },
  {
   "cell_type": "code",
   "execution_count": null,
   "metadata": {},
   "outputs": [],
   "source": []
  }
 ],
 "metadata": {
  "kernelspec": {
   "display_name": "Python 3",
   "language": "python",
   "name": "python3"
  },
  "language_info": {
   "codemirror_mode": {
    "name": "ipython",
    "version": 3
   },
   "file_extension": ".py",
   "mimetype": "text/x-python",
   "name": "python",
   "nbconvert_exporter": "python",
   "pygments_lexer": "ipython3",
   "version": "3.7.1"
  }
 },
 "nbformat": 4,
 "nbformat_minor": 2
}
