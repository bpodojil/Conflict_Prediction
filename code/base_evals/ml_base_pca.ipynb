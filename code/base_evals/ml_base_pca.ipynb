{
 "cells": [
  {
   "cell_type": "code",
   "execution_count": 1,
   "metadata": {},
   "outputs": [
    {
     "name": "stderr",
     "output_type": "stream",
     "text": [
      "C:\\Users\\Brandon\\Anaconda3\\lib\\site-packages\\sklearn\\utils\\deprecation.py:144: FutureWarning: The sklearn.neighbors.base module is  deprecated in version 0.22 and will be removed in version 0.24. The corresponding classes / functions should instead be imported from sklearn.neighbors. Anything that cannot be imported from sklearn.neighbors is now part of the private API.\n",
      "  warnings.warn(message, FutureWarning)\n",
      "C:\\Users\\Brandon\\Anaconda3\\lib\\site-packages\\sklearn\\utils\\deprecation.py:144: FutureWarning: The sklearn.ensemble.bagging module is  deprecated in version 0.22 and will be removed in version 0.24. The corresponding classes / functions should instead be imported from sklearn.ensemble. Anything that cannot be imported from sklearn.ensemble is now part of the private API.\n",
      "  warnings.warn(message, FutureWarning)\n",
      "C:\\Users\\Brandon\\Anaconda3\\lib\\site-packages\\sklearn\\utils\\deprecation.py:144: FutureWarning: The sklearn.ensemble.base module is  deprecated in version 0.22 and will be removed in version 0.24. The corresponding classes / functions should instead be imported from sklearn.ensemble. Anything that cannot be imported from sklearn.ensemble is now part of the private API.\n",
      "  warnings.warn(message, FutureWarning)\n",
      "C:\\Users\\Brandon\\Anaconda3\\lib\\site-packages\\sklearn\\utils\\deprecation.py:144: FutureWarning: The sklearn.ensemble.forest module is  deprecated in version 0.22 and will be removed in version 0.24. The corresponding classes / functions should instead be imported from sklearn.ensemble. Anything that cannot be imported from sklearn.ensemble is now part of the private API.\n",
      "  warnings.warn(message, FutureWarning)\n",
      "C:\\Users\\Brandon\\Anaconda3\\lib\\site-packages\\sklearn\\utils\\deprecation.py:144: FutureWarning: The sklearn.utils.testing module is  deprecated in version 0.22 and will be removed in version 0.24. The corresponding classes / functions should instead be imported from sklearn.utils. Anything that cannot be imported from sklearn.utils is now part of the private API.\n",
      "  warnings.warn(message, FutureWarning)\n",
      "C:\\Users\\Brandon\\Anaconda3\\lib\\site-packages\\sklearn\\utils\\deprecation.py:144: FutureWarning: The sklearn.metrics.classification module is  deprecated in version 0.22 and will be removed in version 0.24. The corresponding classes / functions should instead be imported from sklearn.metrics. Anything that cannot be imported from sklearn.metrics is now part of the private API.\n",
      "  warnings.warn(message, FutureWarning)\n"
     ]
    }
   ],
   "source": [
    "import os\n",
    "import pandas as pd\n",
    "import numpy as np\n",
    "import scipy\n",
    "import matplotlib.pyplot as plt\n",
    "import sklearn\n",
    "from imblearn.over_sampling import SMOTE\n",
    "from sklearn.preprocessing import StandardScaler\n",
    "from sklearn.decomposition import PCA\n",
    "from sklearn.tree import DecisionTreeRegressor\n",
    "from sklearn.model_selection import train_test_split\n",
    "from sklearn.model_selection import cross_val_score\n",
    "from sklearn.model_selection import StratifiedKFold\n",
    "from sklearn.metrics import classification_report\n",
    "from sklearn.metrics import confusion_matrix\n",
    "from sklearn.metrics import accuracy_score\n",
    "from sklearn.linear_model import LogisticRegression\n",
    "from sklearn.tree import DecisionTreeClassifier\n",
    "from sklearn.neighbors import KNeighborsClassifier\n",
    "from sklearn.discriminant_analysis import LinearDiscriminantAnalysis\n",
    "from sklearn.naive_bayes import GaussianNB\n",
    "from sklearn.svm import SVC\n",
    "from sklearn.metrics import plot_confusion_matrix\n",
    "from sklearn.ensemble import RandomForestClassifier\n",
    "import xgboost as xgb\n",
    "from sklearn.metrics import recall_score\n",
    "from sklearn.metrics import f1_score"
   ]
  },
  {
   "cell_type": "code",
   "execution_count": 2,
   "metadata": {},
   "outputs": [],
   "source": [
    "#Set Psudeorandom Seed\n",
    "seed = 42"
   ]
  },
  {
   "cell_type": "code",
   "execution_count": 3,
   "metadata": {},
   "outputs": [],
   "source": [
    "# Load dataset\n",
    "files = []\n",
    "\n",
    "files.append(('One Year Base','C:/Users/Brandon/Documents/thesis/data/1y_offset.xlsx'))\n",
    "files.append(('Two Year Base','C:/Users/Brandon/Documents/thesis/data/2y_offset.xlsx'))\n",
    "files.append(('Three Year Base','C:/Users/Brandon/Documents/thesis/data/3y_offset.xlsx'))\n",
    "files.append(('Five Year Base','C:/Users/Brandon/Documents/thesis/data/5y_offset.xlsx'))\n",
    "files.append(('Ten Year Base','C:/Users/Brandon/Documents/thesis/data/10y_offset.xlsx'))\n",
    "\n",
    "#names = ['One Year Base', 'Two Year Base', 'Three Year Base', 'Five Year Base', 'Ten Year Base']\n",
    "\n",
    "models = []\n",
    "models.append(('LR', LogisticRegression(solver='liblinear',multi_class='ovr')))\n",
    "models.append(('LDA', LinearDiscriminantAnalysis()))\n",
    "models.append(('KNN', KNeighborsClassifier()))\n",
    "models.append(('CART', DecisionTreeClassifier()))\n",
    "models.append(('RTREE', RandomForestClassifier(n_estimators=500, max_depth=2, random_state=seed)))\n",
    "models.append(('XTREE', xgb.XGBRFClassifier(random_state=seed)))\n",
    "models.append(('NB', GaussianNB()))\n",
    "models.append(('SVM', SVC(random_state=seed)))"
   ]
  },
  {
   "cell_type": "code",
   "execution_count": 4,
   "metadata": {},
   "outputs": [
    {
     "name": "stdout",
     "output_type": "stream",
     "text": [
      "Fitting for One Year Base\n"
     ]
    },
    {
     "name": "stderr",
     "output_type": "stream",
     "text": [
      "C:\\Users\\Brandon\\Anaconda3\\lib\\site-packages\\sklearn\\utils\\deprecation.py:87: FutureWarning: Function safe_indexing is deprecated; safe_indexing is deprecated in version 0.22 and will be removed in version 0.24.\n",
      "  warnings.warn(msg, category=FutureWarning)\n"
     ]
    },
    {
     "name": "stdout",
     "output_type": "stream",
     "text": [
      "LR: 0.850000 / 0.800000\n",
      "LDA: 0.820000 / 0.790000\n",
      "KNN: 0.870000 / 0.820000\n",
      "CART: 0.800000 / 0.780000\n",
      "RTREE: 0.890000 / 0.820000\n",
      "XTREE: 0.830000 / 0.820000\n",
      "NB: 0.780000 / 0.740000\n",
      "SVM: 0.880000 / 0.810000\n",
      "\n",
      "\n",
      "Fitting for Two Year Base\n"
     ]
    },
    {
     "name": "stderr",
     "output_type": "stream",
     "text": [
      "C:\\Users\\Brandon\\Anaconda3\\lib\\site-packages\\sklearn\\utils\\deprecation.py:87: FutureWarning: Function safe_indexing is deprecated; safe_indexing is deprecated in version 0.22 and will be removed in version 0.24.\n",
      "  warnings.warn(msg, category=FutureWarning)\n"
     ]
    },
    {
     "name": "stdout",
     "output_type": "stream",
     "text": [
      "LR: 0.860000 / 0.800000\n",
      "LDA: 0.810000 / 0.780000\n",
      "KNN: 0.890000 / 0.790000\n",
      "CART: 0.800000 / 0.790000\n",
      "RTREE: 0.890000 / 0.820000\n",
      "XTREE: 0.820000 / 0.820000\n",
      "NB: 0.780000 / 0.740000\n",
      "SVM: 0.880000 / 0.810000\n",
      "\n",
      "\n",
      "Fitting for Three Year Base\n"
     ]
    },
    {
     "name": "stderr",
     "output_type": "stream",
     "text": [
      "C:\\Users\\Brandon\\Anaconda3\\lib\\site-packages\\sklearn\\utils\\deprecation.py:87: FutureWarning: Function safe_indexing is deprecated; safe_indexing is deprecated in version 0.22 and will be removed in version 0.24.\n",
      "  warnings.warn(msg, category=FutureWarning)\n"
     ]
    },
    {
     "name": "stdout",
     "output_type": "stream",
     "text": [
      "LR: 0.840000 / 0.790000\n",
      "LDA: 0.800000 / 0.770000\n",
      "KNN: 0.880000 / 0.810000\n",
      "CART: 0.750000 / 0.750000\n",
      "RTREE: 0.870000 / 0.800000\n",
      "XTREE: 0.850000 / 0.800000\n",
      "NB: 0.790000 / 0.710000\n",
      "SVM: 0.860000 / 0.810000\n",
      "\n",
      "\n",
      "Fitting for Five Year Base\n"
     ]
    },
    {
     "name": "stderr",
     "output_type": "stream",
     "text": [
      "C:\\Users\\Brandon\\Anaconda3\\lib\\site-packages\\sklearn\\utils\\deprecation.py:87: FutureWarning: Function safe_indexing is deprecated; safe_indexing is deprecated in version 0.22 and will be removed in version 0.24.\n",
      "  warnings.warn(msg, category=FutureWarning)\n"
     ]
    },
    {
     "name": "stdout",
     "output_type": "stream",
     "text": [
      "LR: 0.770000 / 0.710000\n",
      "LDA: 0.720000 / 0.690000\n",
      "KNN: 0.900000 / 0.790000\n",
      "CART: 0.770000 / 0.730000\n",
      "RTREE: 0.810000 / 0.730000\n",
      "XTREE: 0.790000 / 0.730000\n",
      "NB: 0.670000 / 0.640000\n",
      "SVM: 0.840000 / 0.770000\n",
      "\n",
      "\n",
      "Fitting for Ten Year Base\n"
     ]
    },
    {
     "name": "stderr",
     "output_type": "stream",
     "text": [
      "C:\\Users\\Brandon\\Anaconda3\\lib\\site-packages\\sklearn\\utils\\deprecation.py:87: FutureWarning: Function safe_indexing is deprecated; safe_indexing is deprecated in version 0.22 and will be removed in version 0.24.\n",
      "  warnings.warn(msg, category=FutureWarning)\n"
     ]
    },
    {
     "name": "stdout",
     "output_type": "stream",
     "text": [
      "LR: 0.800000 / 0.720000\n",
      "LDA: 0.790000 / 0.720000\n",
      "KNN: 0.890000 / 0.800000\n",
      "CART: 0.780000 / 0.770000\n",
      "RTREE: 0.820000 / 0.740000\n",
      "XTREE: 0.760000 / 0.750000\n",
      "NB: 0.700000 / 0.650000\n",
      "SVM: 0.840000 / 0.770000\n",
      "\n",
      "\n"
     ]
    },
    {
     "data": {
      "image/png": "[encoded data removed]",
      "text/plain": [
       "<Figure size 432x288 with 1 Axes>"
      ]
     },
     "metadata": {
      "needs_background": "light"
     },
     "output_type": "display_data"
    }
   ],
   "source": [
    "for name, file in files:\n",
    "    print('Fitting for '+name)\n",
    "    df = pd.read_excel (file,index_col=0,na_values=['..'])\n",
    "    #print('dataframe created')\n",
    "    \n",
    "    algo = []\n",
    "    recall = []\n",
    "    f1 = []\n",
    "    \n",
    "    #Create testing and training sets\n",
    "    array = df.values\n",
    "\n",
    "    #Create X array\n",
    "    X= array[:,4:37]\n",
    "\n",
    "    # Standardizing the features\n",
    "    X = StandardScaler().fit_transform(X)\n",
    "\n",
    "    #Create Y array\n",
    "    Y= array[:,3]\n",
    "    Y=Y.astype('int')\n",
    "\n",
    "    #Training/Test Split\n",
    "    X_train, X_validation, Y_train, Y_validation = train_test_split(X,Y,test_size=0.2,random_state=seed )\n",
    "    #print('Train/Test Split Complete')\n",
    "    \n",
    "    #Impliment SMOTE\n",
    "    sm = SMOTE(random_state = seed) \n",
    "    X_train_smote, Y_train_smote = sm.fit_sample(X_train, Y_train)\n",
    "    #print('oversampling complete')\n",
    "    \n",
    "    pca = PCA().fit(X_train_smote)\n",
    "    plt.plot(np.cumsum(pca.explained_variance_ratio_))\n",
    "    plt.xlabel('number of components')\n",
    "    plt.ylabel('cumulative explained variance');\n",
    "    \n",
    "    pca = PCA(.8)\n",
    "    principalComponents = pca.fit_transform(X_train_smote)\n",
    "    #print('Using '+pca.n_components_+' PCA variables.')\n",
    "    \n",
    "    X_train_pca = pca.fit_transform(X_train_smote)\n",
    "    X_validation_pca = pca.transform(X_validation)\n",
    "    \n",
    "    for algo, model in models:\n",
    "        model.fit(X_train_smote, Y_train_smote)\n",
    "        predictions = model.predict(X_validation)\n",
    "        recall.append(round(recall_score(Y_validation, predictions),2))\n",
    "        f1.append(round(f1_score(Y_validation, predictions),2))\n",
    "        print('%s: %f / %f' % (algo, round(recall_score(Y_validation, predictions),2), round(f1_score(Y_validation, predictions),2)))\n",
    "    print('')\n",
    "    print('')"
   ]
  },
  {
   "cell_type": "code",
   "execution_count": null,
   "metadata": {},
   "outputs": [],
   "source": []
  }
 ],
 "metadata": {
  "kernelspec": {
   "display_name": "Python 3",
   "language": "python",
   "name": "python3"
  },
  "language_info": {
   "codemirror_mode": {
    "name": "ipython",
    "version": 3
   },
   "file_extension": ".py",
   "mimetype": "text/x-python",
   "name": "python",
   "nbconvert_exporter": "python",
   "pygments_lexer": "ipython3",
   "version": "3.7.1"
  }
 },
 "nbformat": 4,
 "nbformat_minor": 4
}
