{
 "cells": [
  {
   "cell_type": "code",
   "execution_count": null,
   "metadata": {},
   "outputs": [],
   "source": [
    "import pandas as pd\n",
    "import numpy as np\n",
    "import matplotlib.pyplot as plt\n",
    "import seaborn as sns\n",
    "%matplotlib inline"
   ]
  },
  {
   "cell_type": "code",
   "execution_count": null,
   "metadata": {},
   "outputs": [],
   "source": [
    "#upload data\n",
    "base=[]\n",
    "base.append(('Base Specification','Accuracy', '../data/b_acv.xlsx'))\n",
    "base.append(('Base Specification','Recall', '../data/b_rcv.xlsx'))\n",
    "base.append(('Base Specification','F1 Score', '../data/b_fcv.xlsx'))\n",
    "\n",
    "base.append(('Base w/ PCA', 'Accuracy', '../data/bp_acv.xlsx'))\n",
    "base.append(('Base w/ PCA', 'Recall', '../data/bp_rcv.xlsx'))\n",
    "base.append(('Base w/ PCA', 'F1 Score', '../data/bp_fcv.xlsx'))\n",
    "\n",
    "base.append(('Base w/ Dummies', 'Accuracy', '../data/bd_acv.xlsx'))\n",
    "base.append(('Base w/ Dummies', 'Recall', '../data/bd_rcv.xlsx'))\n",
    "base.append(('Base w/ Dummies', 'F1 Score', '../data/bd_fcv.xlsx'))\n",
    "\n",
    "base.append(('Base w/ Dummies and PCA', 'Accuracy', '../data/bpd_acv.xlsx'))\n",
    "base.append(('Base w/ Dummies and PCA', 'Recall', '../data/bpd_rcv.xlsx'))\n",
    "base.append(('Base w/ Dummies and PCA', 'F1 Score', '../data/bpd_fcv.xlsx'))\n",
    "\n",
    "alt=[]\n",
    "alt.append(('Alt Accuracy', '../data/a_acv.xlsx'))\n",
    "alt.append(('Alt Recall', '../data/a_rcv.xlsx'))\n",
    "alt.append(('Alt F1 Score', '../data/a_fcv.xlsx'))\n",
    "\n",
    "alt.append(('Alt w/ PCA Accuracy', '../data/ap_acv.xlsx'))\n",
    "alt.append(('Alt w/ PCA Recall', '../data/ap_rcv.xlsx'))\n",
    "alt.append(('Alt w/ PCA F1 Score', '../data/ap_fcv.xlsx'))\n",
    "\n",
    "alt.append(('Alt w/ Dummies Accuracy', '../data/ad_acv.xlsx'))\n",
    "alt.append(('Alt w/ Dummies Recall', '../data/ad_rcv.xlsx'))\n",
    "alt.append(('Alt w/ Dummies F1 Score', '../data/ad_fcv.xlsx'))\n",
    "\n",
    "alt.append(('Alt w/ Dummies and PCA Accuracy', '../data/apd_acv.xlsx'))\n",
    "alt.append(('Alt w/ Dummies and PCA Recall', '../data/apd_rcv.xlsx'))\n",
    "alt.append(('Alt w/ Dummies and PCA F1 Score', '../data/apd_fcv.xlsx'))\n",
    "    \n",
    "con=[]\n",
    "con.append(('Conflict Type Accuracy', '../data/c_acv.xlsx'))\n",
    "con.append(('Conflict Type Recall', '../data/c_rcv.xlsx'))\n",
    "con.append(('Conflict Type F1 Score', '../data/c_fcv.xlsx'))\n",
    "\n",
    "con.append(('Conflict Type w/ PCA Accuracy', '../data/cp_acv.xlsx'))\n",
    "con.append(('Conflict Type w/ PCA Recall', '../data/cp_rcv.xlsx'))\n",
    "con.append(('Conflict Type w/ PCA F1 Score', '../data/cp_fcv.xlsx'))\n",
    "\n",
    "con.append(('Conflict Type w/ Dummies Accuracy', '../data/cd_acv.xlsx'))\n",
    "con.append(('Conflict Type w/ Dummies Recall', '../data/cd_rcv.xlsx'))\n",
    "con.append(('Conflict Type w/ Dummies F1 Score', '../data/cd_fcv.xlsx'))\n",
    "\n",
    "con.append(('Conflict Type w/ Dummies and PCA Accuracy', '../data/cpd_acv.xlsx'))\n",
    "con.append(('Conflict Type w/ Dummies and PCA Recall', '../data/cpd_rcv.xlsx'))\n",
    "con.append(('Conflict Type w/ Dummies and PCA F1 Score', '../data/cpd_fcv.xlsx'))    "
   ]
  },
  {
   "cell_type": "code",
   "execution_count": null,
   "metadata": {},
   "outputs": [],
   "source": [
    "for title, measure, file in base:\n",
    "    # Make a data frame\n",
    "    df=pd.read_excel (file,index_col=0,na_values=['..'])\n",
    "    df=pd.melt(df, id_vars=['Algorithm'], var_name='Offset', value_name=measure)\n",
    "\n",
    "    sns.set(style=\"ticks\")\n",
    "\n",
    "    # Define a palette to ensure that colors will be\n",
    "    # shared across the facets\n",
    "    palette = dict(zip(dots.coherence.unique(),\n",
    "                       sns.color_palette(\"rocket_r\", 6)))\n",
    "    plt.figure(figsize=(10,8))\n",
    "    # Plot the lines on two facets\n",
    "    sns.lineplot(x=\"Offset\", y=measure, sort=False,\n",
    "                hue=\"Algorithm\",legend=\"full\", data=df).set_title(title)"
   ]
  },
  {
   "cell_type": "code",
   "execution_count": null,
   "metadata": {},
   "outputs": [],
   "source": [
    "for title, measure, file in alt:\n",
    "    # Make a data frame\n",
    "    df=pd.read_excel (file,index_col=0,na_values=['..'])\n",
    "    df=pd.melt(df, id_vars=['Algorithm'], var_name='Offset', value_name=measure)\n",
    "\n",
    "    sns.set(style=\"ticks\")\n",
    "\n",
    "    # Define a palette to ensure that colors will be\n",
    "    # shared across the facets\n",
    "    palette = dict(zip(dots.coherence.unique(),\n",
    "                       sns.color_palette(\"rocket_r\", 6)))\n",
    "    plt.figure(figsize=(10,8))\n",
    "    # Plot the lines on two facets\n",
    "    sns.lineplot(x=\"Offset\", y=measure, sort=False,\n",
    "                hue=\"Algorithm\",legend=\"full\", data=df).set_title(title)"
   ]
  },
  {
   "cell_type": "code",
   "execution_count": null,
   "metadata": {},
   "outputs": [],
   "source": [
    "for title, measure, file in con:\n",
    "    # Make a data frame\n",
    "    df=pd.read_excel (file,index_col=0,na_values=['..'])\n",
    "    df=pd.melt(df, id_vars=['Algorithm'], var_name='Offset', value_name=measure)\n",
    "\n",
    "    sns.set(style=\"ticks\")\n",
    "\n",
    "    # Define a palette to ensure that colors will be\n",
    "    # shared across the facets\n",
    "    palette = dict(zip(dots.coherence.unique(),\n",
    "                       sns.color_palette(\"rocket_r\", 6)))\n",
    "    plt.figure(figsize=(10,8))\n",
    "    # Plot the lines on two facets\n",
    "    sns.lineplot(x=\"Offset\", y=measure, sort=False,\n",
    "                hue=\"Algorithm\",legend=\"full\", data=df).set_title(title)"
   ]
  }
 ],
 "metadata": {
  "kernelspec": {
   "display_name": "Python 3",
   "language": "python",
   "name": "python3"
  },
  "language_info": {
   "codemirror_mode": {
    "name": "ipython",
    "version": 3
   },
   "file_extension": ".py",
   "mimetype": "text/x-python",
   "name": "python",
   "nbconvert_exporter": "python",
   "pygments_lexer": "ipython3",
   "version": "3.7.1"
  }
 },
 "nbformat": 4,
 "nbformat_minor": 4
}
