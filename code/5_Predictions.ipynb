{
 "cells": [
  {
   "cell_type": "code",
   "execution_count": 1,
   "metadata": {},
   "outputs": [],
   "source": [
    "#Ignore 'Future Warnings'\n",
    "import warnings\n",
    "warnings.filterwarnings(\"ignore\", category=FutureWarning)"
   ]
  },
  {
   "cell_type": "code",
   "execution_count": 2,
   "metadata": {},
   "outputs": [
    {
     "name": "stderr",
     "output_type": "stream",
     "text": [
      "Using TensorFlow backend.\n"
     ]
    }
   ],
   "source": [
    "import os\n",
    "import pandas as pd\n",
    "import numpy as np\n",
    "import scipy\n",
    "import matplotlib.pyplot as plt\n",
    "import sklearn\n",
    "from imblearn.over_sampling import SMOTE\n",
    "from sklearn.preprocessing import StandardScaler\n",
    "from sklearn.decomposition import PCA\n",
    "from sklearn.tree import DecisionTreeRegressor\n",
    "from sklearn.model_selection import train_test_split\n",
    "from sklearn.model_selection import cross_val_score\n",
    "from sklearn.model_selection import StratifiedKFold\n",
    "from sklearn.metrics import classification_report\n",
    "from sklearn.metrics import confusion_matrix\n",
    "from sklearn.metrics import accuracy_score\n",
    "from sklearn.linear_model import LogisticRegression\n",
    "from sklearn.tree import DecisionTreeClassifier\n",
    "from sklearn.neighbors import KNeighborsClassifier\n",
    "from sklearn.discriminant_analysis import LinearDiscriminantAnalysis\n",
    "from sklearn.naive_bayes import GaussianNB\n",
    "from sklearn.svm import SVC\n",
    "from sklearn.metrics import plot_confusion_matrix\n",
    "from sklearn.ensemble import RandomForestClassifier\n",
    "from xgboost import XGBClassifier as xgb\n",
    "from sklearn.metrics import recall_score\n",
    "from sklearn.metrics import f1_score"
   ]
  },
  {
   "cell_type": "code",
   "execution_count": 3,
   "metadata": {},
   "outputs": [],
   "source": [
    "#Set Psudeorandom Seed\n",
    "seed = 42\n",
    "pca_target = .8"
   ]
  },
  {
   "cell_type": "code",
   "execution_count": 4,
   "metadata": {},
   "outputs": [],
   "source": [
    "models=[]\n",
    "models.append(('SVM',SVC(random_state=seed, probability=True)))\n",
    "models.append(('XTREE', xgb(random_state=seed)))"
   ]
  },
  {
   "cell_type": "code",
   "execution_count": 5,
   "metadata": {},
   "outputs": [],
   "source": [
    "files = []\n",
    "\n",
    "files.append(('../data/1a_offset.xlsx','Overall'))\n",
    "files.append(('../data/con_1.xlsx','State Based'))\n",
    "files.append(('../data/con_2.xlsx','Nonstate'))\n",
    "files.append(('../data/con_3.xlsx','One-Sided'))"
   ]
  },
  {
   "cell_type": "code",
   "execution_count": 6,
   "metadata": {},
   "outputs": [],
   "source": [
    "spec = '../data/a_spec.xlsx'\n",
    "df_spec = pd.read_excel (spec,index_col=0,na_values=['..'])\n",
    "df_spec = df_spec.rename(columns={df_spec.columns[3]: 'predictor'})\n",
    "\n",
    "\n",
    "year_dummies = pd.get_dummies(df_spec.year, prefix='year').iloc[:,1:]\n",
    "region_dummies = pd.get_dummies(df_spec.region, prefix='region').iloc[:,1:]\n",
    "country_dummies = pd.get_dummies(df_spec.ccode, prefix='country: ').iloc[:,1:]\n",
    "\n",
    "df_spec = pd.concat([df_spec,year_dummies, region_dummies, country_dummies], axis = 1)"
   ]
  },
  {
   "cell_type": "code",
   "execution_count": 7,
   "metadata": {},
   "outputs": [],
   "source": [
    "file3 = '../data/pred_2018.xlsx'\n",
    "df_pred = pd.read_excel (file3,index_col=0,na_values=['..'])\n",
    "df_pred = pd.concat([df_pred,year_dummies, region_dummies, country_dummies], axis = 1)\n",
    "df_pred=df_pred.dropna()\n",
    "df_pred = df_pred.rename(columns={df_pred.columns[3]: 'predictor'})"
   ]
  },
  {
   "cell_type": "code",
   "execution_count": 8,
   "metadata": {},
   "outputs": [],
   "source": [
    "array2 = df_pred.values\n",
    "X_pred = array2[:,4:]\n",
    "X_pred = StandardScaler().fit_transform(X_pred)"
   ]
  },
  {
   "cell_type": "code",
   "execution_count": 9,
   "metadata": {},
   "outputs": [],
   "source": [
    "results = df_pred[['ccode']].copy()\n",
    "index = results.index"
   ]
  },
  {
   "cell_type": "code",
   "execution_count": 10,
   "metadata": {},
   "outputs": [
    {
     "name": "stdout",
     "output_type": "stream",
     "text": [
      "[[846  68]\n",
      " [ 35 281]]\n",
      "\n",
      "\n",
      "[[870  44]\n",
      " [ 61 255]]\n",
      "\n",
      "\n",
      "[[930  68]\n",
      " [ 23 209]]\n",
      "\n",
      "\n",
      "[[956  42]\n",
      " [ 33 199]]\n",
      "\n",
      "\n",
      "[[1032   67]\n",
      " [  15  116]]\n",
      "\n",
      "\n",
      "[[1026   73]\n",
      " [  25  106]]\n",
      "\n",
      "\n",
      "[[916  84]\n",
      " [ 21 209]]\n",
      "\n",
      "\n",
      "[[939  61]\n",
      " [ 39 191]]\n",
      "\n",
      "\n"
     ]
    }
   ],
   "source": [
    "for file, name in files:\n",
    "    \n",
    "    X=[]\n",
    "    Y=[]\n",
    "    df = pd.read_excel (file,index_col=0,na_values=['..'])\n",
    "    \n",
    "    #Creation of Year/Region/Country Dummies\n",
    "    year_dummies = pd.get_dummies(df.year, prefix='year').iloc[:,1:]\n",
    "    region_dummies = pd.get_dummies(df.region, prefix='region').iloc[:,1:]\n",
    "    country_dummies = pd.get_dummies(df.ccode, prefix='country: ').iloc[:,1:]\n",
    "    \n",
    "    df = pd.concat([df, year_dummies, region_dummies, country_dummies], axis = 1)\n",
    "    df = df.rename(columns={df.columns[3]: 'predictor'})\n",
    "    \n",
    "    #2018 Column added to ensure equal number of columns in training and test data. \n",
    "    #Since all 2018 values were dropped for model evaluation, all 2018 values for training data are zero.\n",
    "    df['year_2018'] = 0\n",
    "    df=df[df_spec.columns]\n",
    "\n",
    "    #Create testing and training sets\n",
    "    array = df.values\n",
    "\n",
    "    #Create X array\n",
    "    X= array[:,4:]\n",
    "\n",
    "    # Standardizing the features\n",
    "    X = StandardScaler().fit_transform(X)\n",
    "\n",
    "    #Create Y array\n",
    "    Y= array[:,3]\n",
    "    Y=Y.astype('int') \n",
    "    \n",
    "    #Training/Test Split\n",
    "    X_train, X_validation, Y_train, Y_validation = train_test_split(X,Y,test_size=0.2,random_state=seed)\n",
    "    \n",
    "    #Impliment SMOTE\n",
    "    sm = SMOTE(random_state = seed) \n",
    "    X_train, Y_train = sm.fit_sample(X_train, Y_train)\n",
    "\n",
    "    # Make predictions on validation dataset\n",
    "    for algo, model in models:\n",
    "        algo_model=model\n",
    "        algo_model.fit(X_train, Y_train)\n",
    "        predictions = algo_model.predict(X_validation)\n",
    "        print(confusion_matrix(Y_validation, predictions))\n",
    "        print('')\n",
    "        print('')\n",
    "        pred = algo_model.predict_proba(X_pred)\n",
    "\n",
    "        df_pred = pd.DataFrame({str(algo+' No '+name):pred[:,0],str(algo+' '+name): pred[:,1]}, index=index)\n",
    "        results = pd.concat([results, df_pred], axis=1)"
   ]
  },
  {
   "cell_type": "code",
   "execution_count": 11,
   "metadata": {},
   "outputs": [],
   "source": [
    "files = []\n",
    "\n",
    "files.append(('../data/2a_offset.xlsx','Two Year Offset'))\n"
   ]
  },
  {
   "cell_type": "code",
   "execution_count": 12,
   "metadata": {},
   "outputs": [
    {
     "name": "stdout",
     "output_type": "stream",
     "text": [
      "[[812  74]\n",
      " [ 23 278]]\n",
      "\n",
      "\n",
      "[[829  57]\n",
      " [ 48 253]]\n",
      "\n",
      "\n"
     ]
    }
   ],
   "source": [
    "for file, name in files:\n",
    "    \n",
    "    X=[]\n",
    "    Y=[]\n",
    "    df = pd.read_excel (file,index_col=0,na_values=['..'])\n",
    "    \n",
    "    #Creation of Year/Region/Country Dummies\n",
    "    year_dummies = pd.get_dummies(df.year, prefix='year').iloc[:,1:]\n",
    "    region_dummies = pd.get_dummies(df.region, prefix='region').iloc[:,1:]\n",
    "    country_dummies = pd.get_dummies(df.ccode, prefix='country: ').iloc[:,1:]\n",
    "    \n",
    "    df = pd.concat([df, year_dummies, region_dummies, country_dummies], axis = 1)\n",
    "    df = df.rename(columns={df.columns[3]: 'predictor'})\n",
    "    \n",
    "    #2018 Column added to ensure equal number of columns in training and test data. \n",
    "    #Since all 2018 values were dropped for model evaluation, all 2018 values for training data are zero.\n",
    "    df['year_2018'] = 0\n",
    "    df['year_2017'] = 0\n",
    "    df=df[df_spec.columns]\n",
    "\n",
    "    #Create testing and training sets\n",
    "    array = df.values\n",
    "\n",
    "    #Create X array\n",
    "    X= array[:,4:]\n",
    "\n",
    "    # Standardizing the features\n",
    "    X = StandardScaler().fit_transform(X)\n",
    "\n",
    "    #Create Y array\n",
    "    Y= array[:,3]\n",
    "    Y=Y.astype('int') \n",
    "    \n",
    "    #Training/Test Split\n",
    "    X_train, X_validation, Y_train, Y_validation = train_test_split(X,Y,test_size=0.2,random_state=seed)\n",
    "    \n",
    "    #Impliment SMOTE\n",
    "    sm = SMOTE(random_state = seed) \n",
    "    X_train, Y_train = sm.fit_sample(X_train, Y_train)\n",
    "\n",
    "    # Make predictions on validation dataset\n",
    "    for algo, model in models:\n",
    "        algo_model=model\n",
    "        algo_model.fit(X_train, Y_train)\n",
    "        predictions = algo_model.predict(X_validation)\n",
    "        print(confusion_matrix(Y_validation, predictions))\n",
    "        print('')\n",
    "        print('')\n",
    "        pred = algo_model.predict_proba(X_pred)\n",
    "\n",
    "        df_pred = pd.DataFrame({str(algo+' No '+name):pred[:,0],str(algo+' '+name): pred[:,1]}, index=index)\n",
    "        results = pd.concat([results, df_pred], axis=1)\n"
   ]
  },
  {
   "cell_type": "code",
   "execution_count": 13,
   "metadata": {},
   "outputs": [],
   "source": [
    "files = []\n",
    "\n",
    "files.append(('../data/3a_offset.xlsx','Three Year Offset'))\n"
   ]
  },
  {
   "cell_type": "code",
   "execution_count": 14,
   "metadata": {},
   "outputs": [
    {
     "name": "stdout",
     "output_type": "stream",
     "text": [
      "[[750  87]\n",
      " [ 35 271]]\n",
      "\n",
      "\n",
      "[[776  61]\n",
      " [ 61 245]]\n",
      "\n",
      "\n"
     ]
    }
   ],
   "source": [
    "for file, name in files:\n",
    "    \n",
    "    X=[]\n",
    "    Y=[]\n",
    "    df = pd.read_excel (file,index_col=0,na_values=['..'])\n",
    "    \n",
    "    #Creation of Year/Region/Country Dummies\n",
    "    year_dummies = pd.get_dummies(df.year, prefix='year').iloc[:,1:]\n",
    "    region_dummies = pd.get_dummies(df.region, prefix='region').iloc[:,1:]\n",
    "    country_dummies = pd.get_dummies(df.ccode, prefix='country: ').iloc[:,1:]\n",
    "    \n",
    "    df = pd.concat([df, year_dummies, region_dummies, country_dummies], axis = 1)\n",
    "    df = df.rename(columns={df.columns[3]: 'predictor'})\n",
    "    \n",
    "    #2018 Column added to ensure equal number of columns in training and test data. \n",
    "    #Since all 2018 values were dropped for model evaluation, all 2018 values for training data are zero.\n",
    "    df['year_2018'] = 0\n",
    "    df['year_2017'] = 0\n",
    "    df['year_2016'] = 0\n",
    "    df=df[df_spec.columns]\n",
    "\n",
    "    #Create testing and training sets\n",
    "    array = df.values\n",
    "\n",
    "    #Create X array\n",
    "    X= array[:,4:]\n",
    "\n",
    "    # Standardizing the features\n",
    "    X = StandardScaler().fit_transform(X)\n",
    "\n",
    "    #Create Y array\n",
    "    Y= array[:,3]\n",
    "    Y=Y.astype('int') \n",
    "    \n",
    "    #Training/Test Split\n",
    "    X_train, X_validation, Y_train, Y_validation = train_test_split(X,Y,test_size=0.2,random_state=seed)\n",
    "    \n",
    "    #Impliment SMOTE\n",
    "    sm = SMOTE(random_state = seed) \n",
    "    X_train, Y_train = sm.fit_sample(X_train, Y_train)\n",
    "\n",
    "    # Make predictions on validation dataset\n",
    "    for algo, model in models:\n",
    "        algo_model=model\n",
    "        algo_model.fit(X_train, Y_train)\n",
    "        predictions = algo_model.predict(X_validation)\n",
    "        print(confusion_matrix(Y_validation, predictions))\n",
    "        print('')\n",
    "        print('')\n",
    "        pred = algo_model.predict_proba(X_pred)\n",
    "\n",
    "        df_pred = pd.DataFrame({str(algo+' No '+name):pred[:,0],str(algo+' '+name): pred[:,1]}, index=index)\n",
    "        results = pd.concat([results, df_pred], axis=1)\n"
   ]
  },
  {
   "cell_type": "code",
   "execution_count": 15,
   "metadata": {},
   "outputs": [],
   "source": [
    "files = []\n",
    "\n",
    "files.append(('../data/5a_offset.xlsx','Five Year Offset'))\n"
   ]
  },
  {
   "cell_type": "code",
   "execution_count": 16,
   "metadata": {},
   "outputs": [
    {
     "name": "stdout",
     "output_type": "stream",
     "text": [
      "[[722  85]\n",
      " [ 27 223]]\n",
      "\n",
      "\n",
      "[[737  70]\n",
      " [ 41 209]]\n",
      "\n",
      "\n"
     ]
    }
   ],
   "source": [
    "for file, name in files:\n",
    "    \n",
    "    X=[]\n",
    "    Y=[]\n",
    "    df = pd.read_excel (file,index_col=0,na_values=['..'])\n",
    "    \n",
    "    #Creation of Year/Region/Country Dummies\n",
    "    year_dummies = pd.get_dummies(df.year, prefix='year').iloc[:,1:]\n",
    "    region_dummies = pd.get_dummies(df.region, prefix='region').iloc[:,1:]\n",
    "    country_dummies = pd.get_dummies(df.ccode, prefix='country: ').iloc[:,1:]\n",
    "    \n",
    "    df = pd.concat([df, year_dummies, region_dummies, country_dummies], axis = 1)\n",
    "    df = df.rename(columns={df.columns[3]: 'predictor'})\n",
    "    \n",
    "    #2018 Column added to ensure equal number of columns in training and test data. \n",
    "    #Since all 2018 values were dropped for model evaluation, all 2018 values for training data are zero.\n",
    "    df['year_2018'] = 0\n",
    "    df['year_2017'] = 0\n",
    "    df['year_2016'] = 0\n",
    "    df['year_2015'] = 0\n",
    "    df['year_2014'] = 0\n",
    "    df=df[df_spec.columns]\n",
    "\n",
    "    #Create testing and training sets\n",
    "    array = df.values\n",
    "\n",
    "    #Create X array\n",
    "    X= array[:,4:]\n",
    "\n",
    "    # Standardizing the features\n",
    "    X = StandardScaler().fit_transform(X)\n",
    "\n",
    "    #Create Y array\n",
    "    Y= array[:,3]\n",
    "    Y=Y.astype('int') \n",
    "    \n",
    "    #Training/Test Split\n",
    "    X_train, X_validation, Y_train, Y_validation = train_test_split(X,Y,test_size=0.2,random_state=seed)\n",
    "    \n",
    "    #Impliment SMOTE\n",
    "    sm = SMOTE(random_state = seed) \n",
    "    X_train, Y_train = sm.fit_sample(X_train, Y_train)\n",
    "\n",
    "    # Make predictions on validation dataset\n",
    "    for algo, model in models:\n",
    "        algo_model=model\n",
    "        algo_model.fit(X_train, Y_train)\n",
    "        predictions = algo_model.predict(X_validation)\n",
    "        print(confusion_matrix(Y_validation, predictions))\n",
    "        print('')\n",
    "        print('')\n",
    "        pred = algo_model.predict_proba(X_pred)\n",
    "\n",
    "        df_pred = pd.DataFrame({str(algo+' No '+name):pred[:,0],str(algo+' '+name): pred[:,1]}, index=index)\n",
    "        results = pd.concat([results, df_pred], axis=1)\n"
   ]
  },
  {
   "cell_type": "code",
   "execution_count": 17,
   "metadata": {},
   "outputs": [],
   "source": [
    "files = []\n",
    "\n",
    "files.append(('../data/10a_offset.xlsx','Ten Year Offset'))\n"
   ]
  },
  {
   "cell_type": "code",
   "execution_count": 18,
   "metadata": {},
   "outputs": [
    {
     "name": "stdout",
     "output_type": "stream",
     "text": [
      "[[591  58]\n",
      " [ 19 173]]\n",
      "\n",
      "\n",
      "[[589  60]\n",
      " [ 32 160]]\n",
      "\n",
      "\n"
     ]
    }
   ],
   "source": [
    "for file, name in files:\n",
    "    \n",
    "    X=[]\n",
    "    Y=[]\n",
    "    df = pd.read_excel (file,index_col=0,na_values=['..'])\n",
    "    \n",
    "    #Creation of Year/Region/Country Dummies\n",
    "    year_dummies = pd.get_dummies(df.year, prefix='year').iloc[:,1:]\n",
    "    region_dummies = pd.get_dummies(df.region, prefix='region').iloc[:,1:]\n",
    "    country_dummies = pd.get_dummies(df.ccode, prefix='country: ').iloc[:,1:]\n",
    "    \n",
    "    df = pd.concat([df, year_dummies, region_dummies, country_dummies], axis = 1)\n",
    "    df = df.rename(columns={df.columns[3]: 'predictor'})\n",
    "    \n",
    "    #2018 Column added to ensure equal number of columns in training and test data. \n",
    "    #Since all 2018 values were dropped for model evaluation, all 2018 values for training data are zero.\n",
    "    df['year_2018'] = 0\n",
    "    df['year_2017'] = 0\n",
    "    df['year_2016'] = 0\n",
    "    df['year_2015'] = 0\n",
    "    df['year_2014'] = 0\n",
    "    df['year_2013'] = 0\n",
    "    df['year_2012'] = 0\n",
    "    df['year_2011'] = 0\n",
    "    df['year_2010'] = 0\n",
    "    df['year_2009'] = 0\n",
    "    df['country: _SSD'] = 0\n",
    "    df=df[df_spec.columns]\n",
    "\n",
    "    #Create testing and training sets\n",
    "    array = df.values\n",
    "\n",
    "    #Create X array\n",
    "    X= array[:,4:]\n",
    "\n",
    "    # Standardizing the features\n",
    "    X = StandardScaler().fit_transform(X)\n",
    "\n",
    "    #Create Y array\n",
    "    Y= array[:,3]\n",
    "    Y=Y.astype('int') \n",
    "    \n",
    "    #Training/Test Split\n",
    "    X_train, X_validation, Y_train, Y_validation = train_test_split(X,Y,test_size=0.2,random_state=seed)\n",
    "    \n",
    "    #Impliment SMOTE\n",
    "    sm = SMOTE(random_state = seed) \n",
    "    X_train, Y_train = sm.fit_sample(X_train, Y_train)\n",
    "\n",
    "    # Make predictions on validation dataset\n",
    "    for algo, model in models:\n",
    "        algo_model=model\n",
    "        algo_model.fit(X_train, Y_train)\n",
    "        predictions = algo_model.predict(X_validation)\n",
    "        print(confusion_matrix(Y_validation, predictions))\n",
    "        print('')\n",
    "        print('')\n",
    "        pred = algo_model.predict_proba(X_pred)\n",
    "\n",
    "        df_pred = pd.DataFrame({str(algo+' No '+name):pred[:,0],str(algo+' '+name): pred[:,1]}, index=index)\n",
    "        results = pd.concat([results, df_pred], axis=1)\n"
   ]
  },
  {
   "cell_type": "code",
   "execution_count": 19,
   "metadata": {
    "scrolled": false
   },
   "outputs": [
    {
     "name": "stdout",
     "output_type": "stream",
     "text": [
      "saved to ../data/results.xlsx\n"
     ]
    }
   ],
   "source": [
    "target = '../data/results.xlsx'\n",
    "results.to_excel(target)\n",
    "print('saved to '+target )"
   ]
  },
  {
   "cell_type": "code",
   "execution_count": null,
   "metadata": {},
   "outputs": [],
   "source": []
  }
 ],
 "metadata": {
  "kernelspec": {
   "display_name": "Python 3",
   "language": "python",
   "name": "python3"
  },
  "language_info": {
   "codemirror_mode": {
    "name": "ipython",
    "version": 3
   },
   "file_extension": ".py",
   "mimetype": "text/x-python",
   "name": "python",
   "nbconvert_exporter": "python",
   "pygments_lexer": "ipython3",
   "version": "3.7.1"
  }
 },
 "nbformat": 4,
 "nbformat_minor": 4
}
