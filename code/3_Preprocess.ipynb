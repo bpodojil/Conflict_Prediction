{
 "cells": [
  {
   "cell_type": "markdown",
   "metadata": {},
   "source": [
    "# Import Packages and create dataframe"
   ]
  },
  {
   "cell_type": "code",
   "execution_count": 1,
   "metadata": {},
   "outputs": [],
   "source": [
    "#Import necessary packages\n",
    "import pandas as pd\n",
    "import numpy as np\n",
    "import seaborn as sns\n",
    "import matplotlib.pyplot as plt"
   ]
  },
  {
   "cell_type": "code",
   "execution_count": 2,
   "metadata": {},
   "outputs": [
    {
     "name": "stdout",
     "output_type": "stream",
     "text": [
      "file uploaded\n"
     ]
    }
   ],
   "source": [
    "#Load imputed data\n",
    "file = '../data/imputed_data.xlsx'\n",
    "df = pd.read_excel (file,index_col=0,na_values=['..'])\n",
    "print('file uploaded')"
   ]
  },
  {
   "cell_type": "markdown",
   "metadata": {},
   "source": [
    "# Build and assess the base specification"
   ]
  },
  {
   "cell_type": "code",
   "execution_count": 3,
   "metadata": {},
   "outputs": [
    {
     "name": "stdout",
     "output_type": "stream",
     "text": [
      "Values Dropped\n"
     ]
    }
   ],
   "source": [
    "#replicate the group's original specification for a one year offset\n",
    "df_1y=df.loc[:,{'ccode', 'year', 'region', 'con1_next', 'con_in', 'total_ev', 'net_gs', 'gdp_cap', 'exp_gs', 'inf', 'gov_ed', 'lit_r', 'acc_tech', 'acc_ele_r', 'acc_ele_u', 'ag_pct', 'arable_pct', 'forest_pct', 'low_land_pct', 'wtr_str', 'under_n', 'unemp', 'lf_rt_f', 'lf_rt_m', 'pop_tot', 'pov_hc', 'rugged', 'land_area', 'soil', 'desert', 'tropical', 'near_coast', 'gemstones', 'polity2', 'parcomp', 'corrupt', 'rule_law', 'con_last3'}]\n",
    "\n",
    "df_1y = df_1y[['ccode', 'year', 'region', 'con1_next', 'con_in', 'total_ev', 'net_gs', 'gdp_cap', 'exp_gs', 'inf', 'gov_ed', 'lit_r', 'acc_tech', 'acc_ele_r', 'acc_ele_u', 'ag_pct', 'arable_pct', 'forest_pct', 'low_land_pct', 'wtr_str', 'under_n', 'unemp', 'lf_rt_f', 'lf_rt_m', 'pop_tot', 'pov_hc', 'rugged', 'land_area', 'soil', 'desert', 'tropical', 'near_coast', 'gemstones', 'polity2', 'parcomp', 'corrupt', 'rule_law', 'con_last3']]\n",
    "\n",
    "#We drop 2018 observations since we have no data on 2019 conflict from our source\n",
    "df_1y.drop(df_1y[(df_1y['year'] > 2017)].index, inplace = True)\n",
    "\n",
    "print('Values Dropped')"
   ]
  },
  {
   "cell_type": "code",
   "execution_count": 4,
   "metadata": {},
   "outputs": [
    {
     "name": "stdout",
     "output_type": "stream",
     "text": [
      "saved to ../data/1y_offset.xlsx\n",
      "saved to ../data/2y_offset.xlsx\n",
      "saved to ../data/3y_offset.xlsx\n",
      "saved to ../data/5y_offset.xlsx\n",
      "saved to ../data/10y_offset.xlsx\n"
     ]
    }
   ],
   "source": [
    "#Builds 2, 3, 5, and 10 year offsets of the original specification\n",
    "\n",
    "df_2y=df.loc[:,{'ccode', 'year', 'region', 'con2_next', 'con_in', 'total_ev', 'net_gs', 'gdp_cap', 'exp_gs', 'inf', 'gov_ed', 'lit_r', 'acc_tech', 'acc_ele_r', 'acc_ele_u', 'ag_pct', 'arable_pct', 'forest_pct', 'low_land_pct', 'wtr_str', 'under_n', 'unemp', 'lf_rt_f', 'lf_rt_m', 'pop_tot', 'pov_hc', 'rugged', 'land_area', 'soil', 'desert', 'tropical', 'near_coast', 'gemstones', 'polity2', 'parcomp', 'corrupt', 'rule_law', 'con_last3'}]\n",
    "df_2y = df_2y[['ccode', 'year', 'region', 'con2_next', 'con_in', 'total_ev', 'net_gs', 'gdp_cap', 'exp_gs', 'inf', 'gov_ed', 'lit_r', 'acc_tech', 'acc_ele_r', 'acc_ele_u', 'ag_pct', 'arable_pct', 'forest_pct', 'low_land_pct', 'wtr_str', 'under_n', 'unemp', 'lf_rt_f', 'lf_rt_m', 'pop_tot', 'pov_hc', 'rugged', 'land_area', 'soil', 'desert', 'tropical', 'near_coast', 'gemstones', 'polity2', 'parcomp', 'corrupt', 'rule_law', 'con_last3']]\n",
    "df_2y.drop(df_2y[(df_2y['year'] > 2016)].index, inplace = True)\n",
    "\n",
    "df_3y=df.loc[:,{'ccode', 'year', 'region', 'con3_next', 'con_in', 'total_ev', 'net_gs', 'gdp_cap', 'exp_gs', 'inf', 'gov_ed', 'lit_r', 'acc_tech', 'acc_ele_r', 'acc_ele_u', 'ag_pct', 'arable_pct', 'forest_pct', 'low_land_pct', 'wtr_str', 'under_n', 'unemp', 'lf_rt_f', 'lf_rt_m', 'pop_tot', 'pov_hc', 'rugged', 'land_area', 'soil', 'desert', 'tropical', 'near_coast', 'gemstones', 'polity2', 'parcomp', 'corrupt', 'rule_law', 'con_last3'}]\n",
    "df_3y = df_3y[['ccode', 'year', 'region', 'con3_next', 'con_in', 'total_ev', 'net_gs', 'gdp_cap', 'exp_gs', 'inf', 'gov_ed', 'lit_r', 'acc_tech', 'acc_ele_r', 'acc_ele_u', 'ag_pct', 'arable_pct', 'forest_pct', 'low_land_pct', 'wtr_str', 'under_n', 'unemp', 'lf_rt_f', 'lf_rt_m', 'pop_tot', 'pov_hc', 'rugged', 'land_area', 'soil', 'desert', 'tropical', 'near_coast', 'gemstones', 'polity2', 'parcomp', 'corrupt', 'rule_law', 'con_last3']]\n",
    "df_3y.drop(df_3y[(df_3y['year'] > 2015)].index, inplace = True)\n",
    "\n",
    "df_5y=df.loc[:,{'ccode', 'year', 'region', 'con5_next', 'con_in', 'total_ev', 'net_gs', 'gdp_cap', 'exp_gs', 'inf', 'gov_ed', 'lit_r', 'acc_tech', 'acc_ele_r', 'acc_ele_u', 'ag_pct', 'arable_pct', 'forest_pct', 'low_land_pct', 'wtr_str', 'under_n', 'unemp', 'lf_rt_f', 'lf_rt_m', 'pop_tot', 'pov_hc', 'rugged', 'land_area', 'soil', 'desert', 'tropical', 'near_coast', 'gemstones', 'polity2', 'parcomp', 'corrupt', 'rule_law', 'con_last3'}]\n",
    "df_5y = df_5y[['ccode', 'year', 'region', 'con5_next', 'con_in', 'total_ev', 'net_gs', 'gdp_cap', 'exp_gs', 'inf', 'gov_ed', 'lit_r', 'acc_tech', 'acc_ele_r', 'acc_ele_u', 'ag_pct', 'arable_pct', 'forest_pct', 'low_land_pct', 'wtr_str', 'under_n', 'unemp', 'lf_rt_f', 'lf_rt_m', 'pop_tot', 'pov_hc', 'rugged', 'land_area', 'soil', 'desert', 'tropical', 'near_coast', 'gemstones', 'polity2', 'parcomp', 'corrupt', 'rule_law', 'con_last3']]\n",
    "df_5y.drop(df_5y[(df_5y['year'] > 2013)].index, inplace = True)\n",
    "\n",
    "df_10y=df.loc[:,{'ccode', 'year', 'region', 'con10_next', 'con_in', 'total_ev', 'net_gs', 'gdp_cap', 'exp_gs', 'inf', 'gov_ed', 'lit_r', 'acc_tech', 'acc_ele_r', 'acc_ele_u', 'ag_pct', 'arable_pct', 'forest_pct', 'low_land_pct', 'wtr_str', 'under_n', 'unemp', 'lf_rt_f', 'lf_rt_m', 'pop_tot', 'pov_hc', 'rugged', 'land_area', 'soil', 'desert', 'tropical', 'near_coast', 'gemstones', 'polity2', 'parcomp', 'corrupt', 'rule_law', 'con_last3'}]\n",
    "df_10y = df_10y[['ccode', 'year', 'region', 'con10_next', 'con_in', 'total_ev', 'net_gs', 'gdp_cap', 'exp_gs', 'inf', 'gov_ed', 'lit_r', 'acc_tech', 'acc_ele_r', 'acc_ele_u', 'ag_pct', 'arable_pct', 'forest_pct', 'low_land_pct', 'wtr_str', 'under_n', 'unemp', 'lf_rt_f', 'lf_rt_m', 'pop_tot', 'pov_hc', 'rugged', 'land_area', 'soil', 'desert', 'tropical', 'near_coast', 'gemstones', 'polity2', 'parcomp', 'corrupt', 'rule_law', 'con_last3']]\n",
    "df_10y.drop(df_10y[(df_10y['year'] > 2008)].index, inplace = True)\n",
    "\n",
    "#save all five offsets of the original specification to excel file\n",
    "target = '../data/1y_offset.xlsx'\n",
    "df_1y.to_excel(target)\n",
    "print('saved to '+target )\n",
    "\n",
    "target = '../data/2y_offset.xlsx'\n",
    "df_2y.to_excel(target)\n",
    "print('saved to '+target )\n",
    "\n",
    "target = '../data/3y_offset.xlsx'\n",
    "df_3y.to_excel(target)\n",
    "print('saved to '+target )\n",
    "\n",
    "target = '../data/5y_offset.xlsx'\n",
    "df_5y.to_excel(target)\n",
    "print('saved to '+target )\n",
    "\n",
    "target = '../data/10y_offset.xlsx'\n",
    "df_10y.to_excel(target)\n",
    "print('saved to '+target )"
   ]
  },
  {
   "cell_type": "markdown",
   "metadata": {},
   "source": [
    "# This section builds the alternative specification determined in the preimpute script."
   ]
  },
  {
   "cell_type": "code",
   "execution_count": 5,
   "metadata": {},
   "outputs": [
    {
     "name": "stdout",
     "output_type": "stream",
     "text": [
      "saved to ../data/a_spec.xlsx\n",
      "saved to ../data/1a_offset.xlsx\n",
      "saved to ../data/2a_offset.xlsx\n",
      "saved to ../data/3a_offset.xlsx\n",
      "saved to ../data/5a_offset.xlsx\n",
      "saved to ../data/10a_offset.xlsx\n"
     ]
    }
   ],
   "source": [
    "#Builds spec, 1,2,3,5,and 10 year offsets for the alternative specification we determined in the preimpute script.\n",
    "\n",
    "df_spec=df.loc[:,{'ccode', 'year', 'region', 'con1_next', 'con_in', 'total_ev', 'net_gs', 'gdp_cap', 'gdp_cap_gr', 'inf', 'out_sch_a','out_sch_c', 'gov_ed', 'acc_ele', 'ag_pct', 'arable_pct', 'forest_pct', 'min_rent', 'nat_gas_rent', 'oil_rent', 'pop_den', 'pop_urb', 'under_n', 'pop_grow', 'price_gas', 'phone_fixed', 'unemp', 'vul_emp_m', 'lf_rt_f', 'lf_rt_m', 'pop_tot', 'gini', 'mil_exp', 'af_pers', 'rugged', 'land_area', 'soil', 'desert', 'tropical', 'near_coast', 'gemstones', 'polity2', 'durable', 'parcomp', 'con_last3'}]\n",
    "df_spec = df_spec[['ccode', 'year', 'region', 'con1_next', 'con_in', 'total_ev', 'net_gs', 'gdp_cap', 'gdp_cap_gr', 'inf', 'out_sch_a','out_sch_c', 'gov_ed', 'acc_ele', 'ag_pct', 'arable_pct', 'forest_pct', 'min_rent', 'nat_gas_rent', 'oil_rent', 'pop_den', 'pop_urb', 'under_n', 'pop_grow', 'price_gas', 'phone_fixed', 'unemp', 'vul_emp_m', 'lf_rt_f', 'lf_rt_m', 'pop_tot', 'gini', 'mil_exp', 'af_pers', 'rugged', 'land_area', 'soil', 'desert', 'tropical', 'near_coast', 'gemstones', 'polity2', 'durable', 'parcomp', 'con_last3']]\n",
    "\n",
    "\n",
    "df_1a=df.loc[:,{'ccode', 'year', 'region', 'con1_next', 'con_in', 'total_ev', 'net_gs', 'gdp_cap', 'gdp_cap_gr', 'inf', 'out_sch_a','out_sch_c', 'gov_ed', 'acc_ele', 'ag_pct', 'arable_pct', 'forest_pct', 'min_rent', 'nat_gas_rent', 'oil_rent', 'pop_den', 'pop_urb', 'under_n', 'pop_grow', 'price_gas', 'phone_fixed', 'unemp', 'vul_emp_m', 'lf_rt_f', 'lf_rt_m', 'pop_tot', 'gini', 'mil_exp', 'af_pers', 'rugged', 'land_area', 'soil', 'desert', 'tropical', 'near_coast', 'gemstones', 'polity2', 'durable', 'parcomp', 'con_last3'}]\n",
    "df_1a = df_1a[['ccode', 'year', 'region', 'con1_next', 'con_in', 'total_ev', 'net_gs', 'gdp_cap', 'gdp_cap_gr', 'inf', 'out_sch_a','out_sch_c', 'gov_ed', 'acc_ele', 'ag_pct', 'arable_pct', 'forest_pct', 'min_rent', 'nat_gas_rent', 'oil_rent', 'pop_den', 'pop_urb', 'under_n', 'pop_grow', 'price_gas', 'phone_fixed', 'unemp', 'vul_emp_m', 'lf_rt_f', 'lf_rt_m', 'pop_tot', 'gini', 'mil_exp', 'af_pers', 'rugged', 'land_area', 'soil', 'desert', 'tropical', 'near_coast', 'gemstones', 'polity2', 'durable', 'parcomp', 'con_last3']]\n",
    "df_1a.drop(df_1a[(df_1a['year'] > 2017)].index, inplace = True)\n",
    "\n",
    "df_2a=df.loc[:,{'ccode', 'year', 'region', 'con2_next', 'con_in', 'total_ev', 'net_gs', 'gdp_cap', 'gdp_cap_gr', 'inf', 'out_sch_a','out_sch_c', 'gov_ed', 'acc_ele', 'ag_pct', 'arable_pct', 'forest_pct', 'min_rent', 'nat_gas_rent', 'oil_rent', 'pop_den', 'pop_urb', 'under_n', 'pop_grow', 'price_gas', 'phone_fixed', 'unemp', 'vul_emp_m', 'lf_rt_f', 'lf_rt_m', 'pop_tot', 'gini', 'mil_exp', 'af_pers', 'rugged', 'land_area', 'soil', 'desert', 'tropical', 'near_coast', 'gemstones', 'polity2', 'durable', 'parcomp', 'con_last3'}]\n",
    "df_2a = df_2a[['ccode', 'year', 'region', 'con2_next', 'con_in', 'total_ev', 'net_gs', 'gdp_cap', 'gdp_cap_gr', 'inf', 'out_sch_a','out_sch_c', 'gov_ed', 'acc_ele', 'ag_pct', 'arable_pct', 'forest_pct', 'min_rent', 'nat_gas_rent', 'oil_rent', 'pop_den', 'pop_urb', 'under_n', 'pop_grow', 'price_gas', 'phone_fixed', 'unemp', 'vul_emp_m', 'lf_rt_f', 'lf_rt_m', 'pop_tot', 'gini', 'mil_exp', 'af_pers', 'rugged', 'land_area', 'soil', 'desert', 'tropical', 'near_coast', 'gemstones', 'polity2', 'durable', 'parcomp', 'con_last3']]\n",
    "df_2a.drop(df_2a[(df_2a['year'] > 2016)].index, inplace = True)\n",
    "\n",
    "df_3a=df.loc[:,{'ccode', 'year', 'region', 'con3_next', 'con_in', 'total_ev', 'net_gs', 'gdp_cap', 'gdp_cap_gr', 'inf', 'out_sch_a','out_sch_c', 'gov_ed', 'acc_ele', 'ag_pct', 'arable_pct', 'forest_pct', 'min_rent', 'nat_gas_rent', 'oil_rent', 'pop_den', 'pop_urb', 'under_n', 'pop_grow', 'price_gas', 'phone_fixed', 'unemp', 'vul_emp_m', 'lf_rt_f', 'lf_rt_m', 'pop_tot', 'gini', 'mil_exp', 'af_pers', 'rugged', 'land_area', 'soil', 'desert', 'tropical', 'near_coast', 'gemstones', 'polity2', 'durable', 'parcomp', 'con_last3'}]\n",
    "df_3a = df_3a[['ccode', 'year', 'region', 'con3_next', 'con_in', 'total_ev', 'net_gs', 'gdp_cap', 'gdp_cap_gr', 'inf', 'out_sch_a','out_sch_c', 'gov_ed', 'acc_ele', 'ag_pct', 'arable_pct', 'forest_pct', 'min_rent', 'nat_gas_rent', 'oil_rent', 'pop_den', 'pop_urb', 'under_n', 'pop_grow', 'price_gas', 'phone_fixed', 'unemp', 'vul_emp_m', 'lf_rt_f', 'lf_rt_m', 'pop_tot', 'gini', 'mil_exp', 'af_pers', 'rugged', 'land_area', 'soil', 'desert', 'tropical', 'near_coast', 'gemstones', 'polity2', 'durable', 'parcomp', 'con_last3']]\n",
    "df_3a.drop(df_3a[(df_3a['year'] > 2015)].index, inplace = True)\n",
    "\n",
    "df_5a=df.loc[:,{'ccode', 'year', 'region', 'con5_next', 'con_in', 'total_ev', 'net_gs', 'gdp_cap', 'gdp_cap_gr', 'inf', 'out_sch_a','out_sch_c', 'gov_ed', 'acc_ele', 'ag_pct', 'arable_pct', 'forest_pct', 'min_rent', 'nat_gas_rent', 'oil_rent', 'pop_den', 'pop_urb', 'under_n', 'pop_grow', 'price_gas', 'phone_fixed', 'unemp', 'vul_emp_m', 'lf_rt_f', 'lf_rt_m', 'pop_tot', 'gini', 'mil_exp', 'af_pers', 'rugged', 'land_area', 'soil', 'desert', 'tropical', 'near_coast', 'gemstones', 'polity2', 'durable', 'parcomp', 'con_last3'}]\n",
    "df_5a = df_5a[['ccode', 'year', 'region', 'con5_next', 'con_in', 'total_ev', 'net_gs', 'gdp_cap', 'gdp_cap_gr', 'inf', 'out_sch_a','out_sch_c', 'gov_ed', 'acc_ele', 'ag_pct', 'arable_pct', 'forest_pct', 'min_rent', 'nat_gas_rent', 'oil_rent', 'pop_den', 'pop_urb', 'under_n', 'pop_grow', 'price_gas', 'phone_fixed', 'unemp', 'vul_emp_m', 'lf_rt_f', 'lf_rt_m', 'pop_tot', 'gini', 'mil_exp', 'af_pers', 'rugged', 'land_area', 'soil', 'desert', 'tropical', 'near_coast', 'gemstones', 'polity2', 'durable', 'parcomp', 'con_last3']]\n",
    "df_5a.drop(df_5a[(df_5a['year'] > 2013)].index, inplace = True)\n",
    "\n",
    "df_10a=df.loc[:,{'ccode', 'year', 'region', 'con10_next', 'con_in', 'total_ev', 'net_gs', 'gdp_cap', 'gdp_cap_gr', 'inf', 'out_sch_a','out_sch_c', 'gov_ed', 'acc_ele', 'ag_pct', 'arable_pct', 'forest_pct', 'min_rent', 'nat_gas_rent', 'oil_rent', 'pop_den', 'pop_urb', 'under_n', 'pop_grow', 'price_gas', 'phone_fixed', 'unemp', 'vul_emp_m', 'lf_rt_f', 'lf_rt_m', 'pop_tot', 'gini', 'mil_exp', 'af_pers', 'rugged', 'land_area', 'soil', 'desert', 'tropical', 'near_coast', 'gemstones', 'polity2', 'durable', 'parcomp', 'con_last3'}]\n",
    "df_10a = df_10a[['ccode', 'year', 'region', 'con10_next', 'con_in', 'total_ev', 'net_gs', 'gdp_cap', 'gdp_cap_gr', 'inf', 'out_sch_a','out_sch_c', 'gov_ed', 'acc_ele', 'ag_pct', 'arable_pct', 'forest_pct', 'min_rent', 'nat_gas_rent', 'oil_rent', 'pop_den', 'pop_urb', 'under_n', 'pop_grow', 'price_gas', 'phone_fixed', 'unemp', 'vul_emp_m', 'lf_rt_f', 'lf_rt_m', 'pop_tot', 'gini', 'mil_exp', 'af_pers', 'rugged', 'land_area', 'soil', 'desert', 'tropical', 'near_coast', 'gemstones', 'polity2', 'durable', 'parcomp', 'con_last3']]\n",
    "df_10a.drop(df_10a[(df_10a['year'] > 2008)].index, inplace = True)\n",
    "\n",
    "\n",
    "#save to excel file\n",
    "#save to excel file\n",
    "target = '../data/a_spec.xlsx'\n",
    "df_spec.to_excel(target)\n",
    "print('saved to '+target )\n",
    "\n",
    "target = '../data/1a_offset.xlsx'\n",
    "df_1a.to_excel(target)\n",
    "print('saved to '+target )\n",
    "\n",
    "target = '../data/2a_offset.xlsx'\n",
    "df_2a.to_excel(target)\n",
    "print('saved to '+target )\n",
    "\n",
    "target = '../data/3a_offset.xlsx'\n",
    "df_3a.to_excel(target)\n",
    "print('saved to '+target )\n",
    "\n",
    "target = '../data/5a_offset.xlsx'\n",
    "df_5a.to_excel(target)\n",
    "print('saved to '+target )\n",
    "\n",
    "target = '../data/10a_offset.xlsx'\n",
    "df_10a.to_excel(target)\n",
    "print('saved to '+target )"
   ]
  },
  {
   "cell_type": "markdown",
   "metadata": {},
   "source": [
    "# This section alters the alternative specification to seperate each of the three types of conflict\n",
    "### Type 1 is state based\n",
    "### Type 2 is non-state\n",
    "### Type 3 is one-sided"
   ]
  },
  {
   "cell_type": "code",
   "execution_count": 6,
   "metadata": {},
   "outputs": [
    {
     "name": "stdout",
     "output_type": "stream",
     "text": [
      "saved to ../data/con_1.xlsx\n",
      "saved to ../data/con_2.xlsx\n",
      "saved to ../data/con_3.xlsx\n"
     ]
    }
   ],
   "source": [
    "#Create one year offsets for the alternative specification by type of conflict\n",
    "df_1c=df.loc[:,{'ccode', 'year', 'region', 'con1_1_next', 'con_in', 'total_ev', 'net_gs', 'gdp_cap', 'gdp_cap_gr', 'inf', 'out_sch_a','out_sch_c', 'gov_ed', 'acc_ele', 'ag_pct', 'arable_pct', 'forest_pct', 'min_rent', 'nat_gas_rent', 'oil_rent', 'pop_den', 'pop_urb', 'under_n', 'pop_grow', 'price_gas', 'phone_fixed', 'unemp', 'vul_emp_m', 'lf_rt_f', 'lf_rt_m', 'pop_tot', 'gini', 'mil_exp', 'af_pers', 'rugged', 'land_area', 'soil', 'desert', 'tropical', 'near_coast', 'gemstones', 'polity2', 'durable', 'parcomp', 'con_last3'}]\n",
    "df_1c = df_1c[['ccode', 'year', 'region', 'con1_1_next', 'con_in', 'total_ev', 'net_gs', 'gdp_cap', 'gdp_cap_gr', 'inf', 'out_sch_a','out_sch_c', 'gov_ed', 'acc_ele', 'ag_pct', 'arable_pct', 'forest_pct', 'min_rent', 'nat_gas_rent', 'oil_rent', 'pop_den', 'pop_urb', 'under_n', 'pop_grow', 'price_gas', 'phone_fixed', 'unemp', 'vul_emp_m', 'lf_rt_f', 'lf_rt_m', 'pop_tot', 'gini', 'mil_exp', 'af_pers', 'rugged', 'land_area', 'soil', 'desert', 'tropical', 'near_coast', 'gemstones', 'polity2', 'durable', 'parcomp', 'con_last3']]\n",
    "df_1c.drop(df_1c[(df_1c['year'] > 2017)].index, inplace = True)\n",
    "\n",
    "df_2c=df.loc[:,{'ccode', 'year', 'region', 'con1_2_next', 'con_in', 'total_ev', 'net_gs', 'gdp_cap', 'gdp_cap_gr', 'inf', 'out_sch_a','out_sch_c', 'gov_ed', 'acc_ele', 'ag_pct', 'arable_pct', 'forest_pct', 'min_rent', 'nat_gas_rent', 'oil_rent', 'pop_den', 'pop_urb', 'under_n', 'pop_grow', 'price_gas', 'phone_fixed', 'unemp', 'vul_emp_m', 'lf_rt_f', 'lf_rt_m', 'pop_tot', 'gini', 'mil_exp', 'af_pers', 'rugged', 'land_area', 'soil', 'desert', 'tropical', 'near_coast', 'gemstones', 'polity2', 'durable', 'parcomp', 'con_last3'}]\n",
    "df_2c = df_2c[['ccode', 'year', 'region', 'con1_2_next', 'con_in', 'total_ev', 'net_gs', 'gdp_cap', 'gdp_cap_gr', 'inf', 'out_sch_a','out_sch_c', 'gov_ed', 'acc_ele', 'ag_pct', 'arable_pct', 'forest_pct', 'min_rent', 'nat_gas_rent', 'oil_rent', 'pop_den', 'pop_urb', 'under_n', 'pop_grow', 'price_gas', 'phone_fixed', 'unemp', 'vul_emp_m', 'lf_rt_f', 'lf_rt_m', 'pop_tot', 'gini', 'mil_exp', 'af_pers', 'rugged', 'land_area', 'soil', 'desert', 'tropical', 'near_coast', 'gemstones', 'polity2', 'durable', 'parcomp', 'con_last3']]\n",
    "df_2c.drop(df_2c[(df_2c['year'] > 2017)].index, inplace = True)\n",
    "\n",
    "df_3c=df.loc[:,{'ccode', 'year', 'region', 'con1_3_next',  'con_in', 'total_ev', 'net_gs', 'gdp_cap', 'gdp_cap_gr', 'inf', 'out_sch_a','out_sch_c', 'gov_ed', 'acc_ele', 'ag_pct', 'arable_pct', 'forest_pct', 'min_rent', 'nat_gas_rent', 'oil_rent', 'pop_den', 'pop_urb', 'under_n', 'pop_grow', 'price_gas', 'phone_fixed', 'unemp', 'vul_emp_m', 'lf_rt_f', 'lf_rt_m', 'pop_tot', 'gini', 'mil_exp', 'af_pers', 'rugged', 'land_area', 'soil', 'desert', 'tropical', 'near_coast', 'gemstones', 'polity2', 'durable', 'parcomp', 'con_last3'}]\n",
    "df_3c = df_3c[['ccode', 'year', 'region', 'con1_3_next',  'con_in', 'total_ev', 'net_gs', 'gdp_cap', 'gdp_cap_gr', 'inf', 'out_sch_a','out_sch_c', 'gov_ed', 'acc_ele', 'ag_pct', 'arable_pct', 'forest_pct', 'min_rent', 'nat_gas_rent', 'oil_rent', 'pop_den', 'pop_urb', 'under_n', 'pop_grow', 'price_gas', 'phone_fixed', 'unemp', 'vul_emp_m', 'lf_rt_f', 'lf_rt_m', 'pop_tot', 'gini', 'mil_exp', 'af_pers', 'rugged', 'land_area', 'soil', 'desert', 'tropical', 'near_coast', 'gemstones', 'polity2', 'durable', 'parcomp', 'con_last3']]\n",
    "df_3c.drop(df_3c[(df_3c['year'] > 2017)].index, inplace = True)\n",
    "\n",
    "target = '../data/con_1.xlsx'\n",
    "df_1c.to_excel(target)\n",
    "print('saved to '+target )\n",
    "\n",
    "target = '../data/con_2.xlsx'\n",
    "df_2c.to_excel(target)\n",
    "print('saved to '+target )\n",
    "\n",
    "target = '../data/con_3.xlsx'\n",
    "df_3c.to_excel(target)\n",
    "print('saved to '+target )"
   ]
  },
  {
   "cell_type": "markdown",
   "metadata": {},
   "source": [
    "# This section builds an alternative specifiction with only 2018 values in order to predict 2019 conflict at the end."
   ]
  },
  {
   "cell_type": "code",
   "execution_count": 7,
   "metadata": {},
   "outputs": [
    {
     "name": "stdout",
     "output_type": "stream",
     "text": [
      "saved to ../data/pred_2018.xlsx\n"
     ]
    }
   ],
   "source": [
    "#Building a dataframe of 2018 values for the alternative specification for 2019 predictions.\n",
    "\n",
    "df_pred=df.loc[:,{'ccode','year', 'region', 'con1_1_next', 'con_in', 'total_ev', 'net_gs', 'gdp_cap', 'gdp_cap_gr', 'inf', 'out_sch_a','out_sch_c', 'gov_ed', 'acc_ele', 'ag_pct', 'arable_pct', 'forest_pct', 'min_rent', 'nat_gas_rent', 'oil_rent', 'pop_den', 'pop_urb', 'under_n', 'pop_grow', 'price_gas', 'phone_fixed', 'unemp', 'vul_emp_m', 'lf_rt_f', 'lf_rt_m', 'pop_tot', 'gini', 'mil_exp', 'af_pers', 'rugged', 'land_area', 'soil', 'desert', 'tropical', 'near_coast', 'gemstones', 'polity2', 'durable', 'parcomp', 'con_last3'}]\n",
    "df_pred = df_pred[['ccode','year','region', 'con1_1_next', 'con_in', 'total_ev', 'net_gs', 'gdp_cap', 'gdp_cap_gr', 'inf', 'out_sch_a','out_sch_c', 'gov_ed', 'acc_ele', 'ag_pct', 'arable_pct', 'forest_pct', 'min_rent', 'nat_gas_rent', 'oil_rent', 'pop_den', 'pop_urb', 'under_n', 'pop_grow', 'price_gas', 'phone_fixed', 'unemp', 'vul_emp_m', 'lf_rt_f', 'lf_rt_m', 'pop_tot', 'gini', 'mil_exp', 'af_pers', 'rugged', 'land_area', 'soil', 'desert', 'tropical', 'near_coast', 'gemstones', 'polity2', 'durable', 'parcomp', 'con_last3']]\n",
    "df_pred.drop(df_pred[(df_pred['year'] < 2018)].index, inplace = True)\n",
    "\n",
    "target = '../data/pred_2018.xlsx'\n",
    "df_pred.to_excel(target)\n",
    "print('saved to '+target )"
   ]
  },
  {
   "cell_type": "code",
   "execution_count": 8,
   "metadata": {},
   "outputs": [
    {
     "data": {
      "text/plain": [
       "['ccode',\n",
       " 'year',\n",
       " 'region',\n",
       " 'con1_next',\n",
       " 'con_in',\n",
       " 'total_ev',\n",
       " 'net_gs',\n",
       " 'gdp_cap',\n",
       " 'exp_gs',\n",
       " 'inf',\n",
       " 'gov_ed',\n",
       " 'lit_r',\n",
       " 'acc_tech',\n",
       " 'acc_ele_r',\n",
       " 'acc_ele_u',\n",
       " 'ag_pct',\n",
       " 'arable_pct',\n",
       " 'forest_pct',\n",
       " 'low_land_pct',\n",
       " 'wtr_str',\n",
       " 'under_n',\n",
       " 'unemp',\n",
       " 'lf_rt_f',\n",
       " 'lf_rt_m',\n",
       " 'pop_tot',\n",
       " 'pov_hc',\n",
       " 'rugged',\n",
       " 'land_area',\n",
       " 'soil',\n",
       " 'desert',\n",
       " 'tropical',\n",
       " 'near_coast',\n",
       " 'gemstones',\n",
       " 'polity2',\n",
       " 'parcomp',\n",
       " 'corrupt',\n",
       " 'rule_law',\n",
       " 'con_last3']"
      ]
     },
     "execution_count": 8,
     "metadata": {},
     "output_type": "execute_result"
    }
   ],
   "source": [
    "list(df_1y)"
   ]
  },
  {
   "cell_type": "code",
   "execution_count": null,
   "metadata": {},
   "outputs": [],
   "source": []
  }
 ],
 "metadata": {
  "kernelspec": {
   "display_name": "Python 3",
   "language": "python",
   "name": "python3"
  },
  "language_info": {
   "codemirror_mode": {
    "name": "ipython",
    "version": 3
   },
   "file_extension": ".py",
   "mimetype": "text/x-python",
   "name": "python",
   "nbconvert_exporter": "python",
   "pygments_lexer": "ipython3",
   "version": "3.7.1"
  }
 },
 "nbformat": 4,
 "nbformat_minor": 2
}
