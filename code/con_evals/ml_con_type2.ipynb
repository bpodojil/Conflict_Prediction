{
 "cells": [
  {
   "cell_type": "code",
   "execution_count": 1,
   "metadata": {},
   "outputs": [
    {
     "name": "stderr",
     "output_type": "stream",
     "text": [
      "C:\\Users\\Brandon\\Anaconda3\\lib\\site-packages\\sklearn\\utils\\deprecation.py:144: FutureWarning: The sklearn.neighbors.base module is  deprecated in version 0.22 and will be removed in version 0.24. The corresponding classes / functions should instead be imported from sklearn.neighbors. Anything that cannot be imported from sklearn.neighbors is now part of the private API.\n",
      "  warnings.warn(message, FutureWarning)\n",
      "C:\\Users\\Brandon\\Anaconda3\\lib\\site-packages\\sklearn\\utils\\deprecation.py:144: FutureWarning: The sklearn.ensemble.bagging module is  deprecated in version 0.22 and will be removed in version 0.24. The corresponding classes / functions should instead be imported from sklearn.ensemble. Anything that cannot be imported from sklearn.ensemble is now part of the private API.\n",
      "  warnings.warn(message, FutureWarning)\n",
      "C:\\Users\\Brandon\\Anaconda3\\lib\\site-packages\\sklearn\\utils\\deprecation.py:144: FutureWarning: The sklearn.ensemble.base module is  deprecated in version 0.22 and will be removed in version 0.24. The corresponding classes / functions should instead be imported from sklearn.ensemble. Anything that cannot be imported from sklearn.ensemble is now part of the private API.\n",
      "  warnings.warn(message, FutureWarning)\n",
      "C:\\Users\\Brandon\\Anaconda3\\lib\\site-packages\\sklearn\\utils\\deprecation.py:144: FutureWarning: The sklearn.ensemble.forest module is  deprecated in version 0.22 and will be removed in version 0.24. The corresponding classes / functions should instead be imported from sklearn.ensemble. Anything that cannot be imported from sklearn.ensemble is now part of the private API.\n",
      "  warnings.warn(message, FutureWarning)\n",
      "C:\\Users\\Brandon\\Anaconda3\\lib\\site-packages\\sklearn\\utils\\deprecation.py:144: FutureWarning: The sklearn.utils.testing module is  deprecated in version 0.22 and will be removed in version 0.24. The corresponding classes / functions should instead be imported from sklearn.utils. Anything that cannot be imported from sklearn.utils is now part of the private API.\n",
      "  warnings.warn(message, FutureWarning)\n",
      "C:\\Users\\Brandon\\Anaconda3\\lib\\site-packages\\sklearn\\utils\\deprecation.py:144: FutureWarning: The sklearn.metrics.classification module is  deprecated in version 0.22 and will be removed in version 0.24. The corresponding classes / functions should instead be imported from sklearn.metrics. Anything that cannot be imported from sklearn.metrics is now part of the private API.\n",
      "  warnings.warn(message, FutureWarning)\n"
     ]
    }
   ],
   "source": [
    "import os\n",
    "import pandas as pd\n",
    "import numpy as np\n",
    "import scipy\n",
    "import matplotlib.pyplot as plt\n",
    "import sklearn\n",
    "from imblearn.over_sampling import SMOTE\n",
    "from sklearn.preprocessing import StandardScaler\n",
    "from sklearn.decomposition import PCA\n",
    "from sklearn.tree import DecisionTreeRegressor\n",
    "from sklearn.model_selection import train_test_split\n",
    "from sklearn.model_selection import cross_val_score\n",
    "from sklearn.model_selection import StratifiedKFold\n",
    "from sklearn.metrics import classification_report\n",
    "from sklearn.metrics import confusion_matrix\n",
    "from sklearn.metrics import accuracy_score\n",
    "from sklearn.linear_model import LogisticRegression\n",
    "from sklearn.tree import DecisionTreeClassifier\n",
    "from sklearn.neighbors import KNeighborsClassifier\n",
    "from sklearn.discriminant_analysis import LinearDiscriminantAnalysis\n",
    "from sklearn.naive_bayes import GaussianNB\n",
    "from sklearn.svm import SVC\n",
    "from sklearn.metrics import plot_confusion_matrix\n",
    "from sklearn.ensemble import RandomForestClassifier\n",
    "import xgboost as xgb\n",
    "from sklearn.metrics import recall_score\n",
    "from sklearn.metrics import f1_score"
   ]
  },
  {
   "cell_type": "code",
   "execution_count": 2,
   "metadata": {},
   "outputs": [],
   "source": [
    "#Set Psudeorandom Seed\n",
    "seed = 42"
   ]
  },
  {
   "cell_type": "code",
   "execution_count": 3,
   "metadata": {},
   "outputs": [
    {
     "name": "stdout",
     "output_type": "stream",
     "text": [
      "file uploaded\n"
     ]
    }
   ],
   "source": [
    "#Uploading the first dataset\n",
    "file = 'C:/Users/Brandon/Documents/thesis/data/con_2.xlsx'\n",
    "df = pd.read_excel (file,index_col=0,na_values=['..'])\n",
    "print('file uploaded')"
   ]
  },
  {
   "cell_type": "code",
   "execution_count": 4,
   "metadata": {},
   "outputs": [
    {
     "name": "stdout",
     "output_type": "stream",
     "text": [
      "Train/Test Split Complete\n"
     ]
    }
   ],
   "source": [
    "#Create testing and training sets\n",
    "array = df.values\n",
    "\n",
    "#Create X array\n",
    "X= array[:,4:45]\n",
    "\n",
    "# Standardizing the features\n",
    "X = StandardScaler().fit_transform(X)\n",
    "\n",
    "#Create Y array\n",
    "Y= array[:,3]\n",
    "Y=Y.astype('int')\n",
    "\n",
    "#Training/Test Split\n",
    "X_train, X_validation, Y_train, Y_validation = train_test_split(X,Y,test_size=0.2,random_state=1 )\n",
    "print('Train/Test Split Complete')"
   ]
  },
  {
   "cell_type": "code",
   "execution_count": 5,
   "metadata": {},
   "outputs": [],
   "source": [
    "recall = []\n",
    "f1 = []"
   ]
  },
  {
   "cell_type": "code",
   "execution_count": 6,
   "metadata": {},
   "outputs": [
    {
     "name": "stdout",
     "output_type": "stream",
     "text": [
      "oversampling complete\n"
     ]
    },
    {
     "name": "stderr",
     "output_type": "stream",
     "text": [
      "C:\\Users\\Brandon\\Anaconda3\\lib\\site-packages\\sklearn\\utils\\deprecation.py:87: FutureWarning: Function safe_indexing is deprecated; safe_indexing is deprecated in version 0.22 and will be removed in version 0.24.\n",
      "  warnings.warn(msg, category=FutureWarning)\n"
     ]
    }
   ],
   "source": [
    "#Impliment SMOTE\n",
    "sm = SMOTE(random_state = 2) \n",
    "X_train_smote, Y_train_smote = sm.fit_sample(X_train, Y_train)\n",
    "\n",
    "print('oversampling complete')"
   ]
  },
  {
   "cell_type": "code",
   "execution_count": 7,
   "metadata": {},
   "outputs": [
    {
     "name": "stdout",
     "output_type": "stream",
     "text": [
      "0.8681672025723473\n",
      "[[964 150]\n",
      " [ 14 116]]\n",
      "              precision    recall  f1-score   support\n",
      "\n",
      "           0       0.99      0.87      0.92      1114\n",
      "           1       0.44      0.89      0.59       130\n",
      "\n",
      "    accuracy                           0.87      1244\n",
      "   macro avg       0.71      0.88      0.75      1244\n",
      "weighted avg       0.93      0.87      0.89      1244\n",
      "\n"
     ]
    }
   ],
   "source": [
    "# Make predictions on validation dataset\n",
    "model = LogisticRegression(solver='liblinear',multi_class='ovr')\n",
    "model.fit(X_train_smote, Y_train_smote)\n",
    "predictions = model.predict(X_validation)\n",
    "\n",
    "# Evaluate predictions\n",
    "print(accuracy_score(Y_validation, predictions))\n",
    "print(confusion_matrix(Y_validation, predictions))\n",
    "print(classification_report(Y_validation, predictions))\n",
    "recall.append(recall_score(Y_validation, predictions))\n",
    "f1.append(f1_score(Y_validation, predictions))\n"
   ]
  },
  {
   "cell_type": "code",
   "execution_count": 8,
   "metadata": {},
   "outputs": [
    {
     "name": "stdout",
     "output_type": "stream",
     "text": [
      "0.9236334405144695\n",
      "[[1070   44]\n",
      " [  51   79]]\n",
      "              precision    recall  f1-score   support\n",
      "\n",
      "           0       0.95      0.96      0.96      1114\n",
      "           1       0.64      0.61      0.62       130\n",
      "\n",
      "    accuracy                           0.92      1244\n",
      "   macro avg       0.80      0.78      0.79      1244\n",
      "weighted avg       0.92      0.92      0.92      1244\n",
      "\n"
     ]
    }
   ],
   "source": [
    "# Make predictions on validation dataset\n",
    "model = LinearDiscriminantAnalysis()\n",
    "model.fit(X_train, Y_train)\n",
    "predictions = model.predict(X_validation)\n",
    "\n",
    "# Evaluate predictions\n",
    "print(accuracy_score(Y_validation, predictions))\n",
    "print(confusion_matrix(Y_validation, predictions))\n",
    "print(classification_report(Y_validation, predictions))\n",
    "recall.append(recall_score(Y_validation, predictions))\n",
    "f1.append(f1_score(Y_validation, predictions))"
   ]
  },
  {
   "cell_type": "code",
   "execution_count": 9,
   "metadata": {},
   "outputs": [
    {
     "name": "stdout",
     "output_type": "stream",
     "text": [
      "0.952572347266881\n",
      "[[1101   13]\n",
      " [  46   84]]\n",
      "              precision    recall  f1-score   support\n",
      "\n",
      "           0       0.96      0.99      0.97      1114\n",
      "           1       0.87      0.65      0.74       130\n",
      "\n",
      "    accuracy                           0.95      1244\n",
      "   macro avg       0.91      0.82      0.86      1244\n",
      "weighted avg       0.95      0.95      0.95      1244\n",
      "\n"
     ]
    }
   ],
   "source": [
    "# Make predictions on validation dataset\n",
    "model = KNeighborsClassifier()\n",
    "model.fit(X_train, Y_train)\n",
    "predictions = model.predict(X_validation)\n",
    "\n",
    "# Evaluate predictions\n",
    "print(accuracy_score(Y_validation, predictions))\n",
    "print(confusion_matrix(Y_validation, predictions))\n",
    "print(classification_report(Y_validation, predictions))\n",
    "recall.append(recall_score(Y_validation, predictions))\n",
    "f1.append(f1_score(Y_validation, predictions))"
   ]
  },
  {
   "cell_type": "code",
   "execution_count": 10,
   "metadata": {},
   "outputs": [
    {
     "name": "stdout",
     "output_type": "stream",
     "text": [
      "0.9308681672025724\n",
      "[[1072   42]\n",
      " [  44   86]]\n",
      "              precision    recall  f1-score   support\n",
      "\n",
      "           0       0.96      0.96      0.96      1114\n",
      "           1       0.67      0.66      0.67       130\n",
      "\n",
      "    accuracy                           0.93      1244\n",
      "   macro avg       0.82      0.81      0.81      1244\n",
      "weighted avg       0.93      0.93      0.93      1244\n",
      "\n"
     ]
    }
   ],
   "source": [
    "# Make predictions on validation dataset\n",
    "model = DecisionTreeClassifier()\n",
    "model.fit(X_train, Y_train)\n",
    "predictions = model.predict(X_validation)\n",
    "\n",
    "# Evaluate predictions\n",
    "print(accuracy_score(Y_validation, predictions))\n",
    "print(confusion_matrix(Y_validation, predictions))\n",
    "print(classification_report(Y_validation, predictions))\n",
    "recall.append(recall_score(Y_validation, predictions))\n",
    "f1.append(f1_score(Y_validation, predictions))"
   ]
  },
  {
   "cell_type": "code",
   "execution_count": 11,
   "metadata": {},
   "outputs": [
    {
     "name": "stdout",
     "output_type": "stream",
     "text": [
      "0.9011254019292605\n",
      "[[1114    0]\n",
      " [ 123    7]]\n",
      "              precision    recall  f1-score   support\n",
      "\n",
      "           0       0.90      1.00      0.95      1114\n",
      "           1       1.00      0.05      0.10       130\n",
      "\n",
      "    accuracy                           0.90      1244\n",
      "   macro avg       0.95      0.53      0.52      1244\n",
      "weighted avg       0.91      0.90      0.86      1244\n",
      "\n"
     ]
    }
   ],
   "source": [
    "# Make predictions on validation dataset\n",
    "model = RandomForestClassifier(n_estimators=500, max_depth=2, random_state=seed)\n",
    "model.fit(X_train, Y_train)\n",
    "predictions = model.predict(X_validation)\n",
    "\n",
    "# Evaluate predictions\n",
    "print(accuracy_score(Y_validation, predictions))\n",
    "print(confusion_matrix(Y_validation, predictions))\n",
    "print(classification_report(Y_validation, predictions))\n",
    "recall.append(recall_score(Y_validation, predictions))\n",
    "f1.append(f1_score(Y_validation, predictions))"
   ]
  },
  {
   "cell_type": "code",
   "execution_count": 12,
   "metadata": {},
   "outputs": [
    {
     "name": "stdout",
     "output_type": "stream",
     "text": [
      "0.9421221864951769\n",
      "[[1103   11]\n",
      " [  61   69]]\n",
      "              precision    recall  f1-score   support\n",
      "\n",
      "           0       0.95      0.99      0.97      1114\n",
      "           1       0.86      0.53      0.66       130\n",
      "\n",
      "    accuracy                           0.94      1244\n",
      "   macro avg       0.91      0.76      0.81      1244\n",
      "weighted avg       0.94      0.94      0.94      1244\n",
      "\n"
     ]
    }
   ],
   "source": [
    "# Make predictions on validation dataset\n",
    "model = xgb.XGBRFClassifier(random_state=seed)\n",
    "model.fit(X_train, Y_train)\n",
    "predictions = model.predict(X_validation)\n",
    "\n",
    "# Evaluate predictions\n",
    "print(accuracy_score(Y_validation, predictions))\n",
    "print(confusion_matrix(Y_validation, predictions))\n",
    "print(classification_report(Y_validation, predictions))\n",
    "recall.append(recall_score(Y_validation, predictions))\n",
    "f1.append(f1_score(Y_validation, predictions))"
   ]
  },
  {
   "cell_type": "code",
   "execution_count": 13,
   "metadata": {},
   "outputs": [
    {
     "name": "stdout",
     "output_type": "stream",
     "text": [
      "0.887459807073955\n",
      "[[1012  102]\n",
      " [  38   92]]\n",
      "              precision    recall  f1-score   support\n",
      "\n",
      "           0       0.96      0.91      0.94      1114\n",
      "           1       0.47      0.71      0.57       130\n",
      "\n",
      "    accuracy                           0.89      1244\n",
      "   macro avg       0.72      0.81      0.75      1244\n",
      "weighted avg       0.91      0.89      0.90      1244\n",
      "\n"
     ]
    }
   ],
   "source": [
    "# Make predictions on validation dataset\n",
    "model = GaussianNB()\n",
    "model.fit(X_train, Y_train)\n",
    "predictions = model.predict(X_validation)\n",
    "\n",
    "# Evaluate predictions\n",
    "print(accuracy_score(Y_validation, predictions))\n",
    "print(confusion_matrix(Y_validation, predictions))\n",
    "print(classification_report(Y_validation, predictions))\n",
    "recall.append(recall_score(Y_validation, predictions))\n",
    "f1.append(f1_score(Y_validation, predictions))"
   ]
  },
  {
   "cell_type": "code",
   "execution_count": 14,
   "metadata": {},
   "outputs": [
    {
     "name": "stdout",
     "output_type": "stream",
     "text": [
      "0.9477491961414791\n",
      "[[1104   10]\n",
      " [  55   75]]\n",
      "              precision    recall  f1-score   support\n",
      "\n",
      "           0       0.95      0.99      0.97      1114\n",
      "           1       0.88      0.58      0.70       130\n",
      "\n",
      "    accuracy                           0.95      1244\n",
      "   macro avg       0.92      0.78      0.83      1244\n",
      "weighted avg       0.95      0.95      0.94      1244\n",
      "\n"
     ]
    }
   ],
   "source": [
    "# Make predictions on validation dataset\n",
    "model = SVC(gamma='auto')\n",
    "model.fit(X_train, Y_train)\n",
    "predictions = model.predict(X_validation)\n",
    "\n",
    "# Evaluate predictions\n",
    "print(accuracy_score(Y_validation, predictions))\n",
    "print(confusion_matrix(Y_validation, predictions))\n",
    "print(classification_report(Y_validation, predictions))\n",
    "recall.append(recall_score(Y_validation, predictions))\n",
    "f1.append(f1_score(Y_validation, predictions))"
   ]
  },
  {
   "cell_type": "code",
   "execution_count": 15,
   "metadata": {},
   "outputs": [
    {
     "data": {
      "image/png": "[encoded data removed]",
      "text/plain": [
       "<Figure size 432x288 with 1 Axes>"
      ]
     },
     "metadata": {
      "needs_background": "light"
     },
     "output_type": "display_data"
    }
   ],
   "source": [
    "pca = PCA().fit(X_train_smote)\n",
    "plt.plot(np.cumsum(pca.explained_variance_ratio_))\n",
    "plt.xlabel('number of components')\n",
    "plt.ylabel('cumulative explained variance');"
   ]
  },
  {
   "cell_type": "code",
   "execution_count": 16,
   "metadata": {},
   "outputs": [],
   "source": [
    "pca = PCA(.8)\n",
    "principalComponents = pca.fit_transform(X_train_smote)"
   ]
  },
  {
   "cell_type": "code",
   "execution_count": 17,
   "metadata": {},
   "outputs": [
    {
     "data": {
      "text/plain": [
       "15"
      ]
     },
     "execution_count": 17,
     "metadata": {},
     "output_type": "execute_result"
    }
   ],
   "source": [
    "pca.n_components_"
   ]
  },
  {
   "cell_type": "code",
   "execution_count": 18,
   "metadata": {},
   "outputs": [
    {
     "data": {
      "text/plain": [
       "array([0.16238404, 0.10345847, 0.08146069, 0.07831484, 0.06649943,\n",
       "       0.0507053 , 0.04385816, 0.04169643, 0.03518225, 0.03123971,\n",
       "       0.02972402, 0.02712395, 0.02436446, 0.02216784, 0.01956704])"
      ]
     },
     "execution_count": 18,
     "metadata": {},
     "output_type": "execute_result"
    }
   ],
   "source": [
    "pca.explained_variance_ratio_"
   ]
  },
  {
   "cell_type": "code",
   "execution_count": 19,
   "metadata": {},
   "outputs": [
    {
     "data": {
      "text/plain": [
       "array([0.16238404, 0.26584251, 0.3473032 , 0.42561804, 0.49211747,\n",
       "       0.54282276, 0.58668093, 0.62837736, 0.66355961, 0.69479932,\n",
       "       0.72452335, 0.7516473 , 0.77601176, 0.7981796 , 0.81774664])"
      ]
     },
     "execution_count": 19,
     "metadata": {},
     "output_type": "execute_result"
    }
   ],
   "source": [
    "np.cumsum(pca.explained_variance_ratio_)"
   ]
  },
  {
   "cell_type": "code",
   "execution_count": 20,
   "metadata": {},
   "outputs": [],
   "source": [
    "X_train_pca = pca.transform(X_train_smote)\n",
    "X_validation_pca = pca.transform(X_validation)"
   ]
  },
  {
   "cell_type": "code",
   "execution_count": 21,
   "metadata": {},
   "outputs": [
    {
     "name": "stdout",
     "output_type": "stream",
     "text": [
      "0.8641479099678456\n",
      "[[961 153]\n",
      " [ 16 114]]\n",
      "              precision    recall  f1-score   support\n",
      "\n",
      "           0       0.98      0.86      0.92      1114\n",
      "           1       0.43      0.88      0.57       130\n",
      "\n",
      "    accuracy                           0.86      1244\n",
      "   macro avg       0.71      0.87      0.75      1244\n",
      "weighted avg       0.93      0.86      0.88      1244\n",
      "\n"
     ]
    }
   ],
   "source": [
    "# Make predictions on validation dataset\n",
    "model = LogisticRegression(solver='liblinear',multi_class='ovr')\n",
    "model.fit(X_train_pca, Y_train_smote)\n",
    "predictions = model.predict(X_validation_pca)\n",
    "\n",
    "# Evaluate predictions\n",
    "print(accuracy_score(Y_validation, predictions))\n",
    "print(confusion_matrix(Y_validation, predictions))\n",
    "print(classification_report(Y_validation, predictions))\n",
    "recall.append(recall_score(Y_validation, predictions))\n",
    "f1.append(f1_score(Y_validation, predictions))"
   ]
  },
  {
   "cell_type": "code",
   "execution_count": 22,
   "metadata": {},
   "outputs": [
    {
     "name": "stdout",
     "output_type": "stream",
     "text": [
      "0.8561093247588425\n",
      "[[952 162]\n",
      " [ 17 113]]\n",
      "              precision    recall  f1-score   support\n",
      "\n",
      "           0       0.98      0.85      0.91      1114\n",
      "           1       0.41      0.87      0.56       130\n",
      "\n",
      "    accuracy                           0.86      1244\n",
      "   macro avg       0.70      0.86      0.74      1244\n",
      "weighted avg       0.92      0.86      0.88      1244\n",
      "\n"
     ]
    }
   ],
   "source": [
    "# Make predictions on validation dataset\n",
    "model = LinearDiscriminantAnalysis()\n",
    "model.fit(X_train_pca, Y_train_smote)\n",
    "predictions = model.predict(X_validation_pca)\n",
    "\n",
    "# Evaluate predictions\n",
    "print(accuracy_score(Y_validation, predictions))\n",
    "print(confusion_matrix(Y_validation, predictions))\n",
    "print(classification_report(Y_validation, predictions))\n",
    "recall.append(recall_score(Y_validation, predictions))\n",
    "f1.append(f1_score(Y_validation, predictions))"
   ]
  },
  {
   "cell_type": "code",
   "execution_count": 23,
   "metadata": {},
   "outputs": [
    {
     "name": "stdout",
     "output_type": "stream",
     "text": [
      "0.9172025723472669\n",
      "[[1029   85]\n",
      " [  18  112]]\n",
      "              precision    recall  f1-score   support\n",
      "\n",
      "           0       0.98      0.92      0.95      1114\n",
      "           1       0.57      0.86      0.69       130\n",
      "\n",
      "    accuracy                           0.92      1244\n",
      "   macro avg       0.78      0.89      0.82      1244\n",
      "weighted avg       0.94      0.92      0.92      1244\n",
      "\n"
     ]
    }
   ],
   "source": [
    "# Make predictions on validation dataset\n",
    "model = KNeighborsClassifier()\n",
    "model.fit(X_train_pca, Y_train_smote)\n",
    "predictions = model.predict(X_validation_pca)\n",
    "\n",
    "# Evaluate predictions\n",
    "print(accuracy_score(Y_validation, predictions))\n",
    "print(confusion_matrix(Y_validation, predictions))\n",
    "print(classification_report(Y_validation, predictions))\n",
    "recall.append(recall_score(Y_validation, predictions))\n",
    "f1.append(f1_score(Y_validation, predictions))"
   ]
  },
  {
   "cell_type": "code",
   "execution_count": 24,
   "metadata": {},
   "outputs": [
    {
     "name": "stdout",
     "output_type": "stream",
     "text": [
      "0.9115755627009646\n",
      "[[1036   78]\n",
      " [  32   98]]\n",
      "              precision    recall  f1-score   support\n",
      "\n",
      "           0       0.97      0.93      0.95      1114\n",
      "           1       0.56      0.75      0.64       130\n",
      "\n",
      "    accuracy                           0.91      1244\n",
      "   macro avg       0.76      0.84      0.80      1244\n",
      "weighted avg       0.93      0.91      0.92      1244\n",
      "\n"
     ]
    }
   ],
   "source": [
    "# Make predictions on validation dataset\n",
    "model = DecisionTreeClassifier()\n",
    "model.fit(X_train_pca, Y_train_smote)\n",
    "predictions = model.predict(X_validation_pca)\n",
    "\n",
    "# Evaluate predictions\n",
    "print(accuracy_score(Y_validation, predictions))\n",
    "print(confusion_matrix(Y_validation, predictions))\n",
    "print(classification_report(Y_validation, predictions))\n",
    "recall.append(recall_score(Y_validation, predictions))\n",
    "f1.append(f1_score(Y_validation, predictions))"
   ]
  },
  {
   "cell_type": "code",
   "execution_count": 25,
   "metadata": {},
   "outputs": [
    {
     "name": "stdout",
     "output_type": "stream",
     "text": [
      "0.7371382636655949\n",
      "[[793 321]\n",
      " [  6 124]]\n",
      "              precision    recall  f1-score   support\n",
      "\n",
      "           0       0.99      0.71      0.83      1114\n",
      "           1       0.28      0.95      0.43       130\n",
      "\n",
      "    accuracy                           0.74      1244\n",
      "   macro avg       0.64      0.83      0.63      1244\n",
      "weighted avg       0.92      0.74      0.79      1244\n",
      "\n"
     ]
    }
   ],
   "source": [
    "# Make predictions on validation dataset\n",
    "model = RandomForestClassifier(n_estimators=500, max_depth=2, random_state=seed)\n",
    "model.fit(X_train_pca, Y_train_smote)\n",
    "predictions = model.predict(X_validation_pca)\n",
    "\n",
    "# Evaluate predictions\n",
    "print(accuracy_score(Y_validation, predictions))\n",
    "print(confusion_matrix(Y_validation, predictions))\n",
    "print(classification_report(Y_validation, predictions))\n",
    "recall.append(recall_score(Y_validation, predictions))\n",
    "f1.append(f1_score(Y_validation, predictions))"
   ]
  },
  {
   "cell_type": "code",
   "execution_count": 26,
   "metadata": {},
   "outputs": [
    {
     "name": "stdout",
     "output_type": "stream",
     "text": [
      "0.7829581993569131\n",
      "[[860 254]\n",
      " [ 16 114]]\n",
      "              precision    recall  f1-score   support\n",
      "\n",
      "           0       0.98      0.77      0.86      1114\n",
      "           1       0.31      0.88      0.46       130\n",
      "\n",
      "    accuracy                           0.78      1244\n",
      "   macro avg       0.65      0.82      0.66      1244\n",
      "weighted avg       0.91      0.78      0.82      1244\n",
      "\n"
     ]
    }
   ],
   "source": [
    "# Make predictions on validation dataset\n",
    "model = xgb.XGBRFClassifier(random_state=seed)\n",
    "model.fit(X_train_pca, Y_train_smote)\n",
    "predictions = model.predict(X_validation_pca)\n",
    "\n",
    "# Evaluate predictions\n",
    "print(accuracy_score(Y_validation, predictions))\n",
    "print(confusion_matrix(Y_validation, predictions))\n",
    "print(classification_report(Y_validation, predictions))\n",
    "recall.append(recall_score(Y_validation, predictions))\n",
    "f1.append(f1_score(Y_validation, predictions))"
   ]
  },
  {
   "cell_type": "code",
   "execution_count": 27,
   "metadata": {},
   "outputs": [
    {
     "name": "stdout",
     "output_type": "stream",
     "text": [
      "0.8665594855305466\n",
      "[[994 120]\n",
      " [ 46  84]]\n",
      "              precision    recall  f1-score   support\n",
      "\n",
      "           0       0.96      0.89      0.92      1114\n",
      "           1       0.41      0.65      0.50       130\n",
      "\n",
      "    accuracy                           0.87      1244\n",
      "   macro avg       0.68      0.77      0.71      1244\n",
      "weighted avg       0.90      0.87      0.88      1244\n",
      "\n"
     ]
    }
   ],
   "source": [
    "# Make predictions on validation dataset\n",
    "model = GaussianNB()\n",
    "model.fit(X_train_pca, Y_train_smote)\n",
    "predictions = model.predict(X_validation_pca)\n",
    "\n",
    "# Evaluate predictions\n",
    "print(accuracy_score(Y_validation, predictions))\n",
    "print(confusion_matrix(Y_validation, predictions))\n",
    "print(classification_report(Y_validation, predictions))\n",
    "recall.append(recall_score(Y_validation, predictions))\n",
    "f1.append(f1_score(Y_validation, predictions))"
   ]
  },
  {
   "cell_type": "code",
   "execution_count": 28,
   "metadata": {},
   "outputs": [
    {
     "name": "stdout",
     "output_type": "stream",
     "text": [
      "0.9212218649517685\n",
      "[[1034   80]\n",
      " [  18  112]]\n",
      "              precision    recall  f1-score   support\n",
      "\n",
      "           0       0.98      0.93      0.95      1114\n",
      "           1       0.58      0.86      0.70       130\n",
      "\n",
      "    accuracy                           0.92      1244\n",
      "   macro avg       0.78      0.89      0.83      1244\n",
      "weighted avg       0.94      0.92      0.93      1244\n",
      "\n"
     ]
    }
   ],
   "source": [
    "# Make predictions on validation dataset\n",
    "model = SVC(gamma='auto')\n",
    "model.fit(X_train_pca, Y_train_smote)\n",
    "predictions = model.predict(X_validation_pca)\n",
    "\n",
    "# Evaluate predictions\n",
    "print(accuracy_score(Y_validation, predictions))\n",
    "print(confusion_matrix(Y_validation, predictions))\n",
    "print(classification_report(Y_validation, predictions))\n",
    "recall.append(recall_score(Y_validation, predictions))\n",
    "f1.append(f1_score(Y_validation, predictions))"
   ]
  },
  {
   "cell_type": "code",
   "execution_count": 29,
   "metadata": {},
   "outputs": [
    {
     "name": "stdout",
     "output_type": "stream",
     "text": [
      "[0.8923076923076924, 0.6076923076923076, 0.6461538461538462, 0.6615384615384615, 0.05384615384615385, 0.5307692307692308, 0.7076923076923077, 0.5769230769230769, 0.8769230769230769, 0.8692307692307693, 0.8615384615384616, 0.7538461538461538, 0.9538461538461539, 0.8769230769230769, 0.6461538461538462, 0.8615384615384616]\n",
      "[0.5858585858585859, 0.624505928853755, 0.7400881057268723, 0.6666666666666667, 0.10218978102189781, 0.6571428571428571, 0.5679012345679013, 0.6976744186046512, 0.5743073047858942, 0.5580246913580247, 0.6850152905198778, 0.6405228758169935, 0.4313043478260869, 0.4578313253012048, 0.5029940119760479, 0.6956521739130436]\n"
     ]
    }
   ],
   "source": [
    "print(recall)\n",
    "print(f1)"
   ]
  },
  {
   "cell_type": "code",
   "execution_count": null,
   "metadata": {},
   "outputs": [],
   "source": []
  }
 ],
 "metadata": {
  "kernelspec": {
   "display_name": "Python 3",
   "language": "python",
   "name": "python3"
  },
  "language_info": {
   "codemirror_mode": {
    "name": "ipython",
    "version": 3
   },
   "file_extension": ".py",
   "mimetype": "text/x-python",
   "name": "python",
   "nbconvert_exporter": "python",
   "pygments_lexer": "ipython3",
   "version": "3.7.1"
  }
 },
 "nbformat": 4,
 "nbformat_minor": 2
}
