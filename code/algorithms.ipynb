{
 "cells": [
  {
   "cell_type": "code",
   "execution_count": 1,
   "metadata": {},
   "outputs": [],
   "source": [
    "#Ignore 'Future Warnings'\n",
    "import warnings\n",
    "warnings.filterwarnings(\"ignore\", category=FutureWarning)"
   ]
  },
  {
   "cell_type": "markdown",
   "metadata": {},
   "source": [
    "# Set Base for Algorithms"
   ]
  },
  {
   "cell_type": "code",
   "execution_count": 2,
   "metadata": {},
   "outputs": [],
   "source": [
    "#Import Necessary Packages\n",
    "from tqdm import tqdm\n",
    "import pandas as pd\n",
    "import numpy as np\n",
    "import scipy\n",
    "import matplotlib.pyplot as plt\n",
    "import sklearn\n",
    "from imblearn.over_sampling import SMOTE\n",
    "from sklearn.preprocessing import StandardScaler\n",
    "from sklearn.decomposition import PCA\n",
    "from sklearn.tree import DecisionTreeRegressor\n",
    "from sklearn.model_selection import train_test_split\n",
    "from sklearn.model_selection import cross_val_score\n",
    "from sklearn.model_selection import StratifiedKFold\n",
    "from sklearn.metrics import classification_report\n",
    "from sklearn.metrics import confusion_matrix\n",
    "from sklearn.metrics import accuracy_score\n",
    "from sklearn.linear_model import LogisticRegression\n",
    "from sklearn.tree import DecisionTreeClassifier\n",
    "from sklearn.neighbors import KNeighborsClassifier\n",
    "from sklearn.discriminant_analysis import LinearDiscriminantAnalysis\n",
    "from sklearn.naive_bayes import GaussianNB\n",
    "from sklearn.svm import SVC\n",
    "from sklearn.metrics import plot_confusion_matrix\n",
    "from sklearn.ensemble import RandomForestClassifier\n",
    "import xgboost as xgb\n",
    "from sklearn.metrics import recall_score\n",
    "from sklearn.metrics import f1_score"
   ]
  },
  {
   "cell_type": "code",
   "execution_count": 3,
   "metadata": {},
   "outputs": [],
   "source": [
    "#Set Psudeorandom Seed\n",
    "seed = 42"
   ]
  },
  {
   "cell_type": "code",
   "execution_count": 4,
   "metadata": {},
   "outputs": [],
   "source": [
    "#Models to be used\n",
    "models = []\n",
    "models.append(('LR', LogisticRegression(solver='liblinear',multi_class='ovr')))\n",
    "models.append(('LDA', LinearDiscriminantAnalysis()))\n",
    "models.append(('KNN', KNeighborsClassifier()))\n",
    "models.append(('CART', DecisionTreeClassifier()))\n",
    "models.append(('RTREE', RandomForestClassifier(n_estimators=500, max_depth=2, random_state=seed)))\n",
    "models.append(('XTREE', xgb.XGBRFClassifier(random_state=seed)))\n",
    "models.append(('NB', GaussianNB()))\n",
    "models.append(('SVM', SVC(random_state=seed)))\n",
    "\n",
    "methods = []\n",
    "for name, model in models:\n",
    "    methods.append(name)"
   ]
  },
  {
   "cell_type": "markdown",
   "metadata": {},
   "source": [
    "# Assessment of Base Specification"
   ]
  },
  {
   "cell_type": "code",
   "execution_count": 5,
   "metadata": {},
   "outputs": [],
   "source": [
    "# Load dataset\n",
    "files = []\n",
    "\n",
    "files.append(('One Year Base','../data/1y_offset.xlsx'))\n",
    "files.append(('Two Year Base','../data/2y_offset.xlsx'))\n",
    "files.append(('Three Year Base','../data/3y_offset.xlsx'))\n",
    "files.append(('Five Year Base','../data/5y_offset.xlsx'))\n",
    "files.append(('Ten Year Base','../data/10y_offset.xlsx'))"
   ]
  },
  {
   "cell_type": "markdown",
   "metadata": {},
   "source": [
    "## Base Specification"
   ]
  },
  {
   "cell_type": "code",
   "execution_count": 6,
   "metadata": {},
   "outputs": [],
   "source": [
    "df_b_a = pd.DataFrame(methods, columns = ['Algorithm'])\n",
    "df_b_r = pd.DataFrame(methods, columns = ['Algorithm'])\n",
    "df_b_f = pd.DataFrame(methods, columns = ['Algorithm'])"
   ]
  },
  {
   "cell_type": "code",
   "execution_count": 7,
   "metadata": {},
   "outputs": [
    {
     "name": "stderr",
     "output_type": "stream",
     "text": [
      "100%|████████████████████████████████████████████████████████████████████████████████████| 5/5 [00:33<00:00,  6.62s/it]\n"
     ]
    }
   ],
   "source": [
    "for name, file in tqdm(files):\n",
    "    #print('Fitting for '+name)\n",
    "    df = pd.read_excel (file,index_col=0,na_values=['..'])\n",
    "   \n",
    "    accuracy = []\n",
    "    recall = []\n",
    "    f1 = []    \n",
    "    \n",
    "    #Create testing and training sets\n",
    "    array = df.values\n",
    "\n",
    "    #Create X array\n",
    "    X= array[:,4:]\n",
    "\n",
    "    # Standardizing the features\n",
    "    X = StandardScaler().fit_transform(X)\n",
    "\n",
    "    #Create Y array\n",
    "    Y= array[:,3]\n",
    "    Y=Y.astype('int')\n",
    "\n",
    "    #Training/Test Split\n",
    "    X_train, X_test, Y_train, Y_test = train_test_split(X,Y,test_size=0.2,random_state=seed )\n",
    "    #print('Train/Test Split Complete')\n",
    "    \n",
    "    #Impliment SMOTE\n",
    "    sm = SMOTE(random_state = seed) \n",
    "    X_train, Y_train = sm.fit_sample(X_train, Y_train)\n",
    "    #print('oversampling complete')\n",
    "      \n",
    "    for algo, model in models:\n",
    "        model.fit(X_train, Y_train)\n",
    "        predictions = model.predict(X_test)\n",
    "        accuracy.append(round(accuracy_score(Y_test, predictions),2))\n",
    "        recall.append(round(recall_score(Y_test, predictions),2))\n",
    "        f1.append(round(f1_score(Y_test, predictions),2))\n",
    "    df_b_a[name] = accuracy\n",
    "    df_b_r[name] = recall\n",
    "    df_b_f[name] = f1"
   ]
  },
  {
   "cell_type": "markdown",
   "metadata": {},
   "source": [
    "## Base Specification w/ PCA"
   ]
  },
  {
   "cell_type": "code",
   "execution_count": 8,
   "metadata": {},
   "outputs": [],
   "source": [
    "df_bp_a = pd.DataFrame(methods, columns = ['Algorithm'])\n",
    "df_bp_r = pd.DataFrame(methods, columns = ['Algorithm'])\n",
    "df_bp_f = pd.DataFrame(methods, columns = ['Algorithm'])"
   ]
  },
  {
   "cell_type": "code",
   "execution_count": 9,
   "metadata": {},
   "outputs": [
    {
     "name": "stderr",
     "output_type": "stream",
     "text": [
      "100%|████████████████████████████████████████████████████████████████████████████████████| 5/5 [00:35<00:00,  7.08s/it]\n"
     ]
    },
    {
     "data": {
      "image/png": "[encoded data removed]",
      "text/plain": [
       "<Figure size 432x288 with 1 Axes>"
      ]
     },
     "metadata": {
      "needs_background": "light"
     },
     "output_type": "display_data"
    }
   ],
   "source": [
    "for name, file in tqdm(files):\n",
    "    #print('Fitting for '+name)\n",
    "    df = pd.read_excel (file,index_col=0,na_values=['..'])\n",
    "    \n",
    "    accuracy = []\n",
    "    recall = []\n",
    "    f1 = []    \n",
    "    \n",
    "    #Create testing and training sets\n",
    "    array = df.values\n",
    "\n",
    "    #Create X array\n",
    "    X= array[:,4:]\n",
    "\n",
    "    # Standardizing the features\n",
    "    X = StandardScaler().fit_transform(X)\n",
    "\n",
    "    #Create Y array\n",
    "    Y= array[:,3]\n",
    "    Y=Y.astype('int')\n",
    "\n",
    "    #Training/Test Split\n",
    "    X_train, X_test, Y_train, Y_test = train_test_split(X,Y,test_size=0.2,random_state=seed )\n",
    "    #print('Train/Test Split Complete')\n",
    "    \n",
    "    #Impliment SMOTE\n",
    "    sm = SMOTE(random_state = seed) \n",
    "    X_train, Y_train = sm.fit_sample(X_train, Y_train)\n",
    "    #print('oversampling complete')\n",
    "    \n",
    "    pca = PCA().fit(X_train)\n",
    "    plt.plot(np.cumsum(pca.explained_variance_ratio_))\n",
    "    plt.xlabel('number of components')\n",
    "    plt.ylabel('cumulative explained variance');\n",
    "    \n",
    "    pca = PCA(.8)\n",
    "    principalComponents = pca.fit_transform(X_train)\n",
    "    #print('Using '+pca.n_components_+' PCA variables.')\n",
    "    \n",
    "    X_train = pca.fit_transform(X_train)\n",
    "    X_test = pca.transform(X_test)\n",
    "    \n",
    "    for algo, model in models:\n",
    "        model.fit(X_train, Y_train)\n",
    "        predictions = model.predict(X_test)\n",
    "        accuracy.append(round(accuracy_score(Y_test, predictions),2))\n",
    "        recall.append(round(recall_score(Y_test, predictions),2))\n",
    "        f1.append(round(f1_score(Y_test, predictions),2))\n",
    "    df_bp_a[name] = accuracy\n",
    "    df_bp_r[name] = recall\n",
    "    df_bp_f[name] = f1"
   ]
  },
  {
   "cell_type": "markdown",
   "metadata": {},
   "source": [
    "## Base Specification w/ Y/R/C dummies"
   ]
  },
  {
   "cell_type": "code",
   "execution_count": 10,
   "metadata": {},
   "outputs": [],
   "source": [
    "df_bd_a = pd.DataFrame(methods, columns = ['Algorithm'])\n",
    "df_bd_r = pd.DataFrame(methods, columns = ['Algorithm'])\n",
    "df_bd_f = pd.DataFrame(methods, columns = ['Algorithm'])"
   ]
  },
  {
   "cell_type": "code",
   "execution_count": 11,
   "metadata": {},
   "outputs": [
    {
     "name": "stderr",
     "output_type": "stream",
     "text": [
      "100%|████████████████████████████████████████████████████████████████████████████████████| 5/5 [01:40<00:00, 20.11s/it]\n"
     ]
    }
   ],
   "source": [
    "for name, file in tqdm(files):\n",
    "    #print('Fitting for '+name)\n",
    "    df = pd.read_excel (file,index_col=0,na_values=['..'])\n",
    "    \n",
    "    #Creation of Year/Region/Country Dummies\n",
    "    year_dummies = pd.get_dummies(df.year, prefix='year').iloc[:,1:]\n",
    "    region_dummies = pd.get_dummies(df.region, prefix='region').iloc[:,1:]\n",
    "    country_dummies = pd.get_dummies(df.ccode, prefix='country: ').iloc[:,1:]\n",
    "    \n",
    "    df = pd.concat([df, year_dummies, region_dummies, country_dummies], axis = 1)\n",
    "    \n",
    "    accuracy = []\n",
    "    recall = []\n",
    "    f1 = []    \n",
    "    \n",
    "    #Create testing and training sets\n",
    "    array = df.values\n",
    "\n",
    "    #Create X array\n",
    "    X= array[:,4:]\n",
    "\n",
    "    # Standardizing the features\n",
    "    X = StandardScaler().fit_transform(X)\n",
    "\n",
    "    #Create Y array\n",
    "    Y= array[:,3]\n",
    "    Y=Y.astype('int')\n",
    "\n",
    "    #Training/Test Split\n",
    "    X_train, X_test, Y_train, Y_test = train_test_split(X,Y,test_size=0.2,random_state=seed )\n",
    "    #print('Train/Test Split Complete')\n",
    "    \n",
    "    #Impliment SMOTE\n",
    "    sm = SMOTE(random_state = seed) \n",
    "    X_train, Y_train = sm.fit_sample(X_train, Y_train)\n",
    "    #print('oversampling complete')\n",
    "      \n",
    "    for algo, model in models:\n",
    "        model.fit(X_train, Y_train)\n",
    "        predictions = model.predict(X_test)\n",
    "        accuracy.append(round(accuracy_score(Y_test, predictions),2))\n",
    "        recall.append(round(recall_score(Y_test, predictions),2))\n",
    "        f1.append(round(f1_score(Y_test, predictions),2))\n",
    "    df_bd_a[name] = accuracy\n",
    "    df_bd_r[name] = recall\n",
    "    df_bd_f[name] = f1"
   ]
  },
  {
   "cell_type": "markdown",
   "metadata": {},
   "source": [
    "## Base Specification w/ PCA and Y/R/C dummies"
   ]
  },
  {
   "cell_type": "code",
   "execution_count": 12,
   "metadata": {},
   "outputs": [],
   "source": [
    "df_bpd_a = pd.DataFrame(methods, columns = ['Algorithm'])\n",
    "df_bpd_r = pd.DataFrame(methods, columns = ['Algorithm'])\n",
    "df_bpd_f = pd.DataFrame(methods, columns = ['Algorithm'])"
   ]
  },
  {
   "cell_type": "code",
   "execution_count": 13,
   "metadata": {},
   "outputs": [
    {
     "name": "stderr",
     "output_type": "stream",
     "text": [
      "100%|████████████████████████████████████████████████████████████████████████████████████| 5/5 [02:02<00:00, 24.48s/it]\n"
     ]
    },
    {
     "data": {
      "image/png": "[encoded data removed]",
      "text/plain": [
       "<Figure size 432x288 with 1 Axes>"
      ]
     },
     "metadata": {
      "needs_background": "light"
     },
     "output_type": "display_data"
    }
   ],
   "source": [
    "for name, file in tqdm(files):\n",
    "    #print('Fitting for '+name)\n",
    "    df = pd.read_excel (file,index_col=0,na_values=['..'])\n",
    "    \n",
    "    #Creation of Year/Region/Country Dummies\n",
    "    year_dummies = pd.get_dummies(df.year, prefix='year').iloc[:,1:]\n",
    "    region_dummies = pd.get_dummies(df.region, prefix='region').iloc[:,1:]\n",
    "    country_dummies = pd.get_dummies(df.ccode, prefix='country: ').iloc[:,1:]\n",
    "    \n",
    "    df = pd.concat([df, year_dummies, region_dummies, country_dummies], axis = 1)\n",
    "    \n",
    "    accuracy = []\n",
    "    recall = []\n",
    "    f1 = []    \n",
    "    \n",
    "    #Create testing and training sets\n",
    "    array = df.values\n",
    "\n",
    "    #Create X array\n",
    "    X= array[:,4:]\n",
    "\n",
    "    # Standardizing the features\n",
    "    X = StandardScaler().fit_transform(X)\n",
    "\n",
    "    #Create Y array\n",
    "    Y= array[:,3]\n",
    "    Y=Y.astype('int')\n",
    "\n",
    "    #Training/Test Split\n",
    "    X_train, X_test, Y_train, Y_test = train_test_split(X,Y,test_size=0.2,random_state=seed )\n",
    "    #print('Train/Test Split Complete')\n",
    "    \n",
    "    #Impliment SMOTE\n",
    "    sm = SMOTE(random_state = seed) \n",
    "    X_train, Y_train = sm.fit_sample(X_train, Y_train)\n",
    "    #print('oversampling complete')\n",
    "    \n",
    "    pca = PCA().fit(X_train)\n",
    "    plt.plot(np.cumsum(pca.explained_variance_ratio_))\n",
    "    plt.xlabel('number of components')\n",
    "    plt.ylabel('cumulative explained variance');\n",
    "    \n",
    "    pca = PCA(.8)\n",
    "    principalComponents = pca.fit_transform(X_train)\n",
    "    #print('Using '+pca.n_components_+' PCA variables.')\n",
    "    \n",
    "    X_train = pca.fit_transform(X_train)\n",
    "    X_test = pca.transform(X_test)\n",
    "    \n",
    "    for algo, model in models:\n",
    "        model.fit(X_train, Y_train)\n",
    "        predictions = model.predict(X_test)\n",
    "        accuracy.append(round(accuracy_score(Y_test, predictions),2))\n",
    "        recall.append(round(recall_score(Y_test, predictions),2))\n",
    "        f1.append(round(f1_score(Y_test, predictions),2))\n",
    "    df_bpd_a[name] = accuracy\n",
    "    df_bpd_r[name] = recall\n",
    "    df_bpd_f[name] = f1"
   ]
  },
  {
   "cell_type": "markdown",
   "metadata": {},
   "source": [
    "# Assessment of Alternative Specification"
   ]
  },
  {
   "cell_type": "code",
   "execution_count": 14,
   "metadata": {},
   "outputs": [],
   "source": [
    "# Load dataset\n",
    "files = []\n",
    "\n",
    "files.append(('One Year Alt','../data/1a_offset.xlsx'))\n",
    "files.append(('Two Year Alt','../data/2a_offset.xlsx'))\n",
    "files.append(('Three Year Alt','../data/3a_offset.xlsx'))\n",
    "files.append(('Five Year Alt','../data/5a_offset.xlsx'))\n",
    "files.append(('Ten Year Alt','../data/10a_offset.xlsx'))"
   ]
  },
  {
   "cell_type": "markdown",
   "metadata": {},
   "source": [
    "## Alternative Specification"
   ]
  },
  {
   "cell_type": "code",
   "execution_count": 15,
   "metadata": {},
   "outputs": [],
   "source": [
    "df_a_a = pd.DataFrame(methods, columns = ['Algorithm'])\n",
    "df_a_r = pd.DataFrame(methods, columns = ['Algorithm'])\n",
    "df_a_f = pd.DataFrame(methods, columns = ['Algorithm'])"
   ]
  },
  {
   "cell_type": "code",
   "execution_count": 16,
   "metadata": {},
   "outputs": [
    {
     "name": "stderr",
     "output_type": "stream",
     "text": [
      "100%|████████████████████████████████████████████████████████████████████████████████████| 5/5 [00:42<00:00,  8.49s/it]\n"
     ]
    }
   ],
   "source": [
    "for name, file in tqdm(files):\n",
    "    #print('Fitting for '+name)\n",
    "    df = pd.read_excel (file,index_col=0,na_values=['..'])\n",
    "    \n",
    "    accuracy = []\n",
    "    recall = []\n",
    "    f1 = []    \n",
    "    \n",
    "    #Create testing and training sets\n",
    "    array = df.values\n",
    "\n",
    "    #Create X array\n",
    "    X= array[:,4:]\n",
    "\n",
    "    # Standardizing the features\n",
    "    X = StandardScaler().fit_transform(X)\n",
    "\n",
    "    #Create Y array\n",
    "    Y= array[:,3]\n",
    "    Y=Y.astype('int')\n",
    "\n",
    "    #Training/Test Split\n",
    "    X_train, X_test, Y_train, Y_test = train_test_split(X,Y,test_size=0.2,random_state=seed )\n",
    "    #print('Train/Test Split Complete')\n",
    "    \n",
    "    #Impliment SMOTE\n",
    "    sm = SMOTE(random_state = seed) \n",
    "    X_train, Y_train = sm.fit_sample(X_train, Y_train)\n",
    "    #print('oversampling complete')\n",
    "     \n",
    "    for algo, model in models:\n",
    "        model.fit(X_train, Y_train)\n",
    "        predictions = model.predict(X_test)\n",
    "        accuracy.append(round(accuracy_score(Y_test, predictions),2))\n",
    "        recall.append(round(recall_score(Y_test, predictions),2))\n",
    "        f1.append(round(f1_score(Y_test, predictions),2))\n",
    "    df_a_a[name] = accuracy\n",
    "    df_a_r[name] = recall\n",
    "    df_a_f[name] = f1"
   ]
  },
  {
   "cell_type": "markdown",
   "metadata": {},
   "source": [
    "## Alternative Specification w/ PCA"
   ]
  },
  {
   "cell_type": "code",
   "execution_count": 17,
   "metadata": {},
   "outputs": [],
   "source": [
    "df_ap_a = pd.DataFrame(methods, columns = ['Algorithm'])\n",
    "df_ap_r = pd.DataFrame(methods, columns = ['Algorithm'])\n",
    "df_ap_f = pd.DataFrame(methods, columns = ['Algorithm'])"
   ]
  },
  {
   "cell_type": "code",
   "execution_count": 18,
   "metadata": {},
   "outputs": [
    {
     "name": "stderr",
     "output_type": "stream",
     "text": [
      "100%|████████████████████████████████████████████████████████████████████████████████████| 5/5 [00:37<00:00,  7.46s/it]\n"
     ]
    },
    {
     "data": {
      "image/png": "[encoded data removed]",
      "text/plain": [
       "<Figure size 432x288 with 1 Axes>"
      ]
     },
     "metadata": {
      "needs_background": "light"
     },
     "output_type": "display_data"
    }
   ],
   "source": [
    "for name, file in tqdm(files):\n",
    "    #print('Fitting for '+name)\n",
    "    df = pd.read_excel (file,index_col=0,na_values=['..'])\n",
    "     \n",
    "    accuracy = []\n",
    "    recall = []\n",
    "    f1 = []    \n",
    "    \n",
    "    #Create testing and training sets\n",
    "    array = df.values\n",
    "\n",
    "    #Create X array\n",
    "    X= array[:,4:]\n",
    "\n",
    "    # Standardizing the features\n",
    "    X = StandardScaler().fit_transform(X)\n",
    "\n",
    "    #Create Y array\n",
    "    Y= array[:,3]\n",
    "    Y=Y.astype('int')\n",
    "\n",
    "    #Training/Test Split\n",
    "    X_train, X_test, Y_train, Y_test = train_test_split(X,Y,test_size=0.2,random_state=seed )\n",
    "    #print('Train/Test Split Complete')\n",
    "    \n",
    "    #Impliment SMOTE\n",
    "    sm = SMOTE(random_state = seed) \n",
    "    X_train, Y_train = sm.fit_sample(X_train, Y_train)\n",
    "    #print('oversampling complete')\n",
    "    \n",
    "    pca = PCA().fit(X_train)\n",
    "    plt.plot(np.cumsum(pca.explained_variance_ratio_))\n",
    "    plt.xlabel('number of components')\n",
    "    plt.ylabel('cumulative explained variance');\n",
    "    \n",
    "    pca = PCA(.8)\n",
    "    principalComponents = pca.fit_transform(X_train)\n",
    "    #print('Using '+pca.n_components_+' PCA variables.')\n",
    "    \n",
    "    X_train = pca.fit_transform(X_train)\n",
    "    X_test = pca.transform(X_test)\n",
    "    \n",
    "    for algo, model in models:\n",
    "        model.fit(X_train, Y_train)\n",
    "        predictions = model.predict(X_test)\n",
    "        accuracy.append(round(accuracy_score(Y_test, predictions),2))\n",
    "        recall.append(round(recall_score(Y_test, predictions),2))\n",
    "        f1.append(round(f1_score(Y_test, predictions),2))\n",
    "    df_ap_a[name] = accuracy\n",
    "    df_ap_r[name] = recall\n",
    "    df_ap_f[name] = f1"
   ]
  },
  {
   "cell_type": "markdown",
   "metadata": {},
   "source": [
    "## Alternative Specification w/ Y/R/C dummies"
   ]
  },
  {
   "cell_type": "code",
   "execution_count": 19,
   "metadata": {},
   "outputs": [],
   "source": [
    "df_ad_a = pd.DataFrame(methods, columns = ['Algorithm'])\n",
    "df_ad_r = pd.DataFrame(methods, columns = ['Algorithm'])\n",
    "df_ad_f = pd.DataFrame(methods, columns = ['Algorithm'])"
   ]
  },
  {
   "cell_type": "code",
   "execution_count": 20,
   "metadata": {},
   "outputs": [
    {
     "name": "stderr",
     "output_type": "stream",
     "text": [
      "100%|████████████████████████████████████████████████████████████████████████████████████| 5/5 [01:44<00:00, 20.93s/it]\n"
     ]
    }
   ],
   "source": [
    "for name, file in tqdm(files):\n",
    "    #print('Fitting for '+name)\n",
    "    df = pd.read_excel (file,index_col=0,na_values=['..'])\n",
    "    \n",
    "    #Creation of Year/Region/Country Dummies\n",
    "    year_dummies = pd.get_dummies(df.year, prefix='year').iloc[:,1:]\n",
    "    region_dummies = pd.get_dummies(df.region, prefix='region').iloc[:,1:]\n",
    "    country_dummies = pd.get_dummies(df.ccode, prefix='country: ').iloc[:,1:]\n",
    "    \n",
    "    df = pd.concat([df, year_dummies, region_dummies, country_dummies], axis = 1)\n",
    "    \n",
    "    accuracy = []\n",
    "    recall = []\n",
    "    f1 = []    \n",
    "    \n",
    "    #Create testing and training sets\n",
    "    array = df.values\n",
    "\n",
    "    #Create X array\n",
    "    X= array[:,4:]\n",
    "\n",
    "    # Standardizing the features\n",
    "    X = StandardScaler().fit_transform(X)\n",
    "\n",
    "    #Create Y array\n",
    "    Y= array[:,3]\n",
    "    Y=Y.astype('int')\n",
    "\n",
    "    #Training/Test Split\n",
    "    X_train, X_test, Y_train, Y_test = train_test_split(X,Y,test_size=0.2,random_state=seed )\n",
    "    #print('Train/Test Split Complete')\n",
    "    \n",
    "    #Impliment SMOTE\n",
    "    sm = SMOTE(random_state = seed) \n",
    "    X_train, Y_train = sm.fit_sample(X_train, Y_train)\n",
    "    #print('oversampling complete')\n",
    "    \n",
    "    for algo, model in models:\n",
    "        model.fit(X_train, Y_train)\n",
    "        predictions = model.predict(X_test)\n",
    "        accuracy.append(round(accuracy_score(Y_test, predictions),2))\n",
    "        recall.append(round(recall_score(Y_test, predictions),2))\n",
    "        f1.append(round(f1_score(Y_test, predictions),2))\n",
    "    df_ad_a[name] = accuracy\n",
    "    df_ad_r[name] = recall\n",
    "    df_ad_f[name] = f1"
   ]
  },
  {
   "cell_type": "markdown",
   "metadata": {},
   "source": [
    "## Alternative Specification w/ Y/R/C dummies and PCA"
   ]
  },
  {
   "cell_type": "code",
   "execution_count": 21,
   "metadata": {},
   "outputs": [],
   "source": [
    "df_apd_a = pd.DataFrame(methods, columns = ['Algorithm'])\n",
    "df_apd_r = pd.DataFrame(methods, columns = ['Algorithm'])\n",
    "df_apd_f = pd.DataFrame(methods, columns = ['Algorithm'])"
   ]
  },
  {
   "cell_type": "code",
   "execution_count": 22,
   "metadata": {},
   "outputs": [
    {
     "name": "stderr",
     "output_type": "stream",
     "text": [
      "100%|████████████████████████████████████████████████████████████████████████████████████| 5/5 [02:16<00:00, 27.23s/it]\n"
     ]
    },
    {
     "data": {
      "image/png": "[encoded data removed]",
      "text/plain": [
       "<Figure size 432x288 with 1 Axes>"
      ]
     },
     "metadata": {
      "needs_background": "light"
     },
     "output_type": "display_data"
    }
   ],
   "source": [
    "for name, file in tqdm(files):\n",
    "    #print('Fitting for '+name)\n",
    "    df = pd.read_excel (file,index_col=0,na_values=['..'])\n",
    "    \n",
    "    #Creation of Year/Region/Country Dummies\n",
    "    year_dummies = pd.get_dummies(df.year, prefix='year').iloc[:,1:]\n",
    "    region_dummies = pd.get_dummies(df.region, prefix='region').iloc[:,1:]\n",
    "    country_dummies = pd.get_dummies(df.ccode, prefix='country: ').iloc[:,1:]\n",
    "    \n",
    "    df = pd.concat([df, year_dummies, region_dummies, country_dummies], axis = 1)\n",
    "    \n",
    "    accuracy = []\n",
    "    recall = []\n",
    "    f1 = []    \n",
    "    \n",
    "    #Create testing and training sets\n",
    "    array = df.values\n",
    "\n",
    "    #Create X array\n",
    "    X= array[:,4:]\n",
    "\n",
    "    # Standardizing the features\n",
    "    X = StandardScaler().fit_transform(X)\n",
    "\n",
    "    #Create Y array\n",
    "    Y= array[:,3]\n",
    "    Y=Y.astype('int')\n",
    "\n",
    "    #Training/Test Split\n",
    "    X_train, X_test, Y_train, Y_test = train_test_split(X,Y,test_size=0.2,random_state=seed )\n",
    "    #print('Train/Test Split Complete')\n",
    "    \n",
    "    #Impliment SMOTE\n",
    "    sm = SMOTE(random_state = seed) \n",
    "    X_train, Y_train = sm.fit_sample(X_train, Y_train)\n",
    "    #print('oversampling complete')\n",
    "    \n",
    "    pca = PCA().fit(X_train)\n",
    "    plt.plot(np.cumsum(pca.explained_variance_ratio_))\n",
    "    plt.xlabel('number of components')\n",
    "    plt.ylabel('cumulative explained variance');\n",
    "    \n",
    "    pca = PCA(.8)\n",
    "    principalComponents = pca.fit_transform(X_train)\n",
    "    #print('Using '+pca.n_components_+' PCA variables.')\n",
    "    \n",
    "    X_train = pca.fit_transform(X_train)\n",
    "    X_test = pca.transform(X_test)\n",
    "    \n",
    "    for algo, model in models:\n",
    "        model.fit(X_train, Y_train)\n",
    "        predictions = model.predict(X_test)\n",
    "        accuracy.append(round(accuracy_score(Y_test, predictions),2))\n",
    "        recall.append(round(recall_score(Y_test, predictions),2))\n",
    "        f1.append(round(f1_score(Y_test, predictions),2))\n",
    "    df_apd_a[name] = accuracy\n",
    "    df_apd_r[name] = recall\n",
    "    df_apd_f[name] = f1"
   ]
  },
  {
   "cell_type": "markdown",
   "metadata": {},
   "source": [
    "# Assessment of Conflict Type on Alternative Specification"
   ]
  },
  {
   "cell_type": "code",
   "execution_count": 23,
   "metadata": {},
   "outputs": [],
   "source": [
    "files = []\n",
    "\n",
    "files.append(('State Based','../data/con_1.xlsx'))\n",
    "files.append(('Non State','../data/con_2.xlsx'))\n",
    "files.append(('One Sided','../data/con_3.xlsx'))"
   ]
  },
  {
   "cell_type": "markdown",
   "metadata": {},
   "source": [
    "## Con Type Specification"
   ]
  },
  {
   "cell_type": "code",
   "execution_count": 24,
   "metadata": {},
   "outputs": [],
   "source": [
    "df_c_a = pd.DataFrame(methods, columns = ['Algorithm'])\n",
    "df_c_r = pd.DataFrame(methods, columns = ['Algorithm'])\n",
    "df_c_f = pd.DataFrame(methods, columns = ['Algorithm'])"
   ]
  },
  {
   "cell_type": "code",
   "execution_count": 25,
   "metadata": {},
   "outputs": [
    {
     "name": "stderr",
     "output_type": "stream",
     "text": [
      "100%|████████████████████████████████████████████████████████████████████████████████████| 3/3 [00:31<00:00, 10.39s/it]\n"
     ]
    }
   ],
   "source": [
    "for name, file in tqdm(files):\n",
    "    #print('Fitting for '+name)\n",
    "    df = pd.read_excel (file,index_col=0,na_values=['..'])\n",
    " \n",
    "    accuracy = []\n",
    "    recall = []\n",
    "    f1 = []    \n",
    "    \n",
    "    #Create testing and training sets\n",
    "    array = df.values\n",
    "\n",
    "    #Create X array\n",
    "    X= array[:,4:]\n",
    "\n",
    "    # Standardizing the features\n",
    "    X = StandardScaler().fit_transform(X)\n",
    "\n",
    "    #Create Y array\n",
    "    Y= array[:,3]\n",
    "    Y=Y.astype('int')\n",
    "\n",
    "    #Training/Test Split\n",
    "    X_train, X_test, Y_train, Y_test = train_test_split(X,Y,test_size=0.2,random_state=seed )\n",
    "    #print('Train/Test Split Complete')\n",
    "    \n",
    "    #Impliment SMOTE\n",
    "    sm = SMOTE(random_state = seed) \n",
    "    X_train, Y_train = sm.fit_sample(X_train, Y_train)\n",
    "    #print('oversampling complete')\n",
    " \n",
    "    for algo, model in models:\n",
    "        model.fit(X_train, Y_train)\n",
    "        predictions = model.predict(X_test)\n",
    "        accuracy.append(round(accuracy_score(Y_test, predictions),2))\n",
    "        recall.append(round(recall_score(Y_test, predictions),2))\n",
    "        f1.append(round(f1_score(Y_test, predictions),2))\n",
    "    df_c_a[name] = accuracy\n",
    "    df_c_r[name] = recall\n",
    "    df_c_f[name] = f1"
   ]
  },
  {
   "cell_type": "markdown",
   "metadata": {},
   "source": [
    "## Con Type Specification w/  PCA"
   ]
  },
  {
   "cell_type": "code",
   "execution_count": 26,
   "metadata": {},
   "outputs": [],
   "source": [
    "df_cp_a = pd.DataFrame(methods, columns = ['Algorithm'])\n",
    "df_cp_r = pd.DataFrame(methods, columns = ['Algorithm'])\n",
    "df_cp_f = pd.DataFrame(methods, columns = ['Algorithm'])"
   ]
  },
  {
   "cell_type": "code",
   "execution_count": 27,
   "metadata": {},
   "outputs": [
    {
     "name": "stderr",
     "output_type": "stream",
     "text": [
      "100%|████████████████████████████████████████████████████████████████████████████████████| 3/3 [00:25<00:00,  8.44s/it]\n"
     ]
    },
    {
     "data": {
      "image/png": "[encoded data removed]",
      "text/plain": [
       "<Figure size 432x288 with 1 Axes>"
      ]
     },
     "metadata": {
      "needs_background": "light"
     },
     "output_type": "display_data"
    }
   ],
   "source": [
    "for name, file in tqdm(files):\n",
    "    #print('Fitting for '+name)\n",
    "    df = pd.read_excel (file,index_col=0,na_values=['..'])\n",
    "\n",
    "    accuracy = []\n",
    "    recall = []\n",
    "    f1 = []    \n",
    "    \n",
    "    #Create testing and training sets\n",
    "    array = df.values\n",
    "\n",
    "    #Create X array\n",
    "    X= array[:,4:]\n",
    "\n",
    "    # Standardizing the features\n",
    "    X = StandardScaler().fit_transform(X)\n",
    "\n",
    "    #Create Y array\n",
    "    Y= array[:,3]\n",
    "    Y=Y.astype('int')\n",
    "\n",
    "    #Training/Test Split\n",
    "    X_train, X_test, Y_train, Y_test = train_test_split(X,Y,test_size=0.2,random_state=seed )\n",
    "    #print('Train/Test Split Complete')\n",
    "    \n",
    "    #Impliment SMOTE\n",
    "    sm = SMOTE(random_state = seed) \n",
    "    X_train, Y_train = sm.fit_sample(X_train, Y_train)\n",
    "    #print('oversampling complete')\n",
    "    \n",
    "    pca = PCA().fit(X_train)\n",
    "    plt.plot(np.cumsum(pca.explained_variance_ratio_))\n",
    "    plt.xlabel('number of components')\n",
    "    plt.ylabel('cumulative explained variance');\n",
    "    \n",
    "    pca = PCA(.8)\n",
    "    principalComponents = pca.fit_transform(X_train)\n",
    "    #print('Using '+pca.n_components_+' PCA variables.')\n",
    "    \n",
    "    X_train = pca.fit_transform(X_train)\n",
    "    X_test = pca.transform(X_test)\n",
    "    \n",
    "    for algo, model in models:\n",
    "        model.fit(X_train, Y_train)\n",
    "        predictions = model.predict(X_test)\n",
    "        accuracy.append(round(accuracy_score(Y_test, predictions),2))\n",
    "        recall.append(round(recall_score(Y_test, predictions),2))\n",
    "        f1.append(round(f1_score(Y_test, predictions),2))\n",
    "    df_cp_a[name] = accuracy\n",
    "    df_cp_r[name] = recall\n",
    "    df_cp_f[name] = f1"
   ]
  },
  {
   "cell_type": "markdown",
   "metadata": {},
   "source": [
    "## Con Type Specification w/ Y/R/C"
   ]
  },
  {
   "cell_type": "code",
   "execution_count": 28,
   "metadata": {},
   "outputs": [],
   "source": [
    "df_cd_a = pd.DataFrame(methods, columns = ['Algorithm'])\n",
    "df_cd_r = pd.DataFrame(methods, columns = ['Algorithm'])\n",
    "df_cd_f = pd.DataFrame(methods, columns = ['Algorithm'])"
   ]
  },
  {
   "cell_type": "code",
   "execution_count": 29,
   "metadata": {},
   "outputs": [
    {
     "name": "stderr",
     "output_type": "stream",
     "text": [
      "100%|████████████████████████████████████████████████████████████████████████████████████| 3/3 [01:18<00:00, 26.18s/it]\n"
     ]
    }
   ],
   "source": [
    "for name, file in tqdm(files):\n",
    "    #print('Fitting for '+name)\n",
    "    df = pd.read_excel (file,index_col=0,na_values=['..'])\n",
    "    \n",
    "    #Creation of Year/Region/Country Dummies\n",
    "    year_dummies = pd.get_dummies(df.year, prefix='year').iloc[:,1:]\n",
    "    region_dummies = pd.get_dummies(df.region, prefix='region').iloc[:,1:]\n",
    "    country_dummies = pd.get_dummies(df.ccode, prefix='country: ').iloc[:,1:]\n",
    "    \n",
    "    df = pd.concat([df, year_dummies, region_dummies, country_dummies], axis = 1)\n",
    "    \n",
    "    accuracy = []\n",
    "    recall = []\n",
    "    f1 = []    \n",
    "    \n",
    "    #Create testing and training sets\n",
    "    array = df.values\n",
    "\n",
    "    #Create X array\n",
    "    X= array[:,4:]\n",
    "\n",
    "    # Standardizing the features\n",
    "    X = StandardScaler().fit_transform(X)\n",
    "\n",
    "    #Create Y array\n",
    "    Y= array[:,3]\n",
    "    Y=Y.astype('int')\n",
    "\n",
    "    #Training/Test Split\n",
    "    X_train, X_test, Y_train, Y_test = train_test_split(X,Y,test_size=0.2,random_state=seed )\n",
    "    #print('Train/Test Split Complete')\n",
    "    \n",
    "    #Impliment SMOTE\n",
    "    sm = SMOTE(random_state = seed) \n",
    "    X_train, Y_train = sm.fit_sample(X_train, Y_train)\n",
    "    #print('oversampling complete')\n",
    "    \n",
    "    for algo, model in models:\n",
    "        model.fit(X_train, Y_train)\n",
    "        predictions = model.predict(X_test)\n",
    "        accuracy.append(round(accuracy_score(Y_test, predictions),2))\n",
    "        recall.append(round(recall_score(Y_test, predictions),2))\n",
    "        f1.append(round(f1_score(Y_test, predictions),2))\n",
    "    df_cd_a[name] = accuracy\n",
    "    df_cd_r[name] = recall\n",
    "    df_cd_f[name] = f1"
   ]
  },
  {
   "cell_type": "markdown",
   "metadata": {},
   "source": [
    "## Con Type Specification w/ Y/R/C dummies and PCA"
   ]
  },
  {
   "cell_type": "code",
   "execution_count": 30,
   "metadata": {},
   "outputs": [],
   "source": [
    "df_cpd_a = pd.DataFrame(methods, columns = ['Algorithm'])\n",
    "df_cpd_r = pd.DataFrame(methods, columns = ['Algorithm'])\n",
    "df_cpd_f = pd.DataFrame(methods, columns = ['Algorithm'])"
   ]
  },
  {
   "cell_type": "code",
   "execution_count": 31,
   "metadata": {},
   "outputs": [
    {
     "name": "stderr",
     "output_type": "stream",
     "text": [
      "100%|████████████████████████████████████████████████████████████████████████████████████| 3/3 [01:31<00:00, 30.64s/it]\n"
     ]
    },
    {
     "data": {
      "image/png": "[encoded data removed]",
      "text/plain": [
       "<Figure size 432x288 with 1 Axes>"
      ]
     },
     "metadata": {
      "needs_background": "light"
     },
     "output_type": "display_data"
    }
   ],
   "source": [
    "for name, file in tqdm(files):\n",
    "    #print('Fitting for '+name)\n",
    "    df = pd.read_excel (file,index_col=0,na_values=['..'])\n",
    "    \n",
    "    #Creation of Year/Region/Country Dummies\n",
    "    year_dummies = pd.get_dummies(df.year, prefix='year').iloc[:,1:]\n",
    "    region_dummies = pd.get_dummies(df.region, prefix='region').iloc[:,1:]\n",
    "    country_dummies = pd.get_dummies(df.ccode, prefix='country: ').iloc[:,1:]\n",
    "    \n",
    "    df = pd.concat([df, year_dummies, region_dummies, country_dummies], axis = 1)\n",
    "    \n",
    "    accuracy = []\n",
    "    recall = []\n",
    "    f1 = []    \n",
    "    \n",
    "    #Create testing and training sets\n",
    "    array = df.values\n",
    "\n",
    "    #Create X array\n",
    "    X= array[:,4:]\n",
    "\n",
    "    # Standardizing the features\n",
    "    X = StandardScaler().fit_transform(X)\n",
    "\n",
    "    #Create Y array\n",
    "    Y= array[:,3]\n",
    "    Y=Y.astype('int')\n",
    "\n",
    "    #Training/Test Split\n",
    "    X_train, X_test, Y_train, Y_test = train_test_split(X,Y,test_size=0.2,random_state=seed )\n",
    "    #print('Train/Test Split Complete')\n",
    "    \n",
    "    #Impliment SMOTE\n",
    "    sm = SMOTE(random_state = seed) \n",
    "    X_train, Y_train = sm.fit_sample(X_train, Y_train)\n",
    "    #print('oversampling complete')\n",
    "    \n",
    "    pca = PCA().fit(X_train)\n",
    "    plt.plot(np.cumsum(pca.explained_variance_ratio_))\n",
    "    plt.xlabel('number of components')\n",
    "    plt.ylabel('cumulative explained variance');\n",
    "    \n",
    "    pca = PCA(.8)\n",
    "    principalComponents = pca.fit_transform(X_train)\n",
    "    #print('Using '+pca.n_components_+' PCA variables.')\n",
    "    \n",
    "    X_train = pca.fit_transform(X_train)\n",
    "    X_test = pca.transform(X_test)\n",
    "    \n",
    "    for algo, model in models:\n",
    "        model.fit(X_train, Y_train)\n",
    "        predictions = model.predict(X_test)\n",
    "        accuracy.append(round(accuracy_score(Y_test, predictions),2))\n",
    "        recall.append(round(recall_score(Y_test, predictions),2))\n",
    "        f1.append(round(f1_score(Y_test, predictions),2))\n",
    "    df_cpd_a[name] = accuracy\n",
    "    df_cpd_r[name] = recall\n",
    "    df_cpd_f[name] = f1"
   ]
  },
  {
   "cell_type": "code",
   "execution_count": 33,
   "metadata": {},
   "outputs": [],
   "source": [
    "#save to excel file\n",
    "\n",
    "df_b_a.to_excel('../data/b_a.xlsx')\n",
    "df_b_r.to_excel('../data/b_r.xlsx')\n",
    "df_b_f.to_excel('../data/b_f.xlsx')\n",
    "\n",
    "df_a_a.to_excel('../data/a_a.xlsx')\n",
    "df_a_r.to_excel('../data/a_r.xlsx')\n",
    "df_a_f.to_excel('../data/a_f.xlsx')\n",
    "\n",
    "df_c_a.to_excel('../data/c_a.xlsx')\n",
    "df_c_r.to_excel('../data/c_r.xlsx')\n",
    "df_c_f.to_excel('../data/c_f.xlsx')\n",
    "\n",
    "df_bp_a.to_excel('../data/bp_a.xlsx')\n",
    "df_bp_r.to_excel('../data/bp_r.xlsx')\n",
    "df_bp_f.to_excel('../data/bp_f.xlsx')\n",
    "\n",
    "df_ap_a.to_excel('../data/ap_a.xlsx')\n",
    "df_ap_r.to_excel('../data/ap_r.xlsx')\n",
    "df_ap_f.to_excel('../data/ap_f.xlsx')\n",
    "\n",
    "df_cp_a.to_excel('../data/cp_a.xlsx')\n",
    "df_cp_r.to_excel('../data/cp_r.xlsx')\n",
    "df_cp_f.to_excel('../data/cp_f.xlsx')\n",
    "\n",
    "df_bd_a.to_excel('../data/bd_a.xlsx')\n",
    "df_bd_r.to_excel('../data/bd_r.xlsx')\n",
    "df_bd_f.to_excel('../data/bd_f.xlsx')\n",
    "\n",
    "df_ad_a.to_excel('../data/ad_a.xlsx')\n",
    "df_ad_r.to_excel('../data/ad_r.xlsx')\n",
    "df_ad_f.to_excel('../data/ad_f.xlsx')\n",
    "\n",
    "df_cd_a.to_excel('../data/cd_a.xlsx')\n",
    "df_cd_r.to_excel('../data/cd_r.xlsx')\n",
    "df_cd_f.to_excel('../data/cd_f.xlsx')\n",
    "\n",
    "df_bpd_a.to_excel('../data/bpd_a.xlsx')\n",
    "df_bpd_r.to_excel('../data/bpd_r.xlsx')\n",
    "df_bpd_f.to_excel('../data/bpd_f.xlsx')\n",
    "\n",
    "df_apd_a.to_excel('../data/apd_a.xlsx')\n",
    "df_apd_r.to_excel('../data/apd_r.xlsx')\n",
    "df_apd_f.to_excel('../data/apd_f.xlsx')\n",
    "\n",
    "df_cpd_a.to_excel('../data/cpd_a.xlsx')\n",
    "df_cpd_r.to_excel('../data/cpd_r.xlsx')\n",
    "df_cpd_f.to_excel('../data/cpd_f.xlsx')"
   ]
  },
  {
   "cell_type": "code",
   "execution_count": null,
   "metadata": {},
   "outputs": [],
   "source": []
  }
 ],
 "metadata": {
  "kernelspec": {
   "display_name": "Python 3",
   "language": "python",
   "name": "python3"
  },
  "language_info": {
   "codemirror_mode": {
    "name": "ipython",
    "version": 3
   },
   "file_extension": ".py",
   "mimetype": "text/x-python",
   "name": "python",
   "nbconvert_exporter": "python",
   "pygments_lexer": "ipython3",
   "version": "3.7.1"
  }
 },
 "nbformat": 4,
 "nbformat_minor": 4
}
